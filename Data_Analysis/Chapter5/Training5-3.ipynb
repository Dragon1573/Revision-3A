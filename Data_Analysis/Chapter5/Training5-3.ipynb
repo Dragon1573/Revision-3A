{
 "cells": [
  {
   "cell_type": "markdown",
   "metadata": {},
   "source": [
    "# 第5章　使用 `pandas` 进行数据预处理\n",
    "\n",
    "## 实训3　标准化建模专家样本数据\n",
    "\n",
    "1. 训练要点\n",
    "\n",
    "    1. 掌握数据标准化的原理。\n",
    "    2. 掌握数据标准化的方法。\n",
    "\n",
    "2. 需求说明\n",
    "\n",
    "    &emsp;&emsp;算法的种类非常多，一旦设计空间距离计算、梯度下降等，就必须进行标准化处理。对线路线损特征、线路用电量趋势下降特征、线路告警特征进行标准化。\n",
    "\n",
    "3. 实现思路及步骤\n",
    "\n",
    "    1. 读取 `model.csv` 数据。\n",
    "    2. 定义标准差标准化函数。\n",
    "    3. 使用函数分别对3列数据进行标准化。\n",
    "    4. 查看标准化后的数据。"
   ]
  },
  {
   "cell_type": "code",
   "execution_count": 1,
   "metadata": {},
   "outputs": [],
   "source": [
    "# 读取数据\n",
    "import numpy\n",
    "import pandas\n",
    "data = pandas.read_csv('data/model.csv', sep=',', encoding='gbk')"
   ]
  },
  {
   "cell_type": "code",
   "execution_count": 2,
   "metadata": {},
   "outputs": [],
   "source": [
    "# 标准差标准化\n",
    "def stdization(frame):\n",
    "    frame = (frame - frame.mean()) / frame.std()\n",
    "    return frame\n",
    "data['电量趋势下降指标'] = stdization(data['电量趋势下降指标'])\n",
    "data['线损指标'] = stdization(data['线损指标'])\n",
    "data['告警类指标'] = stdization(data['告警类指标'])\n",
    "data['是否窃漏电'] = stdization(data['是否窃漏电'])"
   ]
  },
  {
   "cell_type": "code",
   "execution_count": 3,
   "metadata": {},
   "outputs": [
    {
     "name": "stdout",
     "output_type": "stream",
     "text": [
      "标准化后的数据为：\n",
      "     电量趋势下降指标      线损指标     告警类指标     是否窃漏电\n",
      "0    0.612777  0.974549 -0.161216  2.500687\n",
      "1    0.612777 -1.022590  2.653616  2.500687\n",
      "2   -0.343352  0.974549 -0.161216  2.500687\n",
      "3    3.003099 -1.022590 -1.099494 -0.398516\n",
      "4    0.134712  0.974549 -1.099494 -0.398516\n",
      "..        ...       ...       ...       ...\n",
      "295       NaN       NaN       NaN       NaN\n",
      "296       NaN       NaN       NaN       NaN\n",
      "297       NaN       NaN       NaN       NaN\n",
      "298       NaN       NaN       NaN       NaN\n",
      "299       NaN       NaN       NaN       NaN\n",
      "\n",
      "[300 rows x 4 columns]\n"
     ]
    }
   ],
   "source": [
    "print('标准化后的数据为：', data, sep='\\n')"
   ]
  }
 ],
 "metadata": {
  "kernelspec": {
   "display_name": "Python 3",
   "language": "python",
   "name": "python3"
  },
  "language_info": {
   "codemirror_mode": {
    "name": "ipython",
    "version": 3
   },
   "file_extension": ".py",
   "mimetype": "text/x-python",
   "name": "python",
   "nbconvert_exporter": "python",
   "pygments_lexer": "ipython3",
   "version": "3.7.4"
  }
 },
 "nbformat": 4,
 "nbformat_minor": 4
}
