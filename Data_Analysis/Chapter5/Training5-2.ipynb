{
 "cells": [
  {
   "cell_type": "markdown",
   "metadata": {},
   "source": [
    "# 第5章　使用 `pandas` 进行数据预处理\n",
    "\n",
    "# 实训2　合并线损、用电量趋势与线路告警数据\n",
    "\n",
    "1. 训练要点\n",
    "\n",
    "    1. 掌握逐渐合并的几种方法。\n",
    "    2. 掌握多个键值的主键合并。\n",
    "\n",
    "2. 需求说明\n",
    "\n",
    "    &emsp;&emsp;线路线损数据、用户用电量趋势下降数据和线路告警数据是识别用户窃漏电与否的3个重要特征，需要对由线路编号（`ID`）和时间（`date`）两个键值构成的主键进行合并。\n",
    "\n",
    "3. 实现思路及步骤\n",
    "\n",
    "    1. 读取 `ele_loss.csv` 和 `alarm.csv` 表。\n",
    "    2. 查看两表的形状。\n",
    "    3. 以 `ID` 和 `date` 两个键值作为主键进行内连接。\n",
    "    4. 查看合并后的数据"
   ]
  },
  {
   "cell_type": "code",
   "execution_count": 1,
   "metadata": {},
   "outputs": [],
   "source": [
    "# 读取数据\n",
    "import numpy\n",
    "import pandas\n",
    "loss = pandas.read_csv('data/ele_loss.csv', encoding='gbk')\n",
    "alarm = pandas.read_csv('data/alarm.csv', encoding='gbk')"
   ]
  },
  {
   "cell_type": "code",
   "execution_count": 2,
   "metadata": {},
   "outputs": [
    {
     "name": "stdout",
     "output_type": "stream",
     "text": [
      "ele_loss.csv形状为： (49, 4)\n",
      "alarm.csv形状为： (25, 3)\n"
     ]
    }
   ],
   "source": [
    "print('ele_loss.csv形状为：', loss.shape)\n",
    "print('alarm.csv形状为：', alarm.shape)"
   ]
  },
  {
   "cell_type": "code",
   "execution_count": 3,
   "metadata": {},
   "outputs": [],
   "source": [
    "connected = pandas.merge(loss, alarm, how='inner', on=['ID', 'date'])"
   ]
  },
  {
   "cell_type": "code",
   "execution_count": 4,
   "metadata": {},
   "outputs": [
    {
     "name": "stdout",
     "output_type": "stream",
     "text": [
      "         ID       date    ele      loss    alarm\n",
      "0  21261001   2010/9/3  858.0  0.151048    电流不平衡\n",
      "1  21261001   2010/9/6  883.5  0.162778  C相电流过负荷\n",
      "2  21261001  2010/9/16  915.5  0.162028  C相电流过负荷\n",
      "3  21261001  2010/9/16  915.5  0.162028  C相电流过负荷\n",
      "4  21261001  2010/9/17  961.0  0.166650  A相电流过负荷\n",
      "5  21261001  2010/9/17  961.0  0.166650    电流不平衡\n"
     ]
    }
   ],
   "source": [
    "print(connected)"
   ]
  }
 ],
 "metadata": {
  "kernelspec": {
   "display_name": "Python 3",
   "language": "python",
   "name": "python3"
  },
  "language_info": {
   "codemirror_mode": {
    "name": "ipython",
    "version": 3
   },
   "file_extension": ".py",
   "mimetype": "text/x-python",
   "name": "python",
   "nbconvert_exporter": "python",
   "pygments_lexer": "ipython3",
   "version": "3.7.4"
  }
 },
 "nbformat": 4,
 "nbformat_minor": 4
}
