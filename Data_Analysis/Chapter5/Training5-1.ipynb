{
 "cells": [
  {
   "cell_type": "markdown",
   "metadata": {},
   "source": [
    "# 第5章　使用 `pandas` 进行数据预处理\n",
    "\n",
    "## 实训1　插补用户用电量数据缺失值\n",
    "\n",
    "1. 训练要点\n",
    "\n",
    "    1. 掌握缺失值识别方法。\n",
    "    2. 掌握对缺失值数据处理的方法。\n",
    "\n",
    "2. 需求说明\n",
    "\n",
    "    &emsp;&emsp;用户用电量数据呈现一定的周期性关系， `missing_data.csv` 表中存放了用户A、用户B和用户C的用电量数据，其中存在缺失值，需要进行缺失值插补才能进行下一步分析。\n",
    "\n",
    "3. 实现思路及步骤\n",
    "\n",
    "    1. 读取 `missing_data.csv` 表中的数据。\n",
    "    2. 查询缺失值所在位置。\n",
    "    3. 使用 `SciPy` 库中 `interpolate` 模块中的 `Lagrange` 对数据进行拉格朗日插值。\n",
    "    4. 查看数据中是否存在缺失值，若不存在则说明插值成功。"
   ]
  },
  {
   "cell_type": "code",
   "execution_count": 1,
   "metadata": {},
   "outputs": [],
   "source": [
    "import numpy\n",
    "import pandas"
   ]
  },
  {
   "cell_type": "code",
   "execution_count": 2,
   "metadata": {},
   "outputs": [
    {
     "name": "stdout",
     "output_type": "stream",
     "text": [
      "数据缺失值数量为：\n",
      "User_A    2\n",
      "User_B    4\n",
      "User_C    4\n",
      "dtype: int64\n"
     ]
    }
   ],
   "source": [
    "# 读取数据\n",
    "data = pandas.read_csv(\n",
    "    'data/missing_data.csv', encoding='gbk',\n",
    "    names=('User_A', 'User_B', 'User_C')\n",
    ")\n",
    "print('数据缺失值数量为：', data.isnull().sum(), sep='\\n')"
   ]
  },
  {
   "cell_type": "code",
   "execution_count": 3,
   "metadata": {},
   "outputs": [],
   "source": [
    "# 定位缺失值\n",
    "null_location = data.isnull()"
   ]
  },
  {
   "cell_type": "code",
   "execution_count": 4,
   "metadata": {},
   "outputs": [],
   "source": [
    "# 拉格朗日插值\n",
    "from scipy.interpolate import lagrange\n",
    "x_A = [i for i in range(null_location.shape[0]) if not null_location.iloc[i, 0]]\n",
    "y_A = [data.iloc[i, 0] for i in range(null_location.shape[0]) if not null_location.iloc[i, 0]]\n",
    "x_B = [i for i in range(null_location.shape[0]) if not null_location.iloc[i, 1]]\n",
    "y_B = [data.iloc[i, 1] for i in range(null_location.shape[0]) if not null_location.iloc[i, 1]]\n",
    "x_C = [i for i in range(null_location.shape[0]) if not null_location.iloc[i, 2]]\n",
    "y_C = [data.iloc[i, 2] for i in range(null_location.shape[0]) if not null_location.iloc[i, 2]]\n",
    "lar_A = lagrange(x_A, y_A)\n",
    "lar_B = lagrange(x_B, y_B)\n",
    "lar_C = lagrange(x_C, y_C)\n",
    "for i in range(null_location.shape[0]):\n",
    "    if i not in x_A:\n",
    "        data.iloc[i, 0] = lar_A(i)\n",
    "    if i not in x_B:\n",
    "        data.iloc[i, 1] = lar_B(i)\n",
    "    if i not in x_C:\n",
    "        data.iloc[i, 2] = lar_C(i)"
   ]
  },
  {
   "cell_type": "code",
   "execution_count": 5,
   "metadata": {},
   "outputs": [
    {
     "name": "stdout",
     "output_type": "stream",
     "text": [
      "数据中的缺失值数量为：\n",
      "User_A    0\n",
      "User_B    0\n",
      "User_C    0\n",
      "dtype: int64\n"
     ]
    }
   ],
   "source": [
    "print('数据中的缺失值数量为：', data.isnull().sum(), sep='\\n')"
   ]
  }
 ],
 "metadata": {
  "kernelspec": {
   "display_name": "Python 3",
   "language": "python",
   "name": "python3"
  },
  "language_info": {
   "codemirror_mode": {
    "name": "ipython",
    "version": 3
   },
   "file_extension": ".py",
   "mimetype": "text/x-python",
   "name": "python",
   "nbconvert_exporter": "python",
   "pygments_lexer": "ipython3",
   "version": "3.7.4"
  }
 },
 "nbformat": 4,
 "nbformat_minor": 4
}
