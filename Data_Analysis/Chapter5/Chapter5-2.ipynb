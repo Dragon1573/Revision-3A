{
 "cells": [
  {
   "cell_type": "markdown",
   "metadata": {},
   "source": [
    "# 第5章　使用`pandas`进行数据预处理"
   ]
  },
  {
   "cell_type": "markdown",
   "metadata": {},
   "source": [
    "## 任务5.2　清洗数据"
   ]
  },
  {
   "cell_type": "markdown",
   "metadata": {},
   "source": [
    "<br /><center><b>代码5-9　利用<code>list</code>去重</b></center>"
   ]
  },
  {
   "cell_type": "code",
   "execution_count": 1,
   "metadata": {
    "jupyter": {
     "source_hidden": true
    }
   },
   "outputs": [
    {
     "name": "stdout",
     "output_type": "stream",
     "text": [
      "去重前菜品总数为： 10037\n",
      "函数去重后菜品总数为： 145\n"
     ]
    }
   ],
   "source": [
    "import pandas\n",
    "detail = pandas.read_csv('data/detail.csv', index_col=0, encoding='gbk')\n",
    "# 定义去重函数\n",
    "def delRepeats(array_1):\n",
    "    array_2 = []\n",
    "    for i in array_1:\n",
    "        if i not in array_2:\n",
    "            array_2.append(i)\n",
    "    return array_2\n",
    "# 去重\n",
    "dishes = list(detail['dishes_name'])\n",
    "print('去重前菜品总数为：', len(dishes))\n",
    "dish = delRepeats(dishes)\n",
    "print('函数去重后菜品总数为：', len(dish))"
   ]
  },
  {
   "cell_type": "markdown",
   "metadata": {},
   "source": [
    "<br /><center><b>代码5-10　利用<code>set</code>的特性去重</b></center>"
   ]
  },
  {
   "cell_type": "code",
   "execution_count": 2,
   "metadata": {
    "jupyter": {
     "source_hidden": true
    }
   },
   "outputs": [
    {
     "name": "stdout",
     "output_type": "stream",
     "text": [
      "去重前菜品总数为： 10037\n",
      "集合去重后菜品总数为： 145\n"
     ]
    }
   ],
   "source": [
    "print('去重前菜品总数为：', len(dishes))\n",
    "dish_set = set(dishes)\n",
    "print('集合去重后菜品总数为：', len(dish_set))"
   ]
  },
  {
   "cell_type": "markdown",
   "metadata": {},
   "source": [
    "<br /><center><b>代码5-11　使用<code>drop_duplicates</code>方法对菜品名称去重</b></center>"
   ]
  },
  {
   "cell_type": "code",
   "execution_count": 3,
   "metadata": {
    "jupyter": {
     "source_hidden": true
    }
   },
   "outputs": [
    {
     "name": "stdout",
     "output_type": "stream",
     "text": [
      "方法去重后菜品总数为： 145\n"
     ]
    }
   ],
   "source": [
    "dishes_name = detail['dishes_name'].drop_duplicates()\n",
    "print('方法去重后菜品总数为：', len(dishes_name))"
   ]
  },
  {
   "cell_type": "markdown",
   "metadata": {},
   "source": [
    "<br /><center><b>代码5-12　使用<code>drop_duplicates</code>方法对多列去重</b></center>"
   ]
  },
  {
   "cell_type": "code",
   "execution_count": 4,
   "metadata": {
    "jupyter": {
     "source_hidden": true
    }
   },
   "outputs": [
    {
     "name": "stdout",
     "output_type": "stream",
     "text": [
      "去重前订单详情表的形状为： (10037, 18)\n",
      "依照订单编号、会员编号去重之后订单详情表大小为： (942, 18)\n"
     ]
    }
   ],
   "source": [
    "print('去重前订单详情表的形状为：', detail.shape)\n",
    "shapeData = detail.drop_duplicates(subset=['order_id', 'emp_id']).shape\n",
    "print('依照订单编号、会员编号去重之后订单详情表大小为：', shapeData)"
   ]
  },
  {
   "cell_type": "markdown",
   "metadata": {},
   "source": [
    "<br />\n",
    "<center>\n",
    "    <b>代码5-13　求出<code>counts</code>和<code>amounts</code>两列数据的<code>kendall</code>法相似度矩阵</b>\n",
    "</center>"
   ]
  },
  {
   "cell_type": "code",
   "execution_count": 5,
   "metadata": {
    "jupyter": {
     "source_hidden": true
    }
   },
   "outputs": [
    {
     "name": "stdout",
     "output_type": "stream",
     "text": [
      "销量和售价的Kendall法相似度矩阵为：\n",
      "           counts   amounts\n",
      "counts   1.000000 -0.229968\n",
      "amounts -0.229968  1.000000\n"
     ]
    }
   ],
   "source": [
    "corrData = detail[['counts', 'amounts']].corr(method='kendall')\n",
    "print('销量和售价的Kendall法相似度矩阵为：', corrData, sep='\\n')"
   ]
  },
  {
   "cell_type": "markdown",
   "metadata": {},
   "source": [
    "<br />\n",
    "<center>\n",
    "    <b>\n",
    "        代码5-14　求出\n",
    "        <code>dishes_name</code>\n",
    "        、\n",
    "        <code>counts</code>\n",
    "        和\n",
    "        <code>amounts</code>\n",
    "        这3个特征的\n",
    "        <code>pearson</code>\n",
    "        法相似度矩阵\n",
    "    </b>\n",
    "</center>"
   ]
  },
  {
   "cell_type": "code",
   "execution_count": 6,
   "metadata": {
    "jupyter": {
     "source_hidden": true
    }
   },
   "outputs": [
    {
     "name": "stdout",
     "output_type": "stream",
     "text": [
      "菜品名称、销量和售价的Pearson法相似度矩阵为：\n",
      "           counts   amounts\n",
      "counts   1.000000 -0.159264\n",
      "amounts -0.159264  1.000000\n"
     ]
    }
   ],
   "source": [
    "corrData_1 = detail[['dishes_name', 'counts', 'amounts']].corr(method='pearson')\n",
    "print('菜品名称、销量和售价的Pearson法相似度矩阵为：', corrData_1, sep='\\n')"
   ]
  },
  {
   "cell_type": "markdown",
   "metadata": {},
   "source": [
    "<br /><center><b>代码5-15　使用<code>DataFrame.equals</code>方法去重</b></center>"
   ]
  },
  {
   "cell_type": "code",
   "execution_count": 7,
   "metadata": {
    "jupyter": {
     "source_hidden": true
    }
   },
   "outputs": [
    {
     "name": "stdout",
     "output_type": "stream",
     "text": [
      "detail的特征相等矩阵的前5行5列为：\n",
      "                   order_id  dishes_id  logicprn_name  parent_class_name  \\\n",
      "order_id               True      False          False              False   \n",
      "dishes_id             False       True          False              False   \n",
      "logicprn_name         False      False           True               True   \n",
      "parent_class_name     False      False           True               True   \n",
      "dishes_name           False      False          False              False   \n",
      "\n",
      "                   dishes_name  \n",
      "order_id                 False  \n",
      "dishes_id                False  \n",
      "logicprn_name            False  \n",
      "parent_class_name        False  \n",
      "dishes_name               True  \n"
     ]
    }
   ],
   "source": [
    "# 定义判定函数\n",
    "def featureEquals(frame):\n",
    "    frameEquals = pandas.DataFrame([], columns=frame.columns, index=frame.columns)\n",
    "    for i in frame.columns:\n",
    "        for j in frame.columns:\n",
    "            frameEquals.loc[i, j] = frame.loc[:, i].equals(frame.loc[:, j])\n",
    "    return frameEquals\n",
    "# 调用函数\n",
    "dataEquals = featureEquals(detail)\n",
    "print('detail的特征相等矩阵的前5行5列为：', dataEquals.iloc[:5, :5], sep='\\n')"
   ]
  },
  {
   "cell_type": "markdown",
   "metadata": {},
   "source": [
    "<br />\n",
    "<center>\n",
    "    <b>代码5-16　通过遍历的方式进行数据筛选</b>\n",
    "</center>"
   ]
  },
  {
   "cell_type": "code",
   "execution_count": 8,
   "metadata": {
    "jupyter": {
     "source_hidden": true
    }
   },
   "outputs": [
    {
     "name": "stdout",
     "output_type": "stream",
     "text": [
      "需要删除的列为： ['parent_class_name', 'cost', 'discount_amt', 'discount_reason', 'kick_back', 'add_info', 'bar_code', 'add_inprice']\n",
      "删除多余列后detail的特征数目为： 10\n"
     ]
    }
   ],
   "source": [
    "# 遍历数据\n",
    "dataLength = dataEquals.shape[0]\n",
    "duplicateColumn = []\n",
    "for k in range(dataLength):\n",
    "    for l in range(k + 1, dataLength):\n",
    "        if dataEquals.iloc[k, l] & (dataEquals.columns[l] not in duplicateColumn):\n",
    "            duplicateColumn.append(dataEquals.columns[l])\n",
    "# 进行去重\n",
    "print('需要删除的列为：', duplicateColumn)\n",
    "detail.drop(duplicateColumn, axis=1, inplace=True)\n",
    "print('删除多余列后detail的特征数目为：', detail.shape[1])"
   ]
  },
  {
   "cell_type": "markdown",
   "metadata": {},
   "source": [
    "<br />\n",
    "<center>\n",
    "    <b>代码5-17　<code>isnull</code>和<code>notnull</code>用法</b>\n",
    "</center>"
   ]
  },
  {
   "cell_type": "code",
   "execution_count": 9,
   "metadata": {
    "jupyter": {
     "source_hidden": true
    }
   },
   "outputs": [
    {
     "name": "stdout",
     "output_type": "stream",
     "text": [
      "detail每个特征缺失的数目为：\n",
      "order_id                0\n",
      "dishes_id               0\n",
      "logicprn_name       10037\n",
      "dishes_name             0\n",
      "itemis_add              0\n",
      "counts                  0\n",
      "amounts                 0\n",
      "place_order_time        0\n",
      "picture_file            0\n",
      "emp_id                  0\n",
      "dtype: int64\n",
      "detail每个特征存在的数目为：\n",
      "order_id            10037\n",
      "dishes_id           10037\n",
      "logicprn_name           0\n",
      "dishes_name         10037\n",
      "itemis_add          10037\n",
      "counts              10037\n",
      "amounts             10037\n",
      "place_order_time    10037\n",
      "picture_file        10037\n",
      "emp_id              10037\n",
      "dtype: int64\n"
     ]
    }
   ],
   "source": [
    "print('detail每个特征缺失的数目为：', detail.isnull().sum(), sep='\\n')\n",
    "print('detail每个特征存在的数目为：', detail.notnull().sum(), sep='\\n')"
   ]
  },
  {
   "cell_type": "markdown",
   "metadata": {},
   "source": [
    "<br />\n",
    "<center>\n",
    "    <b>代码5-18　使用<code>dropna</code>方法删除缺失值</b>\n",
    "</center>"
   ]
  },
  {
   "cell_type": "code",
   "execution_count": 10,
   "metadata": {
    "jupyter": {
     "source_hidden": true
    }
   },
   "outputs": [
    {
     "name": "stdout",
     "output_type": "stream",
     "text": [
      "去除缺失的列前detail的形状为： (10037, 10)\n",
      "去除缺失的列后detail的形状为： (10037, 9)\n"
     ]
    }
   ],
   "source": [
    "print('去除缺失的列前detail的形状为：', detail.shape)\n",
    "print('去除缺失的列后detail的形状为：', detail.dropna(axis=1, how='any').shape)"
   ]
  },
  {
   "cell_type": "markdown",
   "metadata": {},
   "source": [
    "<br>\n",
    "<center>\n",
    "    <b>代码5-19　使用<code>fillna</code>方法替换缺失值</b>\n",
    "</center>"
   ]
  },
  {
   "cell_type": "code",
   "execution_count": 11,
   "metadata": {
    "jupyter": {
     "source_hidden": true
    }
   },
   "outputs": [
    {
     "name": "stdout",
     "output_type": "stream",
     "text": [
      "detail每个特征缺失的数目为：\n",
      "order_id            0\n",
      "dishes_id           0\n",
      "logicprn_name       0\n",
      "dishes_name         0\n",
      "itemis_add          0\n",
      "counts              0\n",
      "amounts             0\n",
      "place_order_time    0\n",
      "picture_file        0\n",
      "emp_id              0\n",
      "dtype: int64\n"
     ]
    }
   ],
   "source": [
    "detail = detail.fillna(-99)\n",
    "print('detail每个特征缺失的数目为：', detail.isnull().sum(), sep='\\n')"
   ]
  },
  {
   "cell_type": "markdown",
   "metadata": {},
   "source": [
    "<br>\n",
    "<center>\n",
    "    <b>代码5-20　<code>SciPy interpolate</code>模块插值</b>\n",
    "</center>"
   ]
  },
  {
   "cell_type": "code",
   "execution_count": 12,
   "metadata": {
    "jupyter": {
     "source_hidden": true
    }
   },
   "outputs": [
    {
     "name": "stdout",
     "output_type": "stream",
     "text": [
      "当x为6、7时，使用线性插值y_1为： [ 76. 102.]\n",
      "当x为6、7时，使用线性插值y_2为： [13. 15.]\n"
     ]
    }
   ],
   "source": [
    "# 线性插值\n",
    "import numpy\n",
    "from scipy.interpolate import interp1d\n",
    "x = numpy.array([1, 2, 3, 4, 5, 8, 9, 10])\n",
    "y_1 = numpy.array([2, 8, 18, 32, 50, 128, 162, 200])\n",
    "y_2 = numpy.array([3, 5, 7, 9, 11, 17, 19, 21])\n",
    "linearInsertValue_1 = interp1d(x, y_1, kind='linear')\n",
    "linearInsertValue_2 = interp1d(x, y_2, kind='linear')\n",
    "print('当x为6、7时，使用线性插值y_1为：', linearInsertValue_1([6, 7]))\n",
    "print('当x为6、7时，使用线性插值y_2为：', linearInsertValue_2([6, 7]))"
   ]
  },
  {
   "cell_type": "code",
   "execution_count": 13,
   "metadata": {
    "jupyter": {
     "source_hidden": true
    }
   },
   "outputs": [
    {
     "name": "stdout",
     "output_type": "stream",
     "text": [
      "当x为6、7时，使用拉格朗日插值y_1为： [72. 98.]\n",
      "当x为6、7时，使用拉格朗日插值y_2为： [13. 15.]\n"
     ]
    }
   ],
   "source": [
    "# 拉格朗日插值\n",
    "from scipy.interpolate import lagrange\n",
    "lagrangeInsertValue_1 = lagrange(x, y_1)\n",
    "lagrangeInsertValue_2 = lagrange(x, y_2)\n",
    "print('当x为6、7时，使用拉格朗日插值y_1为：', lagrangeInsertValue_1([6, 7]))\n",
    "print('当x为6、7时，使用拉格朗日插值y_2为：', lagrangeInsertValue_2([6, 7]))"
   ]
  },
  {
   "cell_type": "code",
   "execution_count": 14,
   "metadata": {
    "jupyter": {
     "source_hidden": true
    }
   },
   "outputs": [
    {
     "name": "stdout",
     "output_type": "stream",
     "text": [
      "当x为6、7时，使用样条插值y_1为： [72. 98.]\n",
      "当x为6、7时，使用样条插值y_2为： [13. 15.]\n"
     ]
    }
   ],
   "source": [
    "# 三次样条插值\n",
    "from scipy.interpolate import splrep, splev\n",
    "tck_1 = splrep(x, y_1)\n",
    "tck_2 = splrep(x, y_2)\n",
    "xnew = numpy.array([6, 7])\n",
    "ynew_1 = splev(xnew, tck_1, der=0)\n",
    "ynew_2 = splev(xnew, tck_2, der=0)\n",
    "print('当x为6、7时，使用样条插值y_1为：', ynew_1)\n",
    "print('当x为6、7时，使用样条插值y_2为：', ynew_2)"
   ]
  },
  {
   "cell_type": "markdown",
   "metadata": {},
   "source": [
    "<br>\n",
    "<center>\n",
    "    <b>代码5-21　使用$3\\sigma$原则识别异常值</b>\n",
    "</center>"
   ]
  },
  {
   "cell_type": "code",
   "execution_count": 15,
   "metadata": {
    "jupyter": {
     "source_hidden": true
    }
   },
   "outputs": [
    {
     "name": "stdout",
     "output_type": "stream",
     "text": [
      "使用拉依达准则判定异常值个数为： 209\n",
      "异常值的最大值为： 10\n",
      "异常值的最小值为； 3\n"
     ]
    }
   ],
   "source": [
    "# 定义原则\n",
    "def outRange(series):\n",
    "    boolean = (\n",
    "        series.mean() - 3 * series.std() > series\n",
    "    ) | (\n",
    "        series.mean() + 3 * series.std() < series\n",
    "    )\n",
    "    index = numpy.arange(series.shape[0])[boolean]\n",
    "    outrange = series.iloc[index]\n",
    "    return outrange\n",
    "outlier = outRange(detail['counts'])\n",
    "print('使用拉依达准则判定异常值个数为：', outlier.shape[0])\n",
    "print('异常值的最大值为：', outlier.max())\n",
    "print('异常值的最小值为；', outlier.min())"
   ]
  },
  {
   "cell_type": "markdown",
   "metadata": {},
   "source": [
    "<br>\n",
    "<center>\n",
    "    <b>代码5-22　菜品售价根据箱线图识别异常值</b>\n",
    "</center>"
   ]
  },
  {
   "cell_type": "code",
   "execution_count": 16,
   "metadata": {
    "jupyter": {
     "source_hidden": true
    }
   },
   "outputs": [
    {
     "data": {
      "image/png": "[encoded data removed]",
      "text/plain": [
       "<Figure size 720x576 with 1 Axes>"
      ]
     },
     "metadata": {
      "needs_background": "light"
     },
     "output_type": "display_data"
    },
    {
     "name": "stdout",
     "output_type": "stream",
     "text": [
      "销售量数据异常值个数为： 516\n",
      "销售量数据异常值的最大值为： 10\n",
      "销售量数据异常值的最小值为： 2\n"
     ]
    }
   ],
   "source": [
    "%matplotlib inline\n",
    "from matplotlib import pyplot\n",
    "pyplot.figure(figsize=(10, 8))\n",
    "p = pyplot.boxplot(detail['counts'].values, notch=True)\n",
    "outlier_1 = p['fliers'][0].get_ydata()\n",
    "pyplot.savefig('img/菜品异常数据识别.svg')\n",
    "pyplot.show()\n",
    "print('销售量数据异常值个数为：', len(outlier_1))\n",
    "print('销售量数据异常值的最大值为：', max(outlier_1))\n",
    "print('销售量数据异常值的最小值为：', min(outlier_1))"
   ]
  },
  {
   "cell_type": "markdown",
   "metadata": {},
   "source": [
    "<br>\n",
    "<center>\n",
    "    <b>代码5-23　订单详情表的样本去重与特征去重</b>\n",
    "</center>"
   ]
  },
  {
   "cell_type": "code",
   "execution_count": 17,
   "metadata": {
    "jupyter": {
     "source_hidden": true
    }
   },
   "outputs": [
    {
     "name": "stdout",
     "output_type": "stream",
     "text": [
      "进行去重操作前订单详情表的形状为： (10037, 18)\n",
      "进行去重操作后订单详情表的形状为： (10037, 10)\n"
     ]
    }
   ],
   "source": [
    "import pandas\n",
    "detail = pandas.read_csv('data/detail.csv', index_col=0, encoding='gbk')\n",
    "print('进行去重操作前订单详情表的形状为：', detail.shape)\n",
    "# 样本去重\n",
    "detail.drop_duplicates(inplace=True)\n",
    "# 特征去重\n",
    "def featureEquals(frame):\n",
    "    frameEquals = pandas.DataFrame([], columns=frame.columns, index=frame.columns)\n",
    "    for i in frame.columns:\n",
    "        for j in frame.columns:\n",
    "            frameEquals.loc[i, j] = frame.loc[:, i].equals(frame.loc[:, j])\n",
    "    return frameEquals\n",
    "deletedEquals = featureEquals(detail)\n",
    "frameLength = deletedEquals.shape[0]\n",
    "duplicateColumn = []\n",
    "for k in range(frameLength):\n",
    "    for l in range(k + 1, frameLength):\n",
    "        if deletedEquals.iloc[k, l] & (deletedEquals.columns[l] not in duplicateColumn):\n",
    "            duplicateColumn.append(deletedEquals.columns[l])\n",
    "# 删除重复列\n",
    "detail.drop(duplicateColumn, axis=1, inplace=True)\n",
    "print('进行去重操作后订单详情表的形状为：', detail.shape)"
   ]
  },
  {
   "cell_type": "markdown",
   "metadata": {},
   "source": [
    "<br>\n",
    "<center>\n",
    "    <b>代码5-24　订单详情表的缺失值检测与处理</b>\n",
    "</center>"
   ]
  },
  {
   "cell_type": "code",
   "execution_count": 18,
   "metadata": {
    "jupyter": {
     "source_hidden": true
    }
   },
   "outputs": [
    {
     "name": "stdout",
     "output_type": "stream",
     "text": [
      "detail每个特征缺失率为：\n",
      "order_id              0.0%\n",
      "dishes_id             0.0%\n",
      "logicprn_name       100.0%\n",
      "dishes_name           0.0%\n",
      "itemis_add            0.0%\n",
      "counts                0.0%\n",
      "amounts               0.0%\n",
      "place_order_time      0.0%\n",
      "picture_file          0.0%\n",
      "emp_id                0.0%\n",
      "dtype: object\n",
      "经过缺失值处理后订单详情表各特征缺失值的数目为：\n",
      "order_id            0\n",
      "dishes_id           0\n",
      "dishes_name         0\n",
      "itemis_add          0\n",
      "counts              0\n",
      "amounts             0\n",
      "place_order_time    0\n",
      "picture_file        0\n",
      "emp_id              0\n",
      "dtype: int64\n"
     ]
    }
   ],
   "source": [
    "# 统计缺失率\n",
    "nanRate = (detail.isnull().sum() / detail.shape[0] * 100).astype('str') + '%'\n",
    "print('detail每个特征缺失率为：', nanRate, sep='\\n')\n",
    "# 删除空列\n",
    "detail.dropna(axis=1, how='all', inplace=True)\n",
    "print('经过缺失值处理后订单详情表各特征缺失值的数目为：', detail.isnull().sum(), sep='\\n')"
   ]
  },
  {
   "cell_type": "markdown",
   "metadata": {},
   "source": [
    "<br>\n",
    "<center>\n",
    "    <b>代码5-25　订单详情表异常值检测与处理</b>\n",
    "</center>"
   ]
  },
  {
   "cell_type": "code",
   "execution_count": 19,
   "metadata": {
    "jupyter": {
     "source_hidden": true
    }
   },
   "outputs": [
    {
     "name": "stdout",
     "output_type": "stream",
     "text": [
      "Exception reporting mode: Minimal\n",
      "销售量最小值为： 1.0\n",
      "销售量最大值为： 1.0\n",
      "售价最小值为： 1.0\n",
      "售价最大值为： 99.0\n"
     ]
    },
    {
     "name": "stderr",
     "output_type": "stream",
     "text": [
      "C:\\Users\\legen\\Anaconda3\\lib\\site-packages\\pandas\\core\\indexing.py:205: SettingWithCopyWarning: \n",
      "A value is trying to be set on a copy of a slice from a DataFrame\n",
      "\n",
      "See the caveats in the documentation: http://pandas.pydata.org/pandas-docs/stable/user_guide/indexing.html#returning-a-view-versus-a-copy\n",
      "  self._setitem_with_indexer(indexer, value)\n"
     ]
    }
   ],
   "source": [
    "%xmode minimal\n",
    "# 定义处理函数\n",
    "def outRange(series):\n",
    "    QL = series.quantile(0.25)\n",
    "    QU = series.quantile(0.75)\n",
    "    IQR = QU - QL\n",
    "    series.loc[series > (QU + 1.5 * IQR)] = QU\n",
    "    series.loc[series < (QL - 1.5 * IQR)] = QL\n",
    "    return series\n",
    "# 处理异常值\n",
    "detail['counts'] = outRange(detail['counts'])\n",
    "detail['amounts'] = outRange(detail['amounts'])\n",
    "print('销售量最小值为：', detail['counts'].min())\n",
    "print('销售量最大值为：', detail['counts'].max())\n",
    "print('售价最小值为：', detail['amounts'].min())\n",
    "print('售价最大值为：', detail['amounts'].max())"
   ]
  }
 ],
 "metadata": {
  "kernelspec": {
   "display_name": "Python 3",
   "language": "python",
   "name": "python3"
  },
  "language_info": {
   "codemirror_mode": {
    "name": "ipython",
    "version": 3
   },
   "file_extension": ".py",
   "mimetype": "text/x-python",
   "name": "python",
   "nbconvert_exporter": "python",
   "pygments_lexer": "ipython3",
   "version": "3.7.4"
  }
 },
 "nbformat": 4,
 "nbformat_minor": 4
}
