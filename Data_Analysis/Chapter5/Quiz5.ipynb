{
 "cells": [
  {
   "cell_type": "markdown",
   "metadata": {},
   "source": [
    "# 第5章　使用 `pandas` 进行数据预处理\n",
    "\n",
    "## 课后习题·操作题\n",
    "\n",
    "1. 使用如下方法规范化数组：`[200, 300, 400, 600, 1000]`\n",
    "\n",
    "    1. 令 $\\text{min}=0,\\text{max}=1$，进行最小-最大规范化。\n",
    "    2. 标准差标准化。\n",
    "    3. 小数定标规范化。\n",
    "\n",
    "2. 假设12个销售价格记录已经排序：`[5, 10, 11, 13, 15, 35, 50, 55, 72, 92, 204, 215]`。使用等宽法对齐进行离散化处理。\n",
    "\n",
    "3. 自定义一个能够自动实现数据去重缺失值中位数填补的函数。"
   ]
  },
  {
   "cell_type": "code",
   "execution_count": 1,
   "metadata": {},
   "outputs": [],
   "source": [
    "# 定义数据\n",
    "import numpy\n",
    "array = numpy.array([200, 300, 400, 600, 1000])"
   ]
  },
  {
   "cell_type": "code",
   "execution_count": 2,
   "metadata": {},
   "outputs": [
    {
     "name": "stdout",
     "output_type": "stream",
     "text": [
      "极值规范化结果为： [0.    0.125 0.25  0.5   1.   ]\n"
     ]
    }
   ],
   "source": [
    "# 极值规范化\n",
    "def polarization(ndarray):\n",
    "    ndarray = (ndarray - ndarray.min()) / (ndarray.max() - ndarray.min())\n",
    "    return ndarray\n",
    "polar = polarization(array)\n",
    "print('极值规范化结果为：', polar)"
   ]
  },
  {
   "cell_type": "code",
   "execution_count": 3,
   "metadata": {},
   "outputs": [
    {
     "name": "stdout",
     "output_type": "stream",
     "text": [
      "标准差标准化结果为： [-1.06066017 -0.70710678 -0.35355339  0.35355339  1.76776695]\n"
     ]
    }
   ],
   "source": [
    "# 标准差规范化\n",
    "def stdization(ndarray):\n",
    "    ndarray = (ndarray - ndarray.mean()) / ndarray.std()\n",
    "    return ndarray\n",
    "standard = stdization(array)\n",
    "print('标准差规范化结果为：', standard)"
   ]
  },
  {
   "cell_type": "code",
   "execution_count": 5,
   "metadata": {},
   "outputs": [
    {
     "name": "stdout",
     "output_type": "stream",
     "text": [
      "小数定标规范化结果为： [0.2 0.3 0.4 0.6 1. ]\n"
     ]
    }
   ],
   "source": [
    "# 小数定标规范化\n",
    "def digitization(ndarray):\n",
    "    # 缩放指数\n",
    "    scale = numpy.ceil(numpy.log10(numpy.abs(ndarray).max()))\n",
    "    ndarray = ndarray / (10 ** scale)\n",
    "    return ndarray\n",
    "digits = digitization(array)\n",
    "print('小数定标规范化结果为：', digits)"
   ]
  }
 ],
 "metadata": {
  "kernelspec": {
   "display_name": "Python 3",
   "language": "python",
   "name": "python3"
  },
  "language_info": {
   "codemirror_mode": {
    "name": "ipython",
    "version": 3
   },
   "file_extension": ".py",
   "mimetype": "text/x-python",
   "name": "python",
   "nbconvert_exporter": "python",
   "pygments_lexer": "ipython3",
   "version": "3.7.4"
  }
 },
 "nbformat": 4,
 "nbformat_minor": 4
}
