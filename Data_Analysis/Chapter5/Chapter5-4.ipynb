{
 "cells": [
  {
   "cell_type": "markdown",
   "metadata": {},
   "source": [
    "# 第5章　使用`pandas`进行数据预处理"
   ]
  },
  {
   "cell_type": "markdown",
   "metadata": {},
   "source": [
    "## 任务5.4　转换数据"
   ]
  },
  {
   "cell_type": "markdown",
   "metadata": {},
   "source": [
    "<br>\n",
    "<center>\n",
    "    <b>代码5-30　哑变量处理示例</b>\n",
    "</center>"
   ]
  },
  {
   "cell_type": "code",
   "execution_count": 1,
   "metadata": {
    "jupyter": {
     "source_hidden": true
    }
   },
   "outputs": [
    {
     "name": "stdout",
     "output_type": "stream",
     "text": [
      "哑变量处理前的数据为：\n",
      "0     蒜蓉生蚝\n",
      "1    蒙古烤羊腿\n",
      "2     大蒜苋菜\n",
      "3    芝麻烤紫菜\n",
      "4      蒜香包\n",
      "5      白斩鸡\n",
      "Name: dishes_name, dtype: object\n",
      "哑变量处理后的数据为：\n",
      "   大蒜苋菜  白斩鸡  芝麻烤紫菜  蒙古烤羊腿  蒜蓉生蚝  蒜香包\n",
      "0     0    0      0      0     1    0\n",
      "1     0    0      0      1     0    0\n",
      "2     1    0      0      0     0    0\n",
      "3     0    0      1      0     0    0\n",
      "4     0    0      0      0     0    1\n",
      "5     0    1      0      0     0    0\n"
     ]
    }
   ],
   "source": [
    "import numpy\n",
    "import pandas\n",
    "detail = pandas.read_csv('data/detail.csv', encoding='gbk')\n",
    "data = detail.loc[0:5, 'dishes_name']\n",
    "print('哑变量处理前的数据为：', data, sep='\\n')\n",
    "print('哑变量处理后的数据为：', pandas.get_dummies(data), sep='\\n')"
   ]
  },
  {
   "cell_type": "markdown",
   "metadata": {},
   "source": [
    "<br>\n",
    "<center>\n",
    "    <b>代码5-31　等宽法离散化示例</b>\n",
    "</center>"
   ]
  },
  {
   "cell_type": "code",
   "execution_count": 2,
   "metadata": {
    "jupyter": {
     "source_hidden": true
    }
   },
   "outputs": [
    {
     "name": "stdout",
     "output_type": "stream",
     "text": [
      "李灿花后5条记录售价分布为：\n",
      "(0.823, 36.4]     5461\n",
      "(36.4, 71.8]      3157\n",
      "(71.8, 107.2]      839\n",
      "(142.6, 178.0]     426\n",
      "(107.2, 142.6]     154\n",
      "Name: amounts, dtype: int64\n"
     ]
    }
   ],
   "source": [
    "price = pandas.cut(detail['amounts'], 5)\n",
    "print('李灿花后5条记录售价分布为：', price.value_counts(), sep='\\n')"
   ]
  },
  {
   "cell_type": "markdown",
   "metadata": {},
   "source": [
    "<br>\n",
    "<center>\n",
    "    <b>代码5-32　等频法离散化示例</b>\n",
    "</center>"
   ]
  },
  {
   "cell_type": "code",
   "execution_count": 3,
   "metadata": {
    "jupyter": {
     "source_hidden": true
    }
   },
   "outputs": [
    {
     "name": "stdout",
     "output_type": "stream",
     "text": [
      "菜品数据等频法离散化后各个类别数目分布状况为：\n",
      "(18.0, 32.0]     2107\n",
      "(39.0, 58.0]     2080\n",
      "(32.0, 39.0]     1910\n",
      "(1.0, 18.0]      1891\n",
      "(58.0, 178.0]    1863\n",
      "Name: amounts, dtype: int64\n"
     ]
    }
   ],
   "source": [
    "def sameRateCut(data, k):\n",
    "    w = data.quantile(numpy.arange(0, 1 + 1.0 / k, 1.0 / k))\n",
    "    data = pandas.cut(data, w)\n",
    "    return data\n",
    "result = sameRateCut(detail['amounts'], 5).value_counts()\n",
    "print('菜品数据等频法离散化后各个类别数目分布状况为：', result, sep='\\n')"
   ]
  },
  {
   "cell_type": "markdown",
   "metadata": {},
   "source": [
    "<br>\n",
    "<center>\n",
    "    <b>代码5-33　基于聚类分析的离散化</b>\n",
    "</center>"
   ]
  },
  {
   "cell_type": "code",
   "execution_count": 4,
   "metadata": {
    "jupyter": {
     "source_hidden": true
    }
   },
   "outputs": [
    {
     "name": "stdout",
     "output_type": "stream",
     "text": [
      "菜品售价聚类离散化后各个类别数目分布情况为：\n",
      "(22.31, 43.51]       3690\n",
      "(43.51, 73.945]      2474\n",
      "(0.0, 22.31]         2454\n",
      "(73.945, 131.858]     993\n",
      "(131.858, 178.0]      426\n",
      "Name: amounts, dtype: int64\n"
     ]
    }
   ],
   "source": [
    "def kmeansCut(data, k):\n",
    "    # 引入聚类器\n",
    "    from sklearn.cluster import KMeans\n",
    "    # 建立模型\n",
    "    kmodel = KMeans(n_clusters=k)\n",
    "    # 训练模型\n",
    "    kmodel.fit(data.values.reshape((len(data), 1)))\n",
    "    # 输出聚类中心并排序\n",
    "    c = pandas.DataFrame(kmodel.cluster_centers_).sort_values(0)\n",
    "    # 相邻两项计算中点，作为边界点\n",
    "    w = c.rolling(2).mean().iloc[1:]\n",
    "    # 追加首末边界点\n",
    "    w = [0] + list(w[0]) + [data.max()]\n",
    "    data = pandas.cut(data, w)\n",
    "    return data\n",
    "result = kmeansCut(detail['amounts'], 5).value_counts()\n",
    "print('菜品售价聚类离散化后各个类别数目分布情况为：', result, sep='\\n')"
   ]
  },
  {
   "cell_type": "markdown",
   "metadata": {},
   "source": [
    "<br>\n",
    "<center>\n",
    "    <b>代码5-34　菜品<code>dishes_name</code>哑变量处理</b>\n",
    "</center>"
   ]
  },
  {
   "cell_type": "code",
   "execution_count": 5,
   "metadata": {
    "jupyter": {
     "source_hidden": true
    }
   },
   "outputs": [
    {
     "name": "stdout",
     "output_type": "stream",
     "text": [
      "哑变量处理前的数据为：\n",
      "0     蒜蓉生蚝\n",
      "1    蒙古烤羊腿\n",
      "2     大蒜苋菜\n",
      "3    芝麻烤紫菜\n",
      "4      蒜香包\n",
      "Name: dishes_name, dtype: object\n",
      "哑变量处理后的数据为：\n",
      "   38度剑南春  42度海之蓝  50度古井贡酒  52度泸州老窖  53度茅台\n",
      "0       0       0        0        0      0\n",
      "1       0       0        0        0      0\n",
      "2       0       0        0        0      0\n",
      "3       0       0        0        0      0\n",
      "4       0       0        0        0      0\n"
     ]
    }
   ],
   "source": [
    "data = detail.loc[:, 'dishes_name']\n",
    "print('哑变量处理前的数据为：', data.iloc[:5], sep='\\n')\n",
    "print('哑变量处理后的数据为：', pandas.get_dummies(data).iloc[:5, :5], sep='\\n')"
   ]
  },
  {
   "cell_type": "markdown",
   "metadata": {},
   "source": [
    "<br>\n",
    "<center>\n",
    "    <b>代码5-35　菜品售价等频法离散化</b>\n",
    "</center>"
   ]
  },
  {
   "cell_type": "code",
   "execution_count": 6,
   "metadata": {
    "jupyter": {
     "source_hidden": true
    }
   },
   "outputs": [
    {
     "name": "stdout",
     "output_type": "stream",
     "text": [
      "菜品数据等频法离散化后各个类别数目分布状况为：\n",
      "(18.0, 32.0]     2107\n",
      "(39.0, 58.0]     2080\n",
      "(32.0, 39.0]     1910\n",
      "(1.0, 18.0]      1891\n",
      "(58.0, 178.0]    1863\n",
      "Name: amounts, dtype: int64\n"
     ]
    }
   ],
   "source": [
    "def sameRateCut(data, k):\n",
    "    w = data.quantile(numpy.arange(0, 1 + 1.0 / k, 1.0 / k))\n",
    "    data = pandas.cut(data, w)\n",
    "    return data\n",
    "result = sameRateCut(detail['amounts'], 5).value_counts()\n",
    "print('菜品数据等频法离散化后各个类别数目分布状况为：', result, sep='\\n')"
   ]
  }
 ],
 "metadata": {
  "kernelspec": {
   "display_name": "Python 3",
   "language": "python",
   "name": "python3"
  },
  "language_info": {
   "codemirror_mode": {
    "name": "ipython",
    "version": 3
   },
   "file_extension": ".py",
   "mimetype": "text/x-python",
   "name": "python",
   "nbconvert_exporter": "python",
   "pygments_lexer": "ipython3",
   "version": "3.7.4"
  }
 },
 "nbformat": 4,
 "nbformat_minor": 4
}
