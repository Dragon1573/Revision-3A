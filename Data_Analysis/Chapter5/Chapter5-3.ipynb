{
 "cells": [
  {
   "cell_type": "markdown",
   "metadata": {},
   "source": [
    "# 第5章　使用`pandas`进行数据预处理"
   ]
  },
  {
   "cell_type": "markdown",
   "metadata": {},
   "source": [
    "## 任务5.3　标准化数据"
   ]
  },
  {
   "cell_type": "markdown",
   "metadata": {},
   "source": [
    "<br>\n",
    "<center>\n",
    "    <b>代码5-26　离差标准化示例</b>\n",
    "</center>"
   ]
  },
  {
   "cell_type": "code",
   "execution_count": 1,
   "metadata": {
    "jupyter": {
     "source_hidden": true
    }
   },
   "outputs": [
    {
     "name": "stdout",
     "output_type": "stream",
     "text": [
      "离差标准化之前的销量和售价数据为：\n",
      "           counts  amounts\n",
      "detail_id                 \n",
      "2956            1       49\n",
      "2958            1       48\n",
      "2961            1       30\n",
      "2966            1       25\n",
      "2968            1       13\n",
      "离差标准化之后的销量和售价数据为：\n",
      "           counts   amounts\n",
      "detail_id                  \n",
      "2956          0.0  0.271186\n",
      "2958          0.0  0.265537\n",
      "2961          0.0  0.163842\n",
      "2966          0.0  0.135593\n",
      "2968          0.0  0.067797\n"
     ]
    }
   ],
   "source": [
    "import pandas\n",
    "import numpy\n",
    "detail = pandas.read_csv('data/detail.csv', index_col=0, encoding='gbk')\n",
    "# 自定义离差标准化函数\n",
    "def minMaxScale(data):\n",
    "    data = (data - data.min()) / (data.max() - data.min())\n",
    "    return data\n",
    "# 应用标准化\n",
    "data_1 = minMaxScale(detail['counts'])\n",
    "data_2 = minMaxScale(detail['amounts'])\n",
    "data_3 = pandas.concat([data_1, data_2], axis=1)\n",
    "print('离差标准化之前的销量和售价数据为：', detail[['counts', 'amounts']].head(), sep='\\n')\n",
    "print('离差标准化之后的销量和售价数据为：', data_3.head(), sep='\\n')"
   ]
  },
  {
   "cell_type": "markdown",
   "metadata": {},
   "source": [
    "<br>\n",
    "<center>\n",
    "    <b>代码5-27　标准差标准化示例</b>\n",
    "</center>"
   ]
  },
  {
   "cell_type": "code",
   "execution_count": 2,
   "metadata": {
    "jupyter": {
     "source_hidden": true
    }
   },
   "outputs": [
    {
     "name": "stdout",
     "output_type": "stream",
     "text": [
      "标准差标准化之前销量和售价数据为：\n",
      "           counts  amounts\n",
      "detail_id                 \n",
      "2956            1       49\n",
      "2958            1       48\n",
      "2961            1       30\n",
      "2966            1       25\n",
      "2968            1       13\n",
      "标准差标准化之后销量和售价数据为：\n",
      "             counts   amounts\n",
      "detail_id                    \n",
      "2956      -0.177571  0.116671\n",
      "2958      -0.177571  0.088751\n",
      "2961      -0.177571 -0.413826\n",
      "2966      -0.177571 -0.553431\n",
      "2968      -0.177571 -0.888482\n"
     ]
    }
   ],
   "source": [
    "# 自定义标准化函数\n",
    "def standardScale(data):\n",
    "    data = (data - data.mean()) / data.std()\n",
    "    return data\n",
    "# 应用标准化\n",
    "data_4 = standardScale(detail['counts'])\n",
    "data_5 = standardScale(detail['amounts'])\n",
    "data_6 = pandas.concat([data_4, data_5], axis=1)\n",
    "print('标准差标准化之前销量和售价数据为：', detail[['counts', 'amounts']].head(), sep='\\n')\n",
    "print('标准差标准化之后销量和售价数据为：', data_6.head(), sep='\\n')"
   ]
  },
  {
   "cell_type": "markdown",
   "metadata": {},
   "source": [
    "<br>\n",
    "<center>\n",
    "    <b>代码5-28　小数定标标准化示例</b>\n",
    "</center>"
   ]
  },
  {
   "cell_type": "code",
   "execution_count": 3,
   "metadata": {
    "jupyter": {
     "source_hidden": true
    }
   },
   "outputs": [
    {
     "name": "stdout",
     "output_type": "stream",
     "text": [
      "小数定标标准化之前的销量和售价数据为：\n",
      "           counts  amounts\n",
      "detail_id                 \n",
      "2956            1       49\n",
      "2958            1       48\n",
      "2961            1       30\n",
      "2966            1       25\n",
      "2968            1       13\n",
      "小数定标标准化之后的销量和售价数据为：\n",
      "           counts  amounts\n",
      "detail_id                 \n",
      "2956          0.1    0.049\n",
      "2958          0.1    0.048\n",
      "2961          0.1    0.030\n",
      "2966          0.1    0.025\n",
      "2968          0.1    0.013\n"
     ]
    }
   ],
   "source": [
    "# 自定义函数\n",
    "def decimalScale(data):\n",
    "    data = data / (10 ** numpy.ceil(numpy.log10(data.abs().max())))\n",
    "    return data\n",
    "# 应用标准化\n",
    "data_7 = decimalScale(detail['counts'])\n",
    "data_8 = decimalScale(detail['amounts'])\n",
    "data_9 = pandas.concat([data_7, data_8], axis=1)\n",
    "print('小数定标标准化之前的销量和售价数据为：', detail[['counts', 'amounts']].head(), sep='\\n')\n",
    "print('小数定标标准化之后的销量和售价数据为：', data_9.head(), sep='\\n')"
   ]
  },
  {
   "cell_type": "markdown",
   "metadata": {},
   "source": [
    "<br>\n",
    "<center>\n",
    "    <b>代码5-29　对订单详情表中的数值型数据做标准差标准化</b>\n",
    "</center>"
   ]
  },
  {
   "cell_type": "code",
   "execution_count": 4,
   "metadata": {
    "jupyter": {
     "source_hidden": true
    }
   },
   "outputs": [
    {
     "name": "stdout",
     "output_type": "stream",
     "text": [
      "标准差标准化之后销量和售价数据为：\n",
      "             counts   amounts\n",
      "detail_id                    \n",
      "2956      -0.177571  0.116671\n",
      "2958      -0.177571  0.088751\n",
      "2961      -0.177571 -0.413826\n",
      "2966      -0.177571 -0.553431\n",
      "2968      -0.177571 -0.888482\n",
      "1899      -0.177571  1.205587\n",
      "1902      -0.177571  0.284197\n",
      "1906      -0.177571  1.205587\n",
      "1907      -0.177571  0.088751\n",
      "1908      -0.177571 -0.357984\n"
     ]
    }
   ],
   "source": [
    "# 自定义函数\n",
    "def standardScale(data):\n",
    "    data = (data - data.mean()) / data.std()\n",
    "    return data\n",
    "# 应用标准化\n",
    "data_4 = standardScale(detail['counts'])\n",
    "data_5 = standardScale(detail['amounts'])\n",
    "data_6 = pandas.concat([data_4, data_5], axis=1)\n",
    "print('标准差标准化之后销量和售价数据为：', data_6.head(10), sep='\\n')"
   ]
  }
 ],
 "metadata": {
  "kernelspec": {
   "display_name": "Python 3",
   "language": "python",
   "name": "python3"
  },
  "language_info": {
   "codemirror_mode": {
    "name": "ipython",
    "version": 3
   },
   "file_extension": ".py",
   "mimetype": "text/x-python",
   "name": "python",
   "nbconvert_exporter": "python",
   "pygments_lexer": "ipython3",
   "version": "3.7.4"
  }
 },
 "nbformat": 4,
 "nbformat_minor": 4
}
