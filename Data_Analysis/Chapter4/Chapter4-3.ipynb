{
 "cells": [
  {
   "cell_type": "markdown",
   "metadata": {},
   "source": [
    "# 任务4.3　转换与处理时间序列数据"
   ]
  },
  {
   "cell_type": "markdown",
   "metadata": {},
   "source": [
    "## 代码4-41　转换字符串时间为标准时间"
   ]
  },
  {
   "cell_type": "code",
   "execution_count": 1,
   "metadata": {},
   "outputs": [
    {
     "name": "stdout",
     "output_type": "stream",
     "text": [
      "进行转换前订单信息表lock_time的类型为： object\n",
      "进行转换后订单信息表lock_time的类型为： datetime64[ns]\n"
     ]
    }
   ],
   "source": [
    "import pandas\n",
    "order = pandas.read_table('data/meal_order_info.csv', sep=',', encoding='gbk')\n",
    "print('进行转换前订单信息表lock_time的类型为：', order['lock_time'].dtypes)\n",
    "order['lock_time'] = pandas.to_datetime(order['lock_time'])\n",
    "print('进行转换后订单信息表lock_time的类型为：', order['lock_time'].dtypes)"
   ]
  },
  {
   "cell_type": "markdown",
   "metadata": {},
   "source": [
    "## 代码4-42　`Timestamp`的最小时间和最大时间"
   ]
  },
  {
   "cell_type": "code",
   "execution_count": 2,
   "metadata": {},
   "outputs": [
    {
     "name": "stdout",
     "output_type": "stream",
     "text": [
      "最小时间为： 1677-09-21 00:12:43.145225\n"
     ]
    }
   ],
   "source": [
    "print('最小时间为：', pandas.Timestamp.min)"
   ]
  },
  {
   "cell_type": "code",
   "execution_count": 3,
   "metadata": {},
   "outputs": [
    {
     "name": "stdout",
     "output_type": "stream",
     "text": [
      "最大时间为： 2262-04-11 23:47:16.854775807\n"
     ]
    }
   ],
   "source": [
    "print('最大时间为：', pandas.Timestamp.max)"
   ]
  },
  {
   "cell_type": "markdown",
   "metadata": {},
   "source": [
    "## 代码4-43　时间字符串转换为`DatetimeIndex`和`PeriodIndex`"
   ]
  },
  {
   "cell_type": "code",
   "execution_count": 4,
   "metadata": {},
   "outputs": [
    {
     "name": "stdout",
     "output_type": "stream",
     "text": [
      "转换为DatetimeIndex后数据的类型为：\n",
      "<class 'pandas.core.indexes.datetimes.DatetimeIndex'>\n"
     ]
    }
   ],
   "source": [
    "dateIndex = pandas.DatetimeIndex(order['lock_time'])\n",
    "print('转换为DatetimeIndex后数据的类型为：', type(dateIndex), sep='\\n')"
   ]
  },
  {
   "cell_type": "code",
   "execution_count": 5,
   "metadata": {},
   "outputs": [
    {
     "name": "stdout",
     "output_type": "stream",
     "text": [
      "转换为PeriodIndex后数据的类型为：\n",
      "<class 'pandas.core.indexes.period.PeriodIndex'>\n"
     ]
    }
   ],
   "source": [
    "periodIndex = pandas.PeriodIndex(order['lock_time'], freq='S')\n",
    "print('转换为PeriodIndex后数据的类型为：', type(periodIndex), sep='\\n')"
   ]
  },
  {
   "cell_type": "markdown",
   "metadata": {},
   "source": [
    "## 代码4-44　提取`datetime`数据中的事件序列数据"
   ]
  },
  {
   "cell_type": "code",
   "execution_count": 6,
   "metadata": {},
   "outputs": [
    {
     "name": "stdout",
     "output_type": "stream",
     "text": [
      "lock_time中的年份数据前5个为： [2016, 2016, 2016, 2016, 2016]\n",
      "lock_time中的月份数据前5个为： [8, 8, 8, 8, 8]\n",
      "lock_time中的日期数据前5个为： [1, 1, 1, 1, 1]\n",
      "lock_time中的星期名称数据前5个为： ['Monday', 'Monday', 'Monday', 'Monday', 'Monday']\n"
     ]
    },
    {
     "name": "stderr",
     "output_type": "stream",
     "text": [
      "C:\\Users\\legen\\Anaconda3\\lib\\site-packages\\ipykernel_launcher.py:7: FutureWarning: `weekday_name` is deprecated and will be removed in a future version. Use `day_name` instead\n",
      "  import sys\n"
     ]
    }
   ],
   "source": [
    "year1 = [i.year for i in order['lock_time']]\n",
    "print('lock_time中的年份数据前5个为：', year1[:5])\n",
    "month1 = [i.month for i in order['lock_time']]\n",
    "print('lock_time中的月份数据前5个为：', month1[:5])\n",
    "day1 = [i.day for i in order['lock_time']]\n",
    "print('lock_time中的日期数据前5个为：', day1[:5])\n",
    "weekday1 = [i.weekday_name for i in order['lock_time']]\n",
    "print('lock_time中的星期名称数据前5个为：', weekday1[:5])"
   ]
  },
  {
   "cell_type": "markdown",
   "metadata": {},
   "source": [
    "## 代码4-45　提取`DatetimeIndex`和`PeriodIndex`中的数据"
   ]
  },
  {
   "cell_type": "code",
   "execution_count": 7,
   "metadata": {},
   "outputs": [
    {
     "name": "stdout",
     "output_type": "stream",
     "text": [
      "dateIndex中的星期名称数据前5个为：\n",
      "Index(['Monday', 'Monday', 'Monday', 'Monday', 'Monday'], dtype='object', name='lock_time')\n",
      "periodIndex中的星期标号数据前5个为：\n",
      "Int64Index([0, 0, 0, 0, 0], dtype='int64', name='lock_time')\n"
     ]
    }
   ],
   "source": [
    "print('dateIndex中的星期名称数据前5个为：', dateIndex.weekday_name[:5], sep='\\n')\n",
    "print('periodIndex中的星期标号数据前5个为：', periodIndex.weekday[:5], sep='\\n')"
   ]
  },
  {
   "cell_type": "markdown",
   "metadata": {},
   "source": [
    "## 代码4-46　使用`Timedelta`实现时间数据的加运算"
   ]
  },
  {
   "cell_type": "code",
   "execution_count": 8,
   "metadata": {},
   "outputs": [
    {
     "name": "stdout",
     "output_type": "stream",
     "text": [
      "lock_time加上一天前前5行数据为：\n",
      "0   2016-08-01 11:11:46\n",
      "1   2016-08-01 11:31:55\n",
      "2   2016-08-01 12:54:37\n",
      "3   2016-08-01 13:08:20\n",
      "4   2016-08-01 13:07:16\n",
      "Name: lock_time, dtype: datetime64[ns]\n",
      "lock_time加上一天后前5行数据为：\n",
      "0   2016-08-02 11:11:46\n",
      "1   2016-08-02 11:31:55\n",
      "2   2016-08-02 12:54:37\n",
      "3   2016-08-02 13:08:20\n",
      "4   2016-08-02 13:07:16\n",
      "Name: lock_time, dtype: datetime64[ns]\n"
     ]
    }
   ],
   "source": [
    "time1 = order['lock_time'] + pandas.Timedelta(days=1)\n",
    "print('lock_time加上一天前前5行数据为：', order['lock_time'][:5], sep='\\n')\n",
    "print('lock_time加上一天后前5行数据为：', time1[:5], sep='\\n')"
   ]
  },
  {
   "cell_type": "markdown",
   "metadata": {},
   "source": [
    "## 代码4-47　使用`Timedelta`实现时间数据的减运算"
   ]
  },
  {
   "cell_type": "code",
   "execution_count": 9,
   "metadata": {},
   "outputs": [
    {
     "name": "stdout",
     "output_type": "stream",
     "text": [
      "lock_time减去2017年1月1日0时0分后的数据：\n",
      "0   -153 days +11:11:46\n",
      "1   -153 days +11:31:55\n",
      "2   -153 days +12:54:37\n",
      "3   -153 days +13:08:20\n",
      "4   -153 days +13:07:16\n",
      "Name: lock_time, dtype: timedelta64[ns]\n",
      "lock_time减去time1后的数据类型为： timedelta64[ns]\n"
     ]
    }
   ],
   "source": [
    "timeDelta = order['lock_time'] - pandas.to_datetime('2017-1-1')\n",
    "print('lock_time减去2017年1月1日0时0分后的数据：', timeDelta[:5], sep='\\n')\n",
    "print('lock_time减去time1后的数据类型为：', timeDelta.dtypes)"
   ]
  },
  {
   "cell_type": "markdown",
   "metadata": {},
   "source": [
    "## 代码4-48　订单信息表时间数据转换"
   ]
  },
  {
   "cell_type": "code",
   "execution_count": 10,
   "metadata": {},
   "outputs": [
    {
     "name": "stdout",
     "output_type": "stream",
     "text": [
      "进行转换后订单信息表use_start_time和lock_time的类型为： use_start_time    datetime64[ns]\n",
      "lock_time         datetime64[ns]\n",
      "dtype: object\n"
     ]
    }
   ],
   "source": [
    "import pandas\n",
    "order = pandas.read_table('data/meal_order_info.csv', sep=',', encoding='gbk')\n",
    "order['use_start_time'] = pandas.to_datetime(order['use_start_time'])\n",
    "order['lock_time'] = pandas.to_datetime(order['lock_time'])\n",
    "print('进行转换后订单信息表use_start_time和lock_time的类型为：', order[['use_start_time', 'lock_time']].dtypes)"
   ]
  },
  {
   "cell_type": "markdown",
   "metadata": {},
   "source": [
    "## 代码4-49　订单信息表时间信息提取"
   ]
  },
  {
   "cell_type": "code",
   "execution_count": 11,
   "metadata": {},
   "outputs": [
    {
     "name": "stdout",
     "output_type": "stream",
     "text": [
      "订单详情表前5条数据的年份信息为： [2016, 2016, 2016, 2016, 2016]\n",
      "订单详情表前5条数据的月份信息为： [8, 8, 8, 8, 8]\n",
      "订单详情表前5条数据的日期信息为： [1, 1, 1, 1, 1]\n",
      "订单详情表前5条数据的周信息为： [31, 31, 31, 31, 31]\n",
      "订单详情表前5条数据的星期信息为： [0, 0, 0, 0, 0]\n",
      "订单详情表前5条数据的星期名称信息为： ['Monday', 'Monday', 'Monday', 'Monday', 'Monday']\n"
     ]
    },
    {
     "name": "stderr",
     "output_type": "stream",
     "text": [
      "C:\\Users\\legen\\Anaconda3\\lib\\site-packages\\ipykernel_launcher.py:6: FutureWarning: `weekday_name` is deprecated and will be removed in a future version. Use `day_name` instead\n",
      "  \n"
     ]
    }
   ],
   "source": [
    "year = [i.year for i in order['lock_time']]\n",
    "month = [i.month for i in order['lock_time']]\n",
    "day = [i.day for i in order['lock_time']]\n",
    "week = [i.week for i in order['lock_time']]\n",
    "weekday = [i.weekday() for i in order['lock_time']]\n",
    "weekname = [i.weekday_name for i in order['lock_time']]\n",
    "print('订单详情表前5条数据的年份信息为：', year[:5])\n",
    "print('订单详情表前5条数据的月份信息为：', month[:5])\n",
    "print('订单详情表前5条数据的日期信息为：', day[:5])\n",
    "print('订单详情表前5条数据的周信息为：', week[:5])\n",
    "print('订单详情表前5条数据的星期信息为：', weekday[:5])\n",
    "print('订单详情表前5条数据的星期名称信息为：', weekname[:5])"
   ]
  },
  {
   "cell_type": "markdown",
   "metadata": {},
   "source": [
    "## 代码4-50　查看订单信息表时间统计信息"
   ]
  },
  {
   "cell_type": "code",
   "execution_count": 12,
   "metadata": {},
   "outputs": [
    {
     "name": "stdout",
     "output_type": "stream",
     "text": [
      "订单最早的时间为： 2016-08-01 11:11:46\n",
      "订单最晚的时间为： 2016-08-31 21:56:12\n",
      "订单持续的时间为： 30 days 10:44:26\n"
     ]
    }
   ],
   "source": [
    "time_min = order['lock_time'].min()\n",
    "time_max = order['lock_time'].max()\n",
    "print('订单最早的时间为：', time_min)\n",
    "print('订单最晚的时间为：', time_max)\n",
    "print('订单持续的时间为：', time_max - time_min)"
   ]
  },
  {
   "cell_type": "code",
   "execution_count": 13,
   "metadata": {},
   "outputs": [
    {
     "name": "stdout",
     "output_type": "stream",
     "text": [
      "平均点餐时间为： 0 days 01:12:10.326923\n",
      "最短点餐时间为： -1 days +00:05:03\n",
      "最长点餐时间为： 16 days 00:08:00\n"
     ]
    }
   ],
   "source": [
    "check_time = order['lock_time'] - order['use_start_time']\n",
    "print('平均点餐时间为：', check_time.mean())\n",
    "print('最短点餐时间为：', check_time.min())\n",
    "print('最长点餐时间为：', check_time.max())"
   ]
  }
 ],
 "metadata": {
  "kernelspec": {
   "display_name": "Python 3",
   "language": "python",
   "name": "python3"
  },
  "language_info": {
   "codemirror_mode": {
    "name": "ipython",
    "version": 3
   },
   "file_extension": ".py",
   "mimetype": "text/x-python",
   "name": "python",
   "nbconvert_exporter": "python",
   "pygments_lexer": "ipython3",
   "version": "3.7.4"
  }
 },
 "nbformat": 4,
 "nbformat_minor": 4
}
