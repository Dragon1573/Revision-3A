{
 "cells": [
  {
   "cell_type": "markdown",
   "metadata": {},
   "source": [
    "## 任务7.3　使用`K-Means`算法进行客户分群\n",
    "\n",
    "<center>\n",
    "    <br>\n",
    "    代码7-4　航空客户价值分析<code>K-Means</code>聚类\n",
    "</center>"
   ]
  },
  {
   "cell_type": "code",
   "execution_count": 1,
   "metadata": {},
   "outputs": [
    {
     "name": "stdout",
     "output_type": "stream",
     "text": [
      "K-Means聚类中心为：\n",
      "[[ 0.05184321 -0.22680493 -0.00266815  2.19136467 -0.23125594]\n",
      " [ 0.48333235  2.48322162 -0.7993897   0.30863251  2.42474345]\n",
      " [ 1.16067608 -0.08691922 -0.37722423 -0.15590586 -0.09484481]\n",
      " [-0.7002121  -0.16114387 -0.41489162 -0.25513359 -0.16095881]\n",
      " [-0.31368082 -0.57402062  1.68627205 -0.1733275  -0.53682451]]\n"
     ]
    }
   ],
   "source": [
    "import numpy\n",
    "# 导入 K-Means 聚类算法\n",
    "from sklearn.cluster import KMeans\n",
    "airline_scale = numpy.load('stash/airline_scale.npz')['arr_0']\n",
    "# 确定聚类中心数量\n",
    "k = 5\n",
    "# 构建模型\n",
    "kmeans_model = KMeans(n_clusters=k, n_jobs=4, random_state=0x6A1B)\n",
    "# 训练模型\n",
    "fit_kmeans = kmeans_model.fit(airline_scale)\n",
    "# 查看聚类中心\n",
    "print('K-Means聚类中心为：', kmeans_model.cluster_centers_, sep='\\n')"
   ]
  },
  {
   "cell_type": "code",
   "execution_count": 2,
   "metadata": {},
   "outputs": [
    {
     "name": "stdout",
     "output_type": "stream",
     "text": [
      "样本的类别标签为： [1 1 1 ... 3 4 4]\n"
     ]
    }
   ],
   "source": [
    "# 查看样本的类别标签\n",
    "print('样本的类别标签为：', kmeans_model.labels_)"
   ]
  },
  {
   "cell_type": "code",
   "execution_count": 3,
   "metadata": {},
   "outputs": [
    {
     "name": "stdout",
     "output_type": "stream",
     "text": [
      "最终每个类别的数目为：\n",
      "3    24659\n",
      "2    15740\n",
      "4    12125\n",
      "1     5336\n",
      "0     4184\n",
      "dtype: int64\n"
     ]
    }
   ],
   "source": [
    "# 统计不同类别样本的数目\n",
    "import pandas\n",
    "r_A = pandas.Series(kmeans_model.labels_).value_counts()\n",
    "print('最终每个类别的数目为：', r_A, sep='\\n')"
   ]
  }
 ],
 "metadata": {
  "kernelspec": {
   "display_name": "Python 3",
   "language": "python",
   "name": "python3"
  },
  "language_info": {
   "codemirror_mode": {
    "name": "ipython",
    "version": 3
   },
   "file_extension": ".py",
   "mimetype": "text/x-python",
   "name": "python",
   "nbconvert_exporter": "python",
   "pygments_lexer": "ipython3",
   "version": "3.7.4"
  }
 },
 "nbformat": 4,
 "nbformat_minor": 4
}
