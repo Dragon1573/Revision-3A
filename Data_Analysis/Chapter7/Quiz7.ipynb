{
 "cells": [
  {
   "cell_type": "markdown",
   "metadata": {},
   "source": [
    "## 课后习题·操作题\n",
    "\n",
    "&emsp;&emsp;在篮球运动中，一般情况下，控球后卫与得分后卫的助攻数较多，小前锋的的分数较多，而大前锋和中锋的助攻数与的分数较少。下表所示为21名篮球运动员每分钟助攻数和每分钟的分数的数据集，请运用`K-Means`聚类算法将这21名篮球运动员划分为5类，并通过画图判断它们分别属于什么位置。"
   ]
  },
  {
   "cell_type": "code",
   "execution_count": 1,
   "metadata": {},
   "outputs": [
    {
     "name": "stdout",
     "output_type": "stream",
     "text": [
      "数据集规模为： (21, 2)\n",
      "数据集详情为：\n",
      "    assists_per_minute  points_per_minute\n",
      "1               0.0888             0.5885\n",
      "2               0.1399             0.8291\n",
      "3               0.0747             0.4974\n",
      "4               0.0983             0.5772\n",
      "5               0.1276             0.5703\n",
      "6               0.1671             0.5835\n",
      "7               0.1906             0.5276\n",
      "8               0.1061             0.5523\n",
      "9               0.2446             0.4007\n",
      "10              0.1670             0.4770\n",
      "11              0.2485             0.4313\n",
      "12              0.1227             0.4909\n",
      "13              0.1240             0.5668\n",
      "14              0.1461             0.5113\n",
      "15              0.2315             0.3788\n",
      "16              0.0494             0.5590\n",
      "17              0.1107             0.4799\n",
      "18              0.2521             0.5735\n",
      "19              0.1007             0.6318\n",
      "20              0.1067             0.4326\n",
      "21              0.1956             0.4280\n"
     ]
    }
   ],
   "source": [
    "# 读取数据\n",
    "import pandas\n",
    "data = pandas.read_csv('data/data.csv', encoding='GB18030', index_col=0)\n",
    "print('数据集规模为：', data.shape)\n",
    "print('数据集详情为：', data, sep='\\n')"
   ]
  },
  {
   "cell_type": "code",
   "execution_count": 2,
   "metadata": {},
   "outputs": [
    {
     "name": "stdout",
     "output_type": "stream",
     "text": [
      "K-Means模型的聚类中心分别为：\n",
      "[[0.20326667 0.56153333]\n",
      " [0.12131667 0.48151667]\n",
      " [0.1399     0.8291    ]\n",
      " [0.23005    0.4097    ]\n",
      " [0.09927143 0.57798571]]\n",
      "模型的样本标签为：\n",
      "[4 2 1 4 4 0 0 4 3 1 3 1 4 1 3 4 1 0 4 1 3]\n"
     ]
    }
   ],
   "source": [
    "from sklearn.cluster import KMeans\n",
    "model = KMeans(n_clusters=5, n_jobs=4, random_state=0x6A1B)\n",
    "fitted_model = model.fit(data)\n",
    "print('K-Means模型的聚类中心分别为：', fitted_model.cluster_centers_, sep='\\n')\n",
    "print('模型的样本标签为：', fitted_model.labels_, sep='\\n')"
   ]
  }
 ],
 "metadata": {
  "kernelspec": {
   "display_name": "Python 3",
   "language": "python",
   "name": "python3"
  },
  "language_info": {
   "codemirror_mode": {
    "name": "ipython",
    "version": 3
   },
   "file_extension": ".py",
   "mimetype": "text/x-python",
   "name": "python",
   "nbconvert_exporter": "python",
   "pygments_lexer": "ipython3",
   "version": "3.7.4"
  }
 },
 "nbformat": 4,
 "nbformat_minor": 4
}
