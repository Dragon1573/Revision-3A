{
 "cells": [
  {
   "cell_type": "markdown",
   "metadata": {},
   "source": [
    "# 第7章　航空公司客户价值分析\n",
    "\n",
    "## 任务7-2　预处理航空客户数据"
   ]
  },
  {
   "cell_type": "markdown",
   "metadata": {},
   "source": [
    "<center>\n",
    "    <br>\n",
    "    代码7-1　缺失值与异常值处理\n",
    "</center>"
   ]
  },
  {
   "cell_type": "code",
   "execution_count": 1,
   "metadata": {},
   "outputs": [
    {
     "name": "stdout",
     "output_type": "stream",
     "text": [
      "原始数据的形状为： (62988, 44)\n",
      "删除缺失记录后数据的形状为： (62299, 44)\n"
     ]
    }
   ],
   "source": [
    "import numpy\n",
    "import pandas\n",
    "# 导入数据\n",
    "airline_data = pandas.read_csv('data/air_data.csv', encoding='GB18030')\n",
    "print('原始数据的形状为：', airline_data.shape)\n",
    "# 去除票价为空的记录\n",
    "expression_A = airline_data['SUM_YR_1'].notnull()\n",
    "expression_B = airline_data['SUM_YR_2'].notnull()\n",
    "expression = expression_A & expression_B\n",
    "airline_notNull = airline_data.loc[expression, :]\n",
    "print('删除缺失记录后数据的形状为：', airline_notNull.shape)"
   ]
  },
  {
   "cell_type": "code",
   "execution_count": 2,
   "metadata": {},
   "outputs": [
    {
     "name": "stdout",
     "output_type": "stream",
     "text": [
      "删除异常记录后数据的形状为： (62044, 44)\n"
     ]
    }
   ],
   "source": [
    "index_A = airline_notNull['SUM_YR_1'] != 0\n",
    "index_B = airline_notNull['SUM_YR_2'] != 0\n",
    "index_C = (airline_notNull['SEG_KM_SUM'] > 0) & (airline_notNull['avg_discount'] != 0)\n",
    "airline = airline_notNull[(index_A | index_B) & index_C]\n",
    "print('删除异常记录后数据的形状为：', airline.shape)"
   ]
  },
  {
   "cell_type": "markdown",
   "metadata": {},
   "source": [
    "<center>\n",
    "    <br>\n",
    "    代码7-2　选取并构建<code>LRFMC</code>模型的特征\n",
    "</center>"
   ]
  },
  {
   "cell_type": "code",
   "execution_count": 3,
   "metadata": {},
   "outputs": [
    {
     "name": "stdout",
     "output_type": "stream",
     "text": [
      "构建的 LRFMC 特征前5行为：\n",
      "           0  FLIGHT_COUNT  LAST_TO_END  avg_discount  SEG_KM_SUM\n",
      "0  90.200000           210            1      0.961639      580717\n",
      "1  86.566667           140            7      1.252314      293678\n",
      "2  87.166667           135           11      1.254676      283712\n",
      "3  68.233333            23           97      1.090870      281336\n",
      "4  60.533333           152            5      0.970658      309928\n"
     ]
    }
   ],
   "source": [
    "# 选取需求特征\n",
    "airline_selection = airline[[\n",
    "    'FFP_DATE', 'LOAD_TIME', 'FLIGHT_COUNT',\n",
    "    'LAST_TO_END', 'avg_discount', 'SEG_KM_SUM'\n",
    "]]\n",
    "# 构建 L 特征\n",
    "L = (\n",
    "    pandas.to_datetime(airline_selection['LOAD_TIME'])\n",
    "    - pandas.to_datetime(airline_selection['FFP_DATE'])\n",
    ")\n",
    "L = L.astype('str').str.split().str[0]\n",
    "L = L.astype('int') / 30\n",
    "# 合并特征\n",
    "airline_features = pandas.concat([L, airline_selection.iloc[:, 2:]], axis=1)\n",
    "print('构建的 LRFMC 特征前5行为：', airline_features.head(), sep='\\n')"
   ]
  },
  {
   "cell_type": "markdown",
   "metadata": {},
   "source": [
    "<center>\n",
    "    <br>\n",
    "    代码7-3　标准化<code>LRFMC</code>模型的特征\n",
    "</center>"
   ]
  },
  {
   "cell_type": "code",
   "execution_count": 4,
   "metadata": {},
   "outputs": [
    {
     "name": "stdout",
     "output_type": "stream",
     "text": [
      "标准化后 LRFMC 五个特征的前5行为：\n",
      "[[ 1.43571897 14.03412875 -0.94495516  1.29555058 26.76136996]\n",
      " [ 1.30716214  9.07328567 -0.9119018   2.86819902 13.1269701 ]\n",
      " [ 1.32839171  8.71893974 -0.88986623  2.88097321 12.65358345]\n",
      " [ 0.65848092  0.78159082 -0.41610151  1.99472974 12.54072306]\n",
      " [ 0.38603481  9.92371591 -0.92291959  1.3443455  13.89884778]]\n"
     ]
    }
   ],
   "source": [
    "from sklearn.preprocessing import StandardScaler\n",
    "data = StandardScaler().fit_transform(airline_features)\n",
    "numpy.savez('stash/airline_scale.npz', data)\n",
    "print('标准化后 LRFMC 五个特征的前5行为：', data[:5, :], sep='\\n')"
   ]
  }
 ],
 "metadata": {
  "kernelspec": {
   "display_name": "Python 3",
   "language": "python",
   "name": "python3"
  },
  "language_info": {
   "codemirror_mode": {
    "name": "ipython",
    "version": 3
   },
   "file_extension": ".py",
   "mimetype": "text/x-python",
   "name": "python",
   "nbconvert_exporter": "python",
   "pygments_lexer": "ipython3",
   "version": "3.7.4"
  }
 },
 "nbformat": 4,
 "nbformat_minor": 4
}
