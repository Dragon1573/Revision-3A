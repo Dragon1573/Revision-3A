{
 "cells": [
  {
   "cell_type": "markdown",
   "metadata": {},
   "source": [
    "## 实训3　构建`K-Means`聚类模型\n",
    "\n",
    "1. 训练要点\n",
    "\n",
    "    1. 掌握`K-Means`聚类算法的应用。\n",
    "    2. 掌握聚类算法结果分析的方法。\n",
    "\n",
    "2. 需求说明\n",
    "\n",
    "    &emsp;&emsp;构建信用卡高风险客户识别模型可以分为两部分：第一部分，根据构建的3个特征对客户进行分群，对客户做聚类分群；第二部分，结合业务对每个客户群进行特征分析，分析其风险，并对每个客户群进行排名。\n",
    "\n",
    "3. 实现思路及步骤\n",
    "\n",
    "    1. 构建`K-Means`聚类模型，聚类数为5.\n",
    "    2. 训练`K-Means`聚类模型，并求出聚类中心、每类的用户数目。"
   ]
  },
  {
   "cell_type": "code",
   "execution_count": 1,
   "metadata": {},
   "outputs": [
    {
     "name": "stdout",
     "output_type": "stream",
     "text": [
      "K-Means模型的聚类中心为：\n",
      "[[ 0.29977654 -0.89336888  0.99719767]\n",
      " [ 0.30275004  0.76516772  1.14140772]\n",
      " [ 0.30690064 -0.877853   -0.78044033]\n",
      " [ 0.31301576  0.81268231 -0.60618854]\n",
      " [-3.12880076 -0.22652632 -0.07645585]]\n"
     ]
    }
   ],
   "source": [
    "# 读入数据\n",
    "import numpy\n",
    "from sklearn.cluster import KMeans\n",
    "credit_cards = numpy.load('stash/credit_card.npz')['arr_0']\n",
    "# 构建模型\n",
    "model = KMeans(n_clusters=5, n_jobs=4, random_state=0x6A1B)\n",
    "# 模型训练\n",
    "fitted_model = model.fit(credit_cards)\n",
    "# 查看聚类中心\n",
    "print('K-Means模型的聚类中心为：', model.cluster_centers_, sep='\\n')"
   ]
  },
  {
   "cell_type": "code",
   "execution_count": 2,
   "metadata": {},
   "outputs": [
    {
     "name": "stdout",
     "output_type": "stream",
     "text": [
      "模型的样本标签为：\n",
      "[2 0 2 ... 3 4 2]\n"
     ]
    }
   ],
   "source": [
    "# 查看样本的类别标签\n",
    "print('模型的样本标签为：', model.labels_, sep='\\n')"
   ]
  },
  {
   "cell_type": "code",
   "execution_count": 3,
   "metadata": {},
   "outputs": [
    {
     "name": "stdout",
     "output_type": "stream",
     "text": [
      "每个聚类所包含的客户数量为：\n",
      "3    21632\n",
      "2    14573\n",
      "0    12918\n",
      "1    10559\n",
      "4     5853\n",
      "dtype: int64\n"
     ]
    }
   ],
   "source": [
    "# 统计不同类别的数目\n",
    "import pandas\n",
    "stats = pandas.Series(model.labels_).value_counts()\n",
    "print('每个聚类所包含的客户数量为：', stats, sep='\\n')"
   ]
  }
 ],
 "metadata": {
  "kernelspec": {
   "display_name": "Python 3",
   "language": "python",
   "name": "python3"
  },
  "language_info": {
   "codemirror_mode": {
    "name": "ipython",
    "version": 3
   },
   "file_extension": ".py",
   "mimetype": "text/x-python",
   "name": "python",
   "nbconvert_exporter": "python",
   "pygments_lexer": "ipython3",
   "version": "3.7.4"
  }
 },
 "nbformat": 4,
 "nbformat_minor": 4
}
