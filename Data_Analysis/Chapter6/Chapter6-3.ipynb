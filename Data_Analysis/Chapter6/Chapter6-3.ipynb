{
 "cells": [
  {
   "cell_type": "markdown",
   "metadata": {},
   "source": [
    "# 第6章　使用 `scikit-learn` 构建模型"
   ]
  },
  {
   "cell_type": "markdown",
   "metadata": {},
   "source": [
    "## 任务6.3　构建并评价分类模型"
   ]
  },
  {
   "cell_type": "markdown",
   "metadata": {},
   "source": [
    "<br>\n",
    "<center>\n",
    "    <b>代码6-17　使用<code>sklearn</code>估计器构建<code>SVM</code>模型</b>\n",
    "</center>"
   ]
  },
  {
   "cell_type": "code",
   "execution_count": 1,
   "metadata": {},
   "outputs": [
    {
     "name": "stdout",
     "output_type": "stream",
     "text": [
      "建立的SVM模型为：\n",
      "SVC(C=1.0, cache_size=200, class_weight=None, coef0=0.0,\n",
      "    decision_function_shape='ovr', degree=3, gamma='auto_deprecated',\n",
      "    kernel='rbf', max_iter=-1, probability=False, random_state=None,\n",
      "    shrinking=True, tol=0.001, verbose=False)\n"
     ]
    }
   ],
   "source": [
    "import numpy\n",
    "from sklearn.datasets import load_breast_cancer\n",
    "from sklearn.svm import SVC\n",
    "from sklearn.model_selection import train_test_split\n",
    "from sklearn.preprocessing import StandardScaler\n",
    "cancer = load_breast_cancer()\n",
    "cancer_data = cancer['data']\n",
    "cancer_target = cancer['target']\n",
    "cancer_names = cancer['feature_names']\n",
    "(cancer_data_train, cancer_data_test, cancer_target_train, cancer_target_test) = train_test_split(\n",
    "    cancer_data, cancer_target, test_size=0.2, random_state=22\n",
    ")\n",
    "stdScaler = StandardScaler().fit(cancer_data_train)\n",
    "cancer_trainStd = stdScaler.transform(cancer_data_train)\n",
    "cancer_testStd = stdScaler.transform(cancer_data_test)\n",
    "svm = SVC().fit(cancer_trainStd, cancer_target_train)\n",
    "print('建立的SVM模型为：', svm, sep='\\n')"
   ]
  },
  {
   "cell_type": "code",
   "execution_count": 2,
   "metadata": {},
   "outputs": [
    {
     "name": "stdout",
     "output_type": "stream",
     "text": [
      "预测前20个结果为； [1 0 0 0 1 1 1 1 1 1 1 1 0 1 1 1 0 0 1 1]\n"
     ]
    }
   ],
   "source": [
    "cancer_target_pred = svm.predict(cancer_testStd)\n",
    "print('预测前20个结果为；', cancer_target_pred[:20])"
   ]
  },
  {
   "cell_type": "markdown",
   "metadata": {},
   "source": [
    "<br>\n",
    "<center>\n",
    "    <b>代码6-18　分类结果的混淆矩阵与准确率</b>\n",
    "</center>"
   ]
  },
  {
   "cell_type": "code",
   "execution_count": 3,
   "metadata": {},
   "outputs": [
    {
     "name": "stdout",
     "output_type": "stream",
     "text": [
      "预测正确的结果数据为： 111\n",
      "预测错误的结果数目为： 3\n",
      "预测结果准确率为： 0.9736842105263158\n"
     ]
    }
   ],
   "source": [
    "true = numpy.sum(cancer_target_pred == cancer_target_test)\n",
    "print('预测正确的结果数据为：', true)\n",
    "print('预测错误的结果数目为：', cancer_target_test.shape[0] - true)\n",
    "print('预测结果准确率为：', true / cancer_target_test.shape[0])"
   ]
  },
  {
   "cell_type": "markdown",
   "metadata": {},
   "source": [
    "<br>\n",
    "<center>\n",
    "    <b>代码6-19　分类模型常用评价方法</b>\n",
    "</center>"
   ]
  },
  {
   "cell_type": "code",
   "execution_count": 4,
   "metadata": {},
   "outputs": [
    {
     "name": "stdout",
     "output_type": "stream",
     "text": [
      "使用SVM预测乳腺癌数据的准确率为： 0.9736842105263158\n",
      "使用SVM预测乳腺癌数据的精确率为： 0.9594594594594594\n",
      "使用SVM预测乳腺癌数据的召回率为： 1.0\n",
      "使用SVM预测乳腺癌数据的F1值为： 0.9793103448275862\n",
      "使用SVM预测乳腺癌数据的Kappa系数为： 0.9432082364662903\n"
     ]
    }
   ],
   "source": [
    "from sklearn.metrics import (\n",
    "    accuracy_score, precision_score, recall_score, f1_score, cohen_kappa_score\n",
    ")\n",
    "print('使用SVM预测乳腺癌数据的准确率为：', accuracy_score(cancer_target_test, cancer_target_pred))\n",
    "print('使用SVM预测乳腺癌数据的精确率为：', precision_score(cancer_target_test, cancer_target_pred))\n",
    "print('使用SVM预测乳腺癌数据的召回率为：', recall_score(cancer_target_test, cancer_target_pred))\n",
    "print('使用SVM预测乳腺癌数据的F1值为：', f1_score(cancer_target_test, cancer_target_pred))\n",
    "print('使用SVM预测乳腺癌数据的Kappa系数为：', cohen_kappa_score(cancer_target_test, cancer_target_pred))"
   ]
  },
  {
   "cell_type": "markdown",
   "metadata": {},
   "source": [
    "<br>\n",
    "<center>\n",
    "    <b>代码6-20　分类模型评估报告</b>\n",
    "</center>"
   ]
  },
  {
   "cell_type": "code",
   "execution_count": 5,
   "metadata": {},
   "outputs": [
    {
     "name": "stdout",
     "output_type": "stream",
     "text": [
      "使用SVM预测乳腺癌数据的分类报告为：\n",
      "              precision    recall  f1-score   support\n",
      "\n",
      "           0       1.00      0.93      0.96        43\n",
      "           1       0.96      1.00      0.98        71\n",
      "\n",
      "    accuracy                           0.97       114\n",
      "   macro avg       0.98      0.97      0.97       114\n",
      "weighted avg       0.97      0.97      0.97       114\n",
      "\n"
     ]
    }
   ],
   "source": [
    "from sklearn.metrics import classification_report\n",
    "print(\n",
    "    '使用SVM预测乳腺癌数据的分类报告为：',\n",
    "    classification_report(cancer_target_test, cancer_target_pred),\n",
    "    sep='\\n'\n",
    ")"
   ]
  },
  {
   "cell_type": "markdown",
   "metadata": {},
   "source": [
    "<br>\n",
    "<center>\n",
    "    <b>代码6-21　绘制<code>ROC</code>曲线</b>\n",
    "</center>"
   ]
  },
  {
   "cell_type": "code",
   "execution_count": 6,
   "metadata": {},
   "outputs": [
    {
     "data": {
      "image/png": "[encoded data removed]",
      "text/plain": [
       "<Figure size 720x432 with 1 Axes>"
      ]
     },
     "metadata": {
      "needs_background": "light"
     },
     "output_type": "display_data"
    }
   ],
   "source": [
    "%matplotlib inline\n",
    "from sklearn.metrics import roc_curve\n",
    "from matplotlib import pyplot\n",
    "(fpr, tpr, thresholds) = roc_curve(cancer_target_test, cancer_target_pred)\n",
    "pyplot.figure(figsize=(10, 6))\n",
    "pyplot.xlim(0, 1)\n",
    "pyplot.ylim(0, 1.1)\n",
    "pyplot.xlabel('False Postive Rate')\n",
    "pyplot.ylabel('True Postive Rate')\n",
    "pyplot.plot(\n",
    "    fpr, tpr, 'r-', [0, 1], [0, 1], 'b-.'\n",
    ")\n",
    "pyplot.savefig('img/ROC曲线.svg')\n",
    "pyplot.show()"
   ]
  },
  {
   "cell_type": "markdown",
   "metadata": {},
   "source": [
    "<br>\n",
    "<center>\n",
    "    <b>代码6-22　鲍鱼年龄预测</b>\n",
    "</center>"
   ]
  },
  {
   "cell_type": "code",
   "execution_count": 7,
   "metadata": {},
   "outputs": [
    {
     "name": "stdout",
     "output_type": "stream",
     "text": [
      "建立的SVM模型为：\n",
      "SVC(C=1.0, cache_size=200, class_weight=None, coef0=0.0,\n",
      "    decision_function_shape='ovr', degree=3, gamma='auto_deprecated',\n",
      "    kernel='rbf', max_iter=-1, probability=False, random_state=None,\n",
      "    shrinking=True, tol=0.001, verbose=False)\n"
     ]
    }
   ],
   "source": [
    "import pandas\n",
    "from sklearn.svm import SVC\n",
    "from sklearn.metrics import classification_report\n",
    "from sklearn.model_selection import train_test_split\n",
    "from sklearn.preprocessing import StandardScaler\n",
    "abalone = pandas.read_csv('data/abalone.data', sep=',', encoding='gbk')\n",
    "# 拆分标签与数据\n",
    "abalone_data = abalone.iloc[:, :8]\n",
    "abalone_target = abalone.iloc[:, 8]\n",
    "# 哑变量处理\n",
    "sex = pandas.get_dummies(abalone_data['sex'])\n",
    "abalone_data = pandas.concat([abalone_data, sex], axis=1)\n",
    "abalone_data.drop('sex', axis=1, inplace=True)\n",
    "# 划分训练集、测试集\n",
    "(abalone_train, abalone_test, abalone_target_train, abalone_target_test) = train_test_split(\n",
    "    abalone_data, abalone_target, train_size=0.8, random_state=42\n",
    ")\n",
    "# 标准化\n",
    "stdScaler = StandardScaler().fit(abalone_train)\n",
    "abalone_std_train = stdScaler.transform(abalone_train)\n",
    "abalone_std_test = stdScaler.transform(abalone_test)\n",
    "# 建模\n",
    "svm_abalone = SVC().fit(abalone_std_train, abalone_target_train)\n",
    "print('建立的SVM模型为：', svm_abalone, sep='\\n')"
   ]
  },
  {
   "cell_type": "markdown",
   "metadata": {},
   "source": [
    "<br>\n",
    "<center>\n",
    "    <b>代码6-23　评价构建的<code>SVM</code>分类模型</b>\n",
    "</center>"
   ]
  },
  {
   "cell_type": "code",
   "execution_count": 8,
   "metadata": {},
   "outputs": [
    {
     "name": "stdout",
     "output_type": "stream",
     "text": [
      "鲍鱼年龄数据集的SVM分类报告为：               precision    recall  f1-score   support\n",
      "\n",
      "           3       0.00      0.00      0.00         3\n",
      "           4       0.45      0.69      0.55        13\n",
      "           5       0.54      0.22      0.31        32\n",
      "           6       0.40      0.33      0.36        48\n",
      "           7       0.41      0.44      0.42        84\n",
      "           8       0.37      0.36      0.37        99\n",
      "           9       0.28      0.57      0.38       142\n",
      "          10       0.24      0.33      0.28       139\n",
      "          11       0.25      0.25      0.25        93\n",
      "          12       0.00      0.00      0.00        51\n",
      "          13       0.00      0.00      0.00        31\n",
      "          14       0.00      0.00      0.00        26\n",
      "          15       0.00      0.00      0.00        21\n",
      "          16       0.00      0.00      0.00        13\n",
      "          17       0.00      0.00      0.00         8\n",
      "          18       0.00      0.00      0.00        12\n",
      "          19       0.00      0.00      0.00         7\n",
      "          20       0.00      0.00      0.00         4\n",
      "          21       0.00      0.00      0.00         3\n",
      "          22       0.00      0.00      0.00         3\n",
      "          23       0.00      0.00      0.00         4\n",
      "\n",
      "    accuracy                           0.31       836\n",
      "   macro avg       0.14      0.15      0.14       836\n",
      "weighted avg       0.25      0.31      0.26       836\n",
      "\n"
     ]
    },
    {
     "name": "stderr",
     "output_type": "stream",
     "text": [
      "C:\\Users\\legen\\Anaconda3\\lib\\site-packages\\sklearn\\metrics\\classification.py:1437: UndefinedMetricWarning: Precision and F-score are ill-defined and being set to 0.0 in labels with no predicted samples.\n",
      "  'precision', 'predicted', average, warn_for)\n"
     ]
    }
   ],
   "source": [
    "abalone_target_pred = svm_abalone.predict(abalone_std_test)\n",
    "print('鲍鱼年龄数据集的SVM分类报告为：', classification_report(abalone_target_test, abalone_target_pred))"
   ]
  }
 ],
 "metadata": {
  "kernelspec": {
   "display_name": "Python 3",
   "language": "python",
   "name": "python3"
  },
  "language_info": {
   "codemirror_mode": {
    "name": "ipython",
    "version": 3
   },
   "file_extension": ".py",
   "mimetype": "text/x-python",
   "name": "python",
   "nbconvert_exporter": "python",
   "pygments_lexer": "ipython3",
   "version": "3.7.4"
  }
 },
 "nbformat": 4,
 "nbformat_minor": 4
}
