{
 "cells": [
  {
   "cell_type": "markdown",
   "metadata": {},
   "source": [
    "# 第6章　使用 `scikit-learn` 构建模型\n",
    "\n",
    "## 课后习题　操作题"
   ]
  },
  {
   "cell_type": "markdown",
   "metadata": {},
   "source": [
    "1. 加载 `iris` 数据集，并划分训练集、测试集。"
   ]
  },
  {
   "cell_type": "code",
   "execution_count": 1,
   "metadata": {},
   "outputs": [
    {
     "name": "stdout",
     "output_type": "stream",
     "text": [
      "划分后的训练集数据规模为： (120, 4)\n",
      "划分后的训练集标签规模为： (120,)\n",
      "划分后的测试集数据规模为： (30, 4)\n",
      "划分后的测试集标签规模为： (30,)\n"
     ]
    }
   ],
   "source": [
    "import pandas\n",
    "from sklearn.datasets import load_iris\n",
    "iris = load_iris()\n",
    "iris_data = iris['data']\n",
    "iris_tags = iris['target']\n",
    "from sklearn.model_selection import train_test_split\n",
    "(iris_data_train, iris_data_test, iris_tags_train, iris_tags_test) = train_test_split(\n",
    "    iris_data, iris_tags, test_size=0.2, random_state=0x6A24261B\n",
    ")\n",
    "print('划分后的训练集数据规模为：', iris_data_train.shape)\n",
    "print('划分后的训练集标签规模为：', iris_tags_train.shape)\n",
    "print('划分后的测试集数据规模为：', iris_data_test.shape)\n",
    "print('划分后的测试集标签规模为：', iris_tags_test.shape)"
   ]
  },
  {
   "cell_type": "markdown",
   "metadata": {},
   "source": [
    "2. 对 `iris` 数据集使用 `PCA` 降维，目的是把现有的4维数据减少到3维，这样处理可以减少数据维度，保留各数据的主要特征。要求是使用 `PCA` 构造函数，用 `n_components` 参数指定鸢尾花的维度为3。"
   ]
  },
  {
   "cell_type": "code",
   "execution_count": 2,
   "metadata": {},
   "outputs": [
    {
     "name": "stdout",
     "output_type": "stream",
     "text": [
      "降维后的数据规模为： (150, 3)\n"
     ]
    }
   ],
   "source": [
    "from sklearn.decomposition import PCA\n",
    "iris_pca = PCA(n_components=3).fit(iris_data)\n",
    "iris_pca_data = iris_pca.transform(iris_data)\n",
    "print('降维后的数据规模为：', iris_pca_data.shape)"
   ]
  },
  {
   "cell_type": "markdown",
   "metadata": {},
   "source": [
    "3. 使用 `SVM` 对 `iris` 数据集进行分类，并评价。"
   ]
  },
  {
   "cell_type": "code",
   "execution_count": 3,
   "metadata": {},
   "outputs": [
    {
     "name": "stdout",
     "output_type": "stream",
     "text": [
      "建立的SVM模型为：\n",
      "SVC(C=1.0, cache_size=200, class_weight=None, coef0=0.0,\n",
      "    decision_function_shape='ovr', degree=3, gamma='scale', kernel='rbf',\n",
      "    max_iter=-1, probability=False, random_state=None, shrinking=True,\n",
      "    tol=0.001, verbose=False)\n",
      "预测前10个结果为： [0 1 1 1 1 0 0 0 2 0]\n",
      "模型评价报告为：\n",
      "              precision    recall  f1-score   support\n",
      "\n",
      "           0       1.00      1.00      1.00        13\n",
      "           1       1.00      0.91      0.95        11\n",
      "           2       0.86      1.00      0.92         6\n",
      "\n",
      "    accuracy                           0.97        30\n",
      "   macro avg       0.95      0.97      0.96        30\n",
      "weighted avg       0.97      0.97      0.97        30\n",
      "\n"
     ]
    }
   ],
   "source": [
    "from sklearn.preprocessing import StandardScaler\n",
    "stdScaler = StandardScaler().fit(iris_data)\n",
    "iris_data_train_std = stdScaler.transform(iris_data_train)\n",
    "iris_data_test_std = stdScaler.transform(iris_data_test)\n",
    "from sklearn.svm import SVC\n",
    "svm = SVC(gamma='scale').fit(iris_data_train_std, iris_tags_train)\n",
    "print('建立的SVM模型为：', svm, sep='\\n')\n",
    "iris_tags_pred = svm.predict(iris_data_test_std)\n",
    "print('预测前10个结果为：', iris_tags_pred[:10])\n",
    "from sklearn.metrics import classification_report\n",
    "print('模型评价报告为：', classification_report(iris_tags_test, iris_tags_pred), sep='\\n')"
   ]
  }
 ],
 "metadata": {
  "kernelspec": {
   "display_name": "Python 3",
   "language": "python",
   "name": "python3"
  },
  "language_info": {
   "codemirror_mode": {
    "name": "ipython",
    "version": 3
   },
   "file_extension": ".py",
   "mimetype": "text/x-python",
   "name": "python",
   "nbconvert_exporter": "python",
   "pygments_lexer": "ipython3",
   "version": "3.7.4"
  }
 },
 "nbformat": 4,
 "nbformat_minor": 4
}
