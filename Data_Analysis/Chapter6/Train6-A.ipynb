{
 "cells": [
  {
   "cell_type": "markdown",
   "metadata": {},
   "source": [
    "# 第6章　使用 `scikit-learn` 构建模型\n",
    "\n",
    "## 实训1　使用 `sklearn` 处理 `wine` 和 `wine_quality` 数据集\n",
    "\n",
    "1. 训练要点\n",
    "\n",
    "    1. 掌握 `sklearn` 转换器的用法。\n",
    "    2. 掌握训练集、测试集划分的方法。\n",
    "    3. 掌握使用 `sklearn` 进行 `PCA` 降维的方法。\n",
    "\n",
    "2. 需求说明\n",
    "\n",
    "    &emsp;&emsp;`wine` 数据集和 `wine_quality` 数据集是两份和酒有关的数据集。 `wine` 数据集包含$3$种不同起源的葡萄酒的记录，共$178$条。其中，每个特征对应葡萄酒的每种化学成分，并且都属于连续型数据。通过化学分析可以推断葡萄酒的起源。\n",
    "    \n",
    "    &emsp;&emsp;`wine_quality` 数据集共有$4898$个观察值，$11$个输入特征和一个标签。其中，不同类的观察值数量不等，所有特征为连续型数据。通过就得各种化学成分，预测该葡萄酒的评分。\n",
    "\n",
    "3. 实现思路集步骤\n",
    "\n",
    "    1. 使用 `pandas` 库分别读取 `wine` 数据集和 `wine_quality` 数据集。\n",
    "    2. 将 `wine` 数据集和 `wine_quality` 数据集的数据和标签拆分开。\n",
    "    3. 将 `wine_quality` 数据集划分为训练集和测试集。\n",
    "    4. 标准化 `wine` 数据集和 `wine_quality` 数据集。\n",
    "    5. 对 `wine` 数据集和 `wine_quality` 数据集进行 `PCA` 降维。"
   ]
  },
  {
   "cell_type": "code",
   "execution_count": 1,
   "metadata": {},
   "outputs": [
    {
     "name": "stdout",
     "output_type": "stream",
     "text": [
      "Wine数据集为：<class 'pandas.core.frame.DataFrame'> at 0x12749db7848\n",
      "Wine_quality数据集为：<class 'pandas.core.frame.DataFrame'> at 0x12749dd6048\n"
     ]
    }
   ],
   "source": [
    "# 读取数据集\n",
    "import pandas\n",
    "wine = pandas.read_csv('data/wine.csv', sep=',', encoding='gbk')\n",
    "print('Wine数据集为：%s at %s' % (type(wine), hex(id(wine))))\n",
    "wine_quality = pandas.read_csv('data/winequality.csv', sep=';', encoding='gbk')\n",
    "print('Wine_quality数据集为：%s at %s' % (type(wine_quality), hex(id(wine_quality))))"
   ]
  },
  {
   "cell_type": "code",
   "execution_count": 2,
   "metadata": {},
   "outputs": [
    {
     "name": "stdout",
     "output_type": "stream",
     "text": [
      "Wine数据集数据大小为： (178, 13)\n",
      "Wine数据集标签大小为： (178,)\n",
      "Wine_quality数据集数据大小为： (1599, 11)\n",
      "Wine_quality数据集标签大小为： (1599,)\n"
     ]
    }
   ],
   "source": [
    "# 拆分数据与标签\n",
    "wine_data = wine.iloc[:, 1:]\n",
    "print('Wine数据集数据大小为：', wine_data.shape)\n",
    "wine_tags = wine.iloc[:, 0]\n",
    "print('Wine数据集标签大小为：', wine_tags.shape)\n",
    "wine_quality_data = wine_quality.iloc[:, :-1]\n",
    "print('Wine_quality数据集数据大小为：', wine_quality_data.shape)\n",
    "wine_quality_tags = wine_quality.iloc[:, -1]\n",
    "print('Wine_quality数据集标签大小为：', wine_quality_tags.shape)"
   ]
  },
  {
   "cell_type": "code",
   "execution_count": 3,
   "metadata": {},
   "outputs": [
    {
     "name": "stdout",
     "output_type": "stream",
     "text": [
      "Wine_quality训练集数据大小为： (1279, 11)\n",
      "Wine_quality训练集标签大小为： (1279,)\n",
      "Wine_quality测试集数据大小为： (320, 11)\n",
      "Wine_quality测试集标签大小为： (320,)\n"
     ]
    }
   ],
   "source": [
    "# 划分集合 \n",
    "from sklearn.model_selection import train_test_split\n",
    "(\n",
    "    wine_quality_data_train, wine_quality_data_test,\n",
    "    wine_quality_tags_train, wine_quality_tags_test\n",
    ") = train_test_split(\n",
    "    wine_quality_data, wine_quality_tags,\n",
    "    test_size=0.2, random_state=0x6A24261B\n",
    ")\n",
    "print('Wine_quality训练集数据大小为：', wine_quality_data_train.shape)\n",
    "print('Wine_quality训练集标签大小为：', wine_quality_tags_train.shape)\n",
    "print('Wine_quality测试集数据大小为：', wine_quality_data_test.shape)\n",
    "print('Wine_quality测试集标签大小为：', wine_quality_tags_test.shape)"
   ]
  },
  {
   "cell_type": "code",
   "execution_count": 4,
   "metadata": {},
   "outputs": [
    {
     "name": "stdout",
     "output_type": "stream",
     "text": [
      "Wine数据集标准差标准化后首行为：\n",
      "[[ 1.51861254 -0.5622498   0.23205254 -1.16959318  1.91390522  0.80899739\n",
      "   1.03481896 -0.65956311  1.22488398  0.25171685  0.36217728  1.84791957\n",
      "   1.01300893]\n",
      " [ 0.24628963 -0.49941338 -0.82799632 -2.49084714  0.01814502  0.56864766\n",
      "   0.73362894 -0.82071924 -0.54472099 -0.29332133  0.40605066  1.1134493\n",
      "   0.96524152]\n",
      " [ 0.19687903  0.02123125  1.10933436 -0.2687382   0.08835836  0.80899739\n",
      "   1.21553297 -0.49840699  2.13596773  0.26901965  0.31830389  0.78858745\n",
      "   1.39514818]\n",
      " [ 1.69154964 -0.34681064  0.4879264  -0.80925118  0.93091845  2.49144552\n",
      "   1.46652465 -0.98187536  1.03215473  1.18606801 -0.42754369  1.18407144\n",
      "   2.33457383]\n",
      " [ 0.29570023  0.22769377  1.84040254  0.45194578  1.28198515  0.80899739\n",
      "   0.66335127  0.22679555  0.40140444 -0.31927553  0.36217728  0.44960118\n",
      "  -0.03787401]]\n",
      "Wine_quality训练集标准差标准化后首行为：\n",
      "[[ 0.21852997  0.06804042 -0.05636026 -0.02753165  0.20262147 -0.84871559\n",
      "  -0.47035959  0.45227172 -0.26638383 -0.34315421 -1.05411336]\n",
      " [-0.87307788 -0.09955388 -1.34012182 -0.31132282 -0.28621413 -0.65745405\n",
      "  -0.65281339 -0.50175293  0.12237286 -0.57920652 -0.86637886]\n",
      " [-0.41345352 -0.26714817  0.20039205  0.18531173 -0.37122902 -1.13560789\n",
      "  -0.95690307  0.09716255 -0.59034773 -0.6382196  -0.11544087]\n",
      " [-1.56251441  0.73841761 -1.39147228 -0.24037503 -0.00991575 -1.23123866\n",
      "  -1.07853893 -1.57238059  2.58449854 -0.16611498  2.23124036]\n",
      " [-0.06873526  0.59875569 -0.87796766 -0.31132282 -0.30746785  0.87263823\n",
      "   0.41150046 -0.19434498 -0.13679827  0.54204194  0.44776263]]\n",
      "Wine_quality测试集标准差标准化后首行为：\n",
      "[[-0.81562483 -0.43474247 -0.82661719 -0.09847944 -0.94507951 -0.94434636\n",
      "  -1.04812997 -1.69958388 -0.07200549 -0.04808883  0.91709887]\n",
      " [-1.6774205   0.29149948 -0.98066858 -0.45321841 -0.60501996  0.39448439\n",
      "  -0.47035959 -1.01056607  1.22385014 -0.10710191 -0.20930812]\n",
      " [-0.81562483  0.59875569 -0.51851442 -0.09847944  3.26315743 -0.94434636\n",
      "  -0.86567616 -0.34274882  0.57592232 -0.40216729 -0.11544087]\n",
      " [-0.6432657  -0.15541864 -0.46716396 -0.31132282 -0.3499753  -0.37056175\n",
      "  -0.47035959  0.45757186  1.3534357   0.36500271 -0.77251161]\n",
      " [ 0.79306041  0.90601191  0.25174251 -0.02753165  0.01133798  0.58574593\n",
      "   1.35417844  0.61127583 -0.13679827 -0.22512806 -0.30317536]]\n"
     ]
    }
   ],
   "source": [
    "# 数据标准化（标准差）\n",
    "from sklearn.preprocessing import StandardScaler\n",
    "wine_stdScaler = StandardScaler().fit(wine_data)\n",
    "wine_std_data = wine_stdScaler.transform(wine_data)\n",
    "print('Wine数据集标准差标准化后首行为：', wine_std_data[:5], sep='\\n')\n",
    "wine_quality_stdScaler = StandardScaler().fit(wine_quality_data)\n",
    "wine_quality_std_data_train = wine_quality_stdScaler.transform(wine_quality_data_train)\n",
    "print('Wine_quality训练集标准差标准化后首行为：', wine_quality_std_data_train[:5], sep='\\n')\n",
    "wine_quality_std_data_test = wine_quality_stdScaler.transform(wine_quality_data_test)\n",
    "print('Wine_quality测试集标准差标准化后首行为：', wine_quality_std_data_test[:5], sep='\\n')"
   ]
  },
  {
   "cell_type": "code",
   "execution_count": 5,
   "metadata": {},
   "outputs": [
    {
     "name": "stdout",
     "output_type": "stream",
     "text": [
      "Wine数据集降维后的大小为： (178, 8)\n",
      "Wine_quality训练集降维后的大小为： (1279, 8)\n",
      "Wine_quality测试集降维后的大小为： (320, 8)\n"
     ]
    }
   ],
   "source": [
    "# PCA降维\n",
    "from sklearn.decomposition import PCA\n",
    "wine_pca_model = PCA(n_components=8).fit(wine_std_data)\n",
    "wine_pca_data = wine_pca_model.transform(wine_std_data)\n",
    "print('Wine数据集降维后的大小为：', wine_pca_data.shape)\n",
    "wine_quality_pca_model = PCA(n_components=8).fit(wine_quality_std_data_train)\n",
    "wine_quality_pca_train = wine_quality_pca_model.transform(wine_quality_std_data_train)\n",
    "print('Wine_quality训练集降维后的大小为：', wine_quality_pca_train.shape)\n",
    "wine_quality_pca_test = wine_quality_pca_model.transform(wine_quality_std_data_test)\n",
    "print('Wine_quality测试集降维后的大小为：', wine_quality_pca_test.shape)"
   ]
  },
  {
   "cell_type": "markdown",
   "metadata": {},
   "source": [
    "## 实训2　构建基于 `wine` 数据集的 `K-Means` 聚类模型\n",
    "\n",
    "1. 训练要点\n",
    "\n",
    "    1. 了解 `sklearn` 估计器的用法。\n",
    "    2. 掌握聚类模型的构建方法。\n",
    "    3. 掌握聚类模型的评估方法。\n",
    "\n",
    "2. 需求说明\n",
    "\n",
    "    &emsp;&emsp;`wine` 数据集的葡萄酒总共分为$3$种，通过将 `wine` 数据集的数据进行聚类，聚集为$3$个簇，能够实现葡萄酒的类别划分。\n",
    "\n",
    "3. 实现思路及步骤\n",
    "\n",
    "    1. 根据实训1的 `wine` 数据集处理的结果，构建聚类数目为$3$的 `K-Means` 模型。\n",
    "    2. 对比真实标签和聚类标签求取 `FMI` 。\n",
    "    3. 在聚类数目为$2\\sim10$类时，确定最优聚类数目。\n",
    "    4. 求取 `Calinski-Harabasz` 指数，确定最优聚类数目。"
   ]
  },
  {
   "cell_type": "code",
   "execution_count": 6,
   "metadata": {},
   "outputs": [
    {
     "name": "stdout",
     "output_type": "stream",
     "text": [
      "构建的K-Means模型为：\n",
      "KMeans(algorithm='auto', copy_x=True, init='k-means++', max_iter=300,\n",
      "       n_clusters=3, n_init=10, n_jobs=None, precompute_distances='auto',\n",
      "       random_state=None, tol=0.0001, verbose=0)\n"
     ]
    }
   ],
   "source": [
    "# K-Means聚类\n",
    "from sklearn.cluster import KMeans\n",
    "kmeans = KMeans(n_clusters=3).fit(wine_std_data)\n",
    "print('构建的K-Means模型为：', kmeans, sep='\\n')"
   ]
  },
  {
   "cell_type": "code",
   "execution_count": 7,
   "metadata": {},
   "outputs": [
    {
     "data": {
      "image/png": "[encoded data removed]",
      "text/plain": [
       "<Figure size 720x432 with 1 Axes>"
      ]
     },
     "metadata": {
      "needs_background": "light"
     },
     "output_type": "display_data"
    }
   ],
   "source": [
    "# 聚类结果可视化\n",
    "%matplotlib inline\n",
    "import pandas\n",
    "from sklearn.manifold import TSNE\n",
    "from matplotlib import pyplot\n",
    "tsne = TSNE(\n",
    "    n_components=2, init='random', random_state=0x6A24261B\n",
    ").fit(wine_std_data)\n",
    "frame = pandas.DataFrame(tsne.embedding_)\n",
    "frame['labels'] = kmeans.labels_\n",
    "frame_A = frame[frame['labels'] == 0]\n",
    "frame_B = frame[frame['labels'] == 1]\n",
    "frame_C = frame[frame['labels'] == 2]\n",
    "figure = pyplot.figure(figsize=(10, 6))\n",
    "pyplot.plot(\n",
    "    frame_A[0], frame_A[1], 'bo',\n",
    "    frame_B[0], frame_B[1], 'r*',\n",
    "    frame_C[0], frame_C[1], 'gD'\n",
    ")\n",
    "pyplot.savefig('img/葡萄酒聚类结果.svg')\n",
    "pyplot.show()"
   ]
  },
  {
   "cell_type": "code",
   "execution_count": 8,
   "metadata": {},
   "outputs": [
    {
     "name": "stdout",
     "output_type": "stream",
     "text": [
      "葡萄酒数据聚3类的FMI评价分值为： 0.9319080608075307\n"
     ]
    }
   ],
   "source": [
    "# 计算FMI\n",
    "from sklearn.metrics import fowlkes_mallows_score\n",
    "score = fowlkes_mallows_score(wine_tags, kmeans.labels_)\n",
    "print('葡萄酒数据聚3类的FMI评价分值为：', score)"
   ]
  },
  {
   "cell_type": "code",
   "execution_count": 9,
   "metadata": {},
   "outputs": [
    {
     "name": "stdout",
     "output_type": "stream",
     "text": [
      "葡萄酒数据的最优聚类数目为3类\n"
     ]
    }
   ],
   "source": [
    "# FMI法确定最优聚类数目\n",
    "best_clusters = 0\n",
    "max_FMI = 0\n",
    "for i in range(2, 11):\n",
    "    kmeans = KMeans(n_clusters=i, random_state=0x6A24261B).fit(wine_std_data)\n",
    "    score = fowlkes_mallows_score(wine_tags, kmeans.labels_)\n",
    "    if max_FMI < score:\n",
    "        max_FMI = score\n",
    "        best_clusters = i\n",
    "print('葡萄酒数据的最优聚类数目为%d类' % best_clusters)"
   ]
  },
  {
   "cell_type": "code",
   "execution_count": 10,
   "metadata": {},
   "outputs": [
    {
     "data": {
      "image/png": "[encoded data removed]",
      "text/plain": [
       "<Figure size 720x432 with 1 Axes>"
      ]
     },
     "metadata": {
      "needs_background": "light"
     },
     "output_type": "display_data"
    },
    {
     "name": "stdout",
     "output_type": "stream",
     "text": [
      "葡萄酒数据的最优聚类数目为3类\n"
     ]
    }
   ],
   "source": [
    "# 轮廓系数确定最优聚类数目\n",
    "%matplotlib inline\n",
    "from sklearn.metrics import silhouette_score\n",
    "silhouetteScore = []\n",
    "for i in range(2, 11):\n",
    "    kmeans = KMeans(n_clusters=i, random_state=0x6A24261B).fit(wine_std_data)\n",
    "    score = silhouette_score(wine_std_data, kmeans.labels_)\n",
    "    silhouetteScore.append(score)\n",
    "pyplot.figure(figsize=(10, 6))\n",
    "pyplot.plot(range(2, 11), silhouetteScore, linewidth=1.5, linestyle='-')\n",
    "pyplot.savefig('img/葡萄酒轮廓系数评分.svg')\n",
    "pyplot.show()\n",
    "print('葡萄酒数据的最优聚类数目为%d类' % (silhouetteScore.index(max(silhouetteScore)) + 2))"
   ]
  },
  {
   "cell_type": "code",
   "execution_count": 11,
   "metadata": {},
   "outputs": [
    {
     "name": "stdout",
     "output_type": "stream",
     "text": [
      "葡萄酒数据集最佳聚类数目为3类\n"
     ]
    }
   ],
   "source": [
    "# CHSZ指数确定最优聚类数目\n",
    "from sklearn.metrics import calinski_harabasz_score\n",
    "best_clusters = 0\n",
    "max_CHSZ = 0\n",
    "for i in range(2, 11):\n",
    "    kmeans = KMeans(n_clusters=i, random_state=0x6A24261B).fit(wine_std_data)\n",
    "    score = calinski_harabasz_score(wine_std_data, kmeans.labels_)\n",
    "    if max_CHSZ < score:\n",
    "        max_CHSZ = score\n",
    "        best_clusters = i\n",
    "print('葡萄酒数据集最佳聚类数目为%d类' % best_clusters)"
   ]
  },
  {
   "cell_type": "markdown",
   "metadata": {},
   "source": [
    "## 实训4　构建基于 `wine_quality` 数据集的回归模型\n",
    "\n",
    "1. 训练要点\n",
    "\n",
    "    1. 熟练 `sklearn` 估计器的用法。\n",
    "    2. 掌握回归模型的构建方法。\n",
    "    3. 掌握回归模型的评价方法。\n",
    "\n",
    "2. 需求说明\n",
    "\n",
    "    &emsp;&emsp;`wine_quality` 数据集的葡萄酒评分在$1\\sim10$之间，构建线性回归模型与梯度提升回归模型，训练 `wine_quality` 数据集的训练集数据，训练完成后预测测试集的葡萄酒评分。结合真实评分，评价构建的两个回归模型的好坏。\n",
    "\n",
    "3. 实现思路及步骤\n",
    "\n",
    "    1. 根据 `wine_quality` 数据集处理的结果，构建线性回归模型。\n",
    "    2. 根据 `wine_quality` 数据集处理的结果，构建梯度提升回归模型。\n",
    "    3. 结合真实评分和预测评分，计算均方误差、中值绝对误差、可解释方差值。\n",
    "    4. 根据得分，判定模型的性能优劣。"
   ]
  },
  {
   "cell_type": "code",
   "execution_count": 12,
   "metadata": {},
   "outputs": [
    {
     "name": "stdout",
     "output_type": "stream",
     "text": [
      "建立的线性回归模型为：\n",
      "LinearRegression(copy_X=True, fit_intercept=True, n_jobs=None, normalize=False)\n"
     ]
    }
   ],
   "source": [
    "# 构建线性回归模型\n",
    "from sklearn.linear_model import LinearRegression\n",
    "clf = LinearRegression().fit(wine_quality_data_train, wine_quality_tags_train)\n",
    "print('建立的线性回归模型为：', clf, sep='\\n')"
   ]
  },
  {
   "cell_type": "code",
   "execution_count": 13,
   "metadata": {},
   "outputs": [
    {
     "name": "stdout",
     "output_type": "stream",
     "text": [
      "建立的梯度提升回归模型为：\n",
      "GradientBoostingRegressor(alpha=0.9, criterion='friedman_mse', init=None,\n",
      "                          learning_rate=0.1, loss='ls', max_depth=3,\n",
      "                          max_features=None, max_leaf_nodes=None,\n",
      "                          min_impurity_decrease=0.0, min_impurity_split=None,\n",
      "                          min_samples_leaf=1, min_samples_split=2,\n",
      "                          min_weight_fraction_leaf=0.0, n_estimators=100,\n",
      "                          n_iter_no_change=None, presort='auto',\n",
      "                          random_state=None, subsample=1.0, tol=0.0001,\n",
      "                          validation_fraction=0.1, verbose=0, warm_start=False)\n"
     ]
    }
   ],
   "source": [
    "# 构建梯度提升回归模型\n",
    "from sklearn.ensemble import GradientBoostingRegressor\n",
    "GBR_wine_quality = GradientBoostingRegressor().fit(wine_quality_data_train, wine_quality_tags_train)\n",
    "print('建立的梯度提升回归模型为：', GBR_wine_quality, sep='\\n')"
   ]
  },
  {
   "cell_type": "code",
   "execution_count": 14,
   "metadata": {},
   "outputs": [
    {
     "name": "stdout",
     "output_type": "stream",
     "text": [
      "线性回归模型的平均绝对误差为： 0.4933573294236564\n",
      "线性回归模型的均方误差为： 0.39775646547867294\n",
      "线性回归模型的中值绝对误差为： 0.3848793829012447\n",
      "线性回归模型的可解释方差值为： 0.31936985078835745\n",
      "线性回归模型的R²值为： 0.31934722484932976\n",
      "梯度提升回归模型的平均绝对误差为： 0.46107898110689244\n",
      "梯度提升回归模型的均方误差为： 0.34921066118002925\n",
      "梯度提升回归模型的中值绝对误差为： 0.38318281569699675\n",
      "梯度提升回归模型的可解释方差值为： 0.40311674553687404\n",
      "梯度提升回归模型的R²值为： 0.4024202589432655\n",
      "对比之下，梯度提升回归模型性能更好\n"
     ]
    }
   ],
   "source": [
    "# 预测评分\n",
    "wine_quality_tags_pred_Linear = clf.predict(wine_quality_data_test)\n",
    "wine_quality_tags_pred_GBR = GBR_wine_quality.predict(wine_quality_data_test)\n",
    "# 评价模型\n",
    "from sklearn.metrics import (\n",
    "    explained_variance_score, mean_absolute_error, \n",
    "    mean_squared_error, median_absolute_error, r2_score\n",
    ")\n",
    "print(\n",
    "    '线性回归模型的平均绝对误差为：',\n",
    "    mean_absolute_error(wine_quality_tags_test, wine_quality_tags_pred_Linear)\n",
    ")\n",
    "print(\n",
    "    '线性回归模型的均方误差为：',\n",
    "    mean_squared_error(wine_quality_tags_test, wine_quality_tags_pred_Linear)\n",
    ")\n",
    "print(\n",
    "    '线性回归模型的中值绝对误差为：',\n",
    "    median_absolute_error(wine_quality_tags_test, wine_quality_tags_pred_Linear)\n",
    ")\n",
    "print(\n",
    "    '线性回归模型的可解释方差值为：',\n",
    "    explained_variance_score(wine_quality_tags_test, wine_quality_tags_pred_Linear)\n",
    ")\n",
    "print(\n",
    "    '线性回归模型的R²值为：',\n",
    "    r2_score(wine_quality_tags_test, wine_quality_tags_pred_Linear)\n",
    ")\n",
    "print(\n",
    "    '梯度提升回归模型的平均绝对误差为：',\n",
    "    mean_absolute_error(wine_quality_tags_test, wine_quality_tags_pred_GBR)\n",
    ")\n",
    "print(\n",
    "    '梯度提升回归模型的均方误差为：',\n",
    "    mean_squared_error(wine_quality_tags_test, wine_quality_tags_pred_GBR)\n",
    ")\n",
    "print(\n",
    "    '梯度提升回归模型的中值绝对误差为：',\n",
    "    median_absolute_error(wine_quality_tags_test, wine_quality_tags_pred_GBR)\n",
    ")\n",
    "print(\n",
    "    '梯度提升回归模型的可解释方差值为：',\n",
    "    explained_variance_score(wine_quality_tags_test, wine_quality_tags_pred_GBR)\n",
    ")\n",
    "print(\n",
    "    '梯度提升回归模型的R²值为：',\n",
    "    r2_score(wine_quality_tags_test, wine_quality_tags_pred_GBR)\n",
    ")\n",
    "print('对比之下，梯度提升回归模型性能更好')"
   ]
  }
 ],
 "metadata": {
  "kernelspec": {
   "display_name": "Python 3",
   "language": "python",
   "name": "python3"
  },
  "language_info": {
   "codemirror_mode": {
    "name": "ipython",
    "version": 3
   },
   "file_extension": ".py",
   "mimetype": "text/x-python",
   "name": "python",
   "nbconvert_exporter": "python",
   "pygments_lexer": "ipython3",
   "version": "3.7.4"
  }
 },
 "nbformat": 4,
 "nbformat_minor": 4
}
