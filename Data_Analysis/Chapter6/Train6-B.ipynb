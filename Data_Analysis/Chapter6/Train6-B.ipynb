{
 "cells": [
  {
   "cell_type": "markdown",
   "metadata": {},
   "source": [
    "# 使用 `scikit-learn` 构建模型\n",
    "\n",
    "## 实训3　构建基于 `wine` 数据集的 `SVM` 分类模型\n",
    "\n",
    "1. 训练要点\n",
    "\n",
    "    1. 掌握 `sklearn` 估计器的用法。\n",
    "    2. 掌握分类模型的构建方法。\n",
    "    3. 掌握分类模型的评价方法。\n",
    "\n",
    "2. 需求说明\n",
    "\n",
    "    &emsp;&emsp;`wine` 数据集种的葡萄酒类别为3种，通过 `wine` 数据集划分为训练集和测试集，使用训练集训练 `SVM` 分类模型，并使用训练王城的模型预测测试集的葡萄酒类别归属。\n",
    "\n",
    "3. 实现思路及步骤\n",
    "\n",
    "    1. 读取 `wine` 数据集，区分标签和数据。\n",
    "    2. 将 `wine` 数据集划分为训练集和测试集。\n",
    "    3. 使用离差标准化方法标准化 `wine` 数据集。\n",
    "    4. 构建 `SVM` 模型，并预测测试集结果。\n",
    "    5. 打印出分类报告，评价分类模型性能。"
   ]
  },
  {
   "cell_type": "code",
   "execution_count": 1,
   "metadata": {},
   "outputs": [
    {
     "name": "stdout",
     "output_type": "stream",
     "text": [
      "读入的数据集对象为：<class 'pandas.core.frame.DataFrame'> at 0x13592e7fbc8\n"
     ]
    }
   ],
   "source": [
    "# 读取数据\n",
    "import pandas\n",
    "wine = pandas.read_csv('data/wine.csv', sep=',', encoding='gbk')\n",
    "print('读入的数据集对象为：%s at %s' % (type(wine), hex(id(wine))))"
   ]
  },
  {
   "cell_type": "code",
   "execution_count": 2,
   "metadata": {},
   "outputs": [
    {
     "name": "stdout",
     "output_type": "stream",
     "text": [
      "数据集规模为： (178, 13)\n",
      "标签集规模为： (178,)\n"
     ]
    }
   ],
   "source": [
    "# 区分标签与数据\n",
    "data = wine.iloc[:, 1:]\n",
    "print('数据集规模为：', data.shape)\n",
    "tags = wine.iloc[:, 0]\n",
    "print('标签集规模为：', tags.shape)"
   ]
  },
  {
   "cell_type": "code",
   "execution_count": 3,
   "metadata": {},
   "outputs": [
    {
     "name": "stdout",
     "output_type": "stream",
     "text": [
      "训练集数据规模为： (142, 13)\n",
      "训练集标签规模为： (142,)\n",
      "测试集数据规模为： (36, 13)\n",
      "测试集标签规模为： (36,)\n"
     ]
    }
   ],
   "source": [
    "# 划分数据集与测试集\n",
    "from sklearn.model_selection import train_test_split\n",
    "(data_train, data_test, tags_train, tags_test) = train_test_split(\n",
    "    data, tags, test_size=0.2, random_state=0x6A24261B\n",
    ")\n",
    "print('训练集数据规模为：', data_train.shape)\n",
    "print('训练集标签规模为：', tags_train.shape)\n",
    "print('测试集数据规模为：', data_test.shape)\n",
    "print('测试集标签规模为：', tags_test.shape)"
   ]
  },
  {
   "cell_type": "code",
   "execution_count": 4,
   "metadata": {},
   "outputs": [],
   "source": [
    "# 离差标准化\n",
    "from sklearn.preprocessing import MinMaxScaler\n",
    "scaler = MinMaxScaler().fit(data)\n",
    "data_train_scaled = scaler.transform(data_train)\n",
    "data_test_scaled= scaler.transform(data_test)"
   ]
  },
  {
   "cell_type": "code",
   "execution_count": 5,
   "metadata": {},
   "outputs": [
    {
     "name": "stdout",
     "output_type": "stream",
     "text": [
      "构建的SVM模型为：\n",
      "SVC(C=1.0, cache_size=200, class_weight=None, coef0=0.0,\n",
      "    decision_function_shape='ovr', degree=3, gamma='auto_deprecated',\n",
      "    kernel='rbf', max_iter=-1, probability=False, random_state=None,\n",
      "    shrinking=True, tol=0.001, verbose=False)\n"
     ]
    },
    {
     "name": "stderr",
     "output_type": "stream",
     "text": [
      "C:\\Users\\legen\\Anaconda3\\lib\\site-packages\\sklearn\\svm\\base.py:193: FutureWarning: The default value of gamma will change from 'auto' to 'scale' in version 0.22 to account better for unscaled features. Set gamma explicitly to 'auto' or 'scale' to avoid this warning.\n",
      "  \"avoid this warning.\", FutureWarning)\n"
     ]
    }
   ],
   "source": [
    "# 构建SVM模型\n",
    "from sklearn.svm import SVC\n",
    "svm = SVC(gamma='scale').fit(data_train_scaled, tags_train)\n",
    "print('构建的SVM模型为：', svm, sep='\\n')"
   ]
  },
  {
   "cell_type": "code",
   "execution_count": 6,
   "metadata": {},
   "outputs": [
    {
     "name": "stdout",
     "output_type": "stream",
     "text": [
      "前10个预测结果为：\n",
      "[3 1 3 1 1 3 3 2 3 2]\n"
     ]
    }
   ],
   "source": [
    "# 预测测试集结果\n",
    "tags_pred = svm.predict(data_test_scaled)\n",
    "print('前10个预测结果为：', tags_pred[:10], sep='\\n')"
   ]
  },
  {
   "cell_type": "code",
   "execution_count": 7,
   "metadata": {},
   "outputs": [
    {
     "name": "stdout",
     "output_type": "stream",
     "text": [
      "数据分类报告为：\n",
      "              precision    recall  f1-score   support\n",
      "\n",
      "           1       1.00      1.00      1.00        11\n",
      "           2       1.00      0.94      0.97        16\n",
      "           3       0.90      1.00      0.95         9\n",
      "\n",
      "    accuracy                           0.97        36\n",
      "   macro avg       0.97      0.98      0.97        36\n",
      "weighted avg       0.98      0.97      0.97        36\n",
      "\n"
     ]
    }
   ],
   "source": [
    "# 打印分类报告\n",
    "from sklearn.metrics import classification_report\n",
    "print('数据分类报告为：', classification_report(tags_test, tags_pred), sep='\\n')"
   ]
  }
 ],
 "metadata": {
  "kernelspec": {
   "display_name": "Python 3",
   "language": "python",
   "name": "python3"
  },
  "language_info": {
   "codemirror_mode": {
    "name": "ipython",
    "version": 3
   },
   "file_extension": ".py",
   "mimetype": "text/x-python",
   "name": "python",
   "nbconvert_exporter": "python",
   "pygments_lexer": "ipython3",
   "version": "3.7.4"
  }
 },
 "nbformat": 4,
 "nbformat_minor": 4
}
