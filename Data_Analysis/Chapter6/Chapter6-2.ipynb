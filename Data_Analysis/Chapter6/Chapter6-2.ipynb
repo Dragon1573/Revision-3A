{
 "cells": [
  {
   "cell_type": "markdown",
   "metadata": {},
   "source": [
    "# 第6章　使用 `scikit-learn` 构建模型"
   ]
  },
  {
   "cell_type": "markdown",
   "metadata": {},
   "source": [
    "## 任务6.2　构建并评价聚类模型"
   ]
  },
  {
   "cell_type": "markdown",
   "metadata": {},
   "source": [
    "<br>\n",
    "<center>\n",
    "    <b>代码6-10　使用<code>sklearn</code>估计器构建<code>K-Means</code>聚类模型</b>\n",
    "</center>"
   ]
  },
  {
   "cell_type": "code",
   "execution_count": 1,
   "metadata": {},
   "outputs": [
    {
     "name": "stdout",
     "output_type": "stream",
     "text": [
      "构建的K-Means模型为：\n",
      "KMeans(algorithm='auto', copy_x=True, init='k-means++', max_iter=300,\n",
      "       n_clusters=3, n_init=10, n_jobs=None, precompute_distances='auto',\n",
      "       random_state=123, tol=0.0001, verbose=0)\n"
     ]
    }
   ],
   "source": [
    "from sklearn.datasets import load_iris\n",
    "from sklearn.preprocessing import MinMaxScaler\n",
    "from sklearn.cluster import KMeans\n",
    "iris = load_iris()\n",
    "data = iris['data']\n",
    "target = iris['target']\n",
    "names = iris['feature_names']\n",
    "scale = MinMaxScaler().fit(data)\n",
    "dataScale = scale.transform(data)\n",
    "kmeans = KMeans(n_clusters=3, random_state=123).fit(dataScale)\n",
    "print('构建的K-Means模型为：', kmeans, sep='\\n')"
   ]
  },
  {
   "cell_type": "code",
   "execution_count": 2,
   "metadata": {},
   "outputs": [
    {
     "name": "stdout",
     "output_type": "stream",
     "text": [
      "花瓣花萼长度宽度全为1.5cm的鸢尾花预测类别为： 0\n"
     ]
    }
   ],
   "source": [
    "result = kmeans.predict([4 * [1.5]])\n",
    "print('花瓣花萼长度宽度全为1.5cm的鸢尾花预测类别为：', result[0])"
   ]
  },
  {
   "cell_type": "markdown",
   "metadata": {},
   "source": [
    "<br>\n",
    "<center>\n",
    "    <b>代码6-11　聚类结果可视化</b>\n",
    "</center>"
   ]
  },
  {
   "cell_type": "code",
   "execution_count": 3,
   "metadata": {},
   "outputs": [
    {
     "data": {
      "image/png": "[encoded data removed]",
      "text/plain": [
       "<Figure size 648x432 with 1 Axes>"
      ]
     },
     "metadata": {
      "needs_background": "light"
     },
     "output_type": "display_data"
    }
   ],
   "source": [
    "%matplotlib inline\n",
    "import pandas\n",
    "from sklearn.manifold import TSNE\n",
    "from matplotlib import pyplot\n",
    "tsne = TSNE(n_components=2, init='random', random_state=177).fit(data)\n",
    "frame = pandas.DataFrame(tsne.embedding_)\n",
    "frame['labels'] = kmeans.labels_\n",
    "frame_A = frame[frame['labels'] == 0]\n",
    "frame_B = frame[frame['labels'] == 1]\n",
    "frame_C = frame[frame['labels'] == 2]\n",
    "figure = pyplot.figure(figsize=(9, 6))\n",
    "pyplot.plot(\n",
    "    frame_A[0], frame_A[1], 'bo',\n",
    "    frame_B[0], frame_B[1], 'r*',\n",
    "    frame_C[0], frame_C[1], 'gD'\n",
    ")\n",
    "pyplot.savefig('img/聚类结果.svg')\n",
    "pyplot.show()"
   ]
  },
  {
   "cell_type": "markdown",
   "metadata": {},
   "source": [
    "<br>\n",
    "<center>\n",
    "    <b>代码6-12　使用<code>FMI</code>评价法评价<code>K-Means</code>聚类模型</b>\n",
    "</center>"
   ]
  },
  {
   "cell_type": "code",
   "execution_count": 4,
   "metadata": {},
   "outputs": [
    {
     "name": "stdout",
     "output_type": "stream",
     "text": [
      "鸢尾花数据集聚2类FMI评价分值为：0.750473\n",
      "鸢尾花数据集聚3类FMI评价分值为：0.820808\n",
      "鸢尾花数据集聚4类FMI评价分值为：0.753970\n",
      "鸢尾花数据集聚5类FMI评价分值为：0.725483\n",
      "鸢尾花数据集聚6类FMI评价分值为：0.614345\n"
     ]
    }
   ],
   "source": [
    "from sklearn.metrics import fowlkes_mallows_score\n",
    "for i in range(2, 7):\n",
    "    kmeans = KMeans(n_clusters=i, random_state=123).fit(data)\n",
    "    score = fowlkes_mallows_score(target, kmeans.labels_)\n",
    "    print('鸢尾花数据集聚%d类FMI评价分值为：%f' % (i, score))"
   ]
  },
  {
   "cell_type": "markdown",
   "metadata": {},
   "source": [
    "<br>\n",
    "<center>\n",
    "    <b>\n",
    "        代码6-13　使用轮廓系数评价法评价<code>K-Means</code>聚类模型\n",
    "    </b>\n",
    "</center>"
   ]
  },
  {
   "cell_type": "code",
   "execution_count": 5,
   "metadata": {},
   "outputs": [
    {
     "data": {
      "image/png": "[encoded data removed]",
      "text/plain": [
       "<Figure size 720x432 with 1 Axes>"
      ]
     },
     "metadata": {
      "needs_background": "light"
     },
     "output_type": "display_data"
    }
   ],
   "source": [
    "%matplotlib inline\n",
    "from sklearn.metrics import silhouette_score\n",
    "from matplotlib import pyplot\n",
    "silhouetteScore = []\n",
    "for i in range(2, 15):\n",
    "    kmeans = KMeans(n_clusters=i, random_state=123).fit(data)\n",
    "    score = silhouette_score(data, kmeans.labels_)\n",
    "    silhouetteScore.append(score)\n",
    "pyplot.figure(figsize=(10, 6))\n",
    "pyplot.plot(range(2, 15), silhouetteScore, linewidth=1.5, linestyle='-')\n",
    "pyplot.savefig('img/轮廓系数评分.svg')\n",
    "pyplot.show()"
   ]
  },
  {
   "cell_type": "markdown",
   "metadata": {},
   "source": [
    "<br>\n",
    "<center>\n",
    "    <b>\n",
    "        代码6-14　使用<code>Calinski-Harabasz</code>指数评价<code>K-Means</code>聚类模型\n",
    "    </b>\n",
    "</center>"
   ]
  },
  {
   "cell_type": "code",
   "execution_count": 6,
   "metadata": {},
   "outputs": [
    {
     "name": "stdout",
     "output_type": "stream",
     "text": [
      "鸢尾花数据集聚2类的CHSZ指数为：513.924546\n",
      "鸢尾花数据集聚3类的CHSZ指数为：561.627757\n",
      "鸢尾花数据集聚4类的CHSZ指数为：530.487142\n",
      "鸢尾花数据集聚5类的CHSZ指数为：495.541488\n",
      "鸢尾花数据集聚6类的CHSZ指数为：469.836633\n"
     ]
    }
   ],
   "source": [
    "from sklearn.metrics import calinski_harabasz_score\n",
    "for i in range(2, 7):\n",
    "    kmeans = KMeans(n_clusters=i, random_state=123).fit(data)\n",
    "    score = calinski_harabasz_score(data, kmeans.labels_)\n",
    "    print('鸢尾花数据集聚%d类的CHSZ指数为：%f' % (i, score))"
   ]
  },
  {
   "cell_type": "markdown",
   "metadata": {},
   "source": [
    "<br>\n",
    "<center>\n",
    "    <b>代码6-15　对<code>Seeds</code>构建<code>K-Means</code>聚类模型</b>\n",
    "</center>"
   ]
  },
  {
   "cell_type": "code",
   "execution_count": 7,
   "metadata": {},
   "outputs": [
    {
     "name": "stdout",
     "output_type": "stream",
     "text": [
      "数据集形状为： (210, 8)\n",
      "构建的K-Means模型为：\n",
      "KMeans(algorithm='auto', copy_x=True, init='k-means++', max_iter=300,\n",
      "       n_clusters=3, n_init=10, n_jobs=None, precompute_distances='auto',\n",
      "       random_state=42, tol=0.0001, verbose=0)\n"
     ]
    }
   ],
   "source": [
    "import pandas\n",
    "from sklearn.preprocessing import StandardScaler\n",
    "from sklearn.cluster import KMeans\n",
    "seeds = pandas.read_csv('data/seeds_dataset.txt', sep='\\t', encoding='gbk')\n",
    "print('数据集形状为：', seeds.shape)\n",
    "data = seeds.iloc[:, :7].values\n",
    "target = seeds.iloc[:, 7].values\n",
    "names = seeds.columns[:7]\n",
    "stdScale = StandardScaler().fit(data)\n",
    "dataScale = stdScale.transform(data)\n",
    "kmeans = KMeans(n_clusters=3, random_state=42).fit(data)\n",
    "print('构建的K-Means模型为：', kmeans, sep='\\n')"
   ]
  },
  {
   "cell_type": "markdown",
   "metadata": {},
   "source": [
    "<br>\n",
    "<center>\n",
    "    <b>代码6-16　评价使用<code>Seeds</code>数据集构建的<code>K-Means</code>模型聚类</b>\n",
    "</center>"
   ]
  },
  {
   "cell_type": "code",
   "execution_count": 8,
   "metadata": {},
   "outputs": [
    {
     "name": "stdout",
     "output_type": "stream",
     "text": [
      "小麦数据集聚2类的CHSZ指数为：351.179992\n",
      "小麦数据集聚3类的CHSZ指数为：375.804961\n",
      "小麦数据集聚4类的CHSZ指数为：327.835320\n",
      "小麦数据集聚5类的CHSZ指数为：310.331840\n",
      "小麦数据集聚6类的CHSZ指数为：302.473069\n"
     ]
    }
   ],
   "source": [
    "from sklearn.metrics import calinski_harabasz_score\n",
    "for i in range(2, 7):\n",
    "    kmeans = KMeans(n_clusters=i, random_state=123).fit(data)\n",
    "    score = calinski_harabasz_score(data, kmeans.labels_)\n",
    "    print('小麦数据集聚%d类的CHSZ指数为：%f' % (i, score))"
   ]
  }
 ],
 "metadata": {
  "kernelspec": {
   "display_name": "Python 3",
   "language": "python",
   "name": "python3"
  },
  "language_info": {
   "codemirror_mode": {
    "name": "ipython",
    "version": 3
   },
   "file_extension": ".py",
   "mimetype": "text/x-python",
   "name": "python",
   "nbconvert_exporter": "python",
   "pygments_lexer": "ipython3",
   "version": "3.7.4"
  }
 },
 "nbformat": 4,
 "nbformat_minor": 4
}
