{
 "cells": [
  {
   "cell_type": "markdown",
   "metadata": {},
   "source": [
    "# 任务2.2　掌握NumPy矩阵与通用函数"
   ]
  },
  {
   "cell_type": "markdown",
   "metadata": {},
   "source": [
    "## 代码2-30　使用`mat`函数与`matrix`函数创建矩阵"
   ]
  },
  {
   "cell_type": "code",
   "execution_count": 1,
   "metadata": {},
   "outputs": [
    {
     "name": "stdout",
     "output_type": "stream",
     "text": [
      "创建的矩阵为：\n",
      "[[1 2 3]\n",
      " [4 5 6]\n",
      " [7 8 9]]\n"
     ]
    }
   ],
   "source": [
    "import numpy\n",
    "matrix1 = numpy.mat(\"1 2 3; 4 5 6; 7 8 9\")\n",
    "print('创建的矩阵为：', matrix1, sep='\\n')"
   ]
  },
  {
   "cell_type": "code",
   "execution_count": 2,
   "metadata": {},
   "outputs": [
    {
     "name": "stdout",
     "output_type": "stream",
     "text": [
      "创建的矩阵为：\n",
      "[[1 2 3]\n",
      " [4 5 6]\n",
      " [7 8 9]]\n"
     ]
    }
   ],
   "source": [
    "matrix2 = numpy.matrix([\n",
    "    [1, 2, 3],\n",
    "    [4, 5, 6],\n",
    "    [7, 8, 9]\n",
    "])\n",
    "print('创建的矩阵为：', matrix2, sep='\\n')"
   ]
  },
  {
   "cell_type": "markdown",
   "metadata": {},
   "source": [
    "## 代码2-31　使用`bmat`函数创建矩阵"
   ]
  },
  {
   "cell_type": "code",
   "execution_count": 3,
   "metadata": {},
   "outputs": [
    {
     "name": "stdout",
     "output_type": "stream",
     "text": [
      "创建的数组1为：\n",
      "[[1. 0. 0.]\n",
      " [0. 1. 0.]\n",
      " [0. 0. 1.]]\n"
     ]
    }
   ],
   "source": [
    "array1 = numpy.eye(3)\n",
    "print('创建的数组1为：', array1, sep='\\n')"
   ]
  },
  {
   "cell_type": "code",
   "execution_count": 4,
   "metadata": {},
   "outputs": [
    {
     "name": "stdout",
     "output_type": "stream",
     "text": [
      "创建的数组2为：\n",
      "[[3. 0. 0.]\n",
      " [0. 3. 0.]\n",
      " [0. 0. 3.]]\n"
     ]
    }
   ],
   "source": [
    "array2 = 3 * array1\n",
    "print('创建的数组2为：', array2, sep='\\n')"
   ]
  },
  {
   "cell_type": "code",
   "execution_count": 5,
   "metadata": {},
   "outputs": [
    {
     "name": "stdout",
     "output_type": "stream",
     "text": [
      "创建的矩阵为：\n",
      "[[1. 0. 0. 3. 0. 0.]\n",
      " [0. 1. 0. 0. 3. 0.]\n",
      " [0. 0. 1. 0. 0. 3.]\n",
      " [1. 0. 0. 3. 0. 0.]\n",
      " [0. 1. 0. 0. 3. 0.]\n",
      " [0. 0. 1. 0. 0. 3.]]\n"
     ]
    }
   ],
   "source": [
    "print('创建的矩阵为：', numpy.bmat(\"array1 array2; array1 array2\"), sep='\\n')"
   ]
  },
  {
   "cell_type": "markdown",
   "metadata": {},
   "source": [
    "## 代码2-32　矩阵运算"
   ]
  },
  {
   "cell_type": "code",
   "execution_count": 6,
   "metadata": {},
   "outputs": [
    {
     "name": "stdout",
     "output_type": "stream",
     "text": [
      "创建的矩阵为：\n",
      "[[1 2 3]\n",
      " [4 5 6]\n",
      " [7 8 9]]\n"
     ]
    }
   ],
   "source": [
    "matrix1 = numpy.mat(\"1 2 3; 4 5 6; 7 8 9\")\n",
    "print('创建的矩阵为：', matrix1, sep='\\n')"
   ]
  },
  {
   "cell_type": "code",
   "execution_count": 7,
   "metadata": {},
   "outputs": [
    {
     "name": "stdout",
     "output_type": "stream",
     "text": [
      "创建的矩阵为：\n",
      "[[ 3  6  9]\n",
      " [12 15 18]\n",
      " [21 24 27]]\n"
     ]
    }
   ],
   "source": [
    "matrix2 = matrix1 * 3\n",
    "print('创建的矩阵为：', matrix2, sep='\\n')"
   ]
  },
  {
   "cell_type": "code",
   "execution_count": 8,
   "metadata": {},
   "outputs": [
    {
     "name": "stdout",
     "output_type": "stream",
     "text": [
      "矩阵相加结果为：\n",
      "[[ 4  8 12]\n",
      " [16 20 24]\n",
      " [28 32 36]]\n"
     ]
    }
   ],
   "source": [
    "print('矩阵相加结果为：', matrix1 + matrix2, sep='\\n')"
   ]
  },
  {
   "cell_type": "code",
   "execution_count": 9,
   "metadata": {},
   "outputs": [
    {
     "name": "stdout",
     "output_type": "stream",
     "text": [
      "矩阵相减结果为：\n",
      "[[ -2  -4  -6]\n",
      " [ -8 -10 -12]\n",
      " [-14 -16 -18]]\n"
     ]
    }
   ],
   "source": [
    "print('矩阵相减结果为：', matrix1 - matrix2, sep='\\n')"
   ]
  },
  {
   "cell_type": "code",
   "execution_count": 10,
   "metadata": {},
   "outputs": [
    {
     "name": "stdout",
     "output_type": "stream",
     "text": [
      "矩阵相乘结果为：\n",
      "[[ 90 108 126]\n",
      " [198 243 288]\n",
      " [306 378 450]]\n"
     ]
    }
   ],
   "source": [
    "print('矩阵相乘结果为：', matrix1 * matrix2, sep='\\n')"
   ]
  },
  {
   "cell_type": "code",
   "execution_count": 11,
   "metadata": {},
   "outputs": [
    {
     "name": "stdout",
     "output_type": "stream",
     "text": [
      "矩阵对应元素相乘结果为：\n",
      "[[  3  12  27]\n",
      " [ 48  75 108]\n",
      " [147 192 243]]\n"
     ]
    }
   ],
   "source": [
    "print('矩阵对应元素相乘结果为：', numpy.multiply(matrix1, matrix2), sep='\\n')"
   ]
  },
  {
   "cell_type": "markdown",
   "metadata": {},
   "source": [
    "## 代码2-33　查看矩阵属性\n",
    "\n",
    "　　在如下的例子中，矩阵`matrix1`是一个**奇异矩阵**，其**行列式**为$0$、**不可逆**。下面计算其逆矩阵会获得不可预料的结果。"
   ]
  },
  {
   "cell_type": "code",
   "execution_count": 12,
   "metadata": {},
   "outputs": [
    {
     "name": "stdout",
     "output_type": "stream",
     "text": [
      "矩阵转置结果为：\n",
      "[[1 4 7]\n",
      " [2 5 8]\n",
      " [3 6 9]]\n"
     ]
    }
   ],
   "source": [
    "print('矩阵转置结果为：', matrix1.T, sep='\\n')"
   ]
  },
  {
   "cell_type": "code",
   "execution_count": 13,
   "metadata": {},
   "outputs": [
    {
     "name": "stdout",
     "output_type": "stream",
     "text": [
      "矩阵共轭转置结果为：\n",
      "[[1 4 7]\n",
      " [2 5 8]\n",
      " [3 6 9]]\n"
     ]
    }
   ],
   "source": [
    "# 实数的共轭就是其本身\n",
    "print('矩阵共轭转置结果为：', matrix1.H, sep='\\n')"
   ]
  },
  {
   "cell_type": "code",
   "execution_count": 14,
   "metadata": {},
   "outputs": [
    {
     "name": "stdout",
     "output_type": "stream",
     "text": [
      "矩阵的逆矩阵结果为：\n",
      "[[ 3.15251974e+15 -6.30503948e+15  3.15251974e+15]\n",
      " [-6.30503948e+15  1.26100790e+16 -6.30503948e+15]\n",
      " [ 3.15251974e+15 -6.30503948e+15  3.15251974e+15]]\n"
     ]
    }
   ],
   "source": [
    "print('矩阵的逆矩阵结果为：', matrix1.I, sep='\\n')"
   ]
  },
  {
   "cell_type": "code",
   "execution_count": 15,
   "metadata": {},
   "outputs": [
    {
     "name": "stdout",
     "output_type": "stream",
     "text": [
      "矩阵的二维数组结果为：\n",
      "[[1 2 3]\n",
      " [4 5 6]\n",
      " [7 8 9]]\n"
     ]
    }
   ],
   "source": [
    "print('矩阵的二维数组结果为：', matrix1.A, sep='\\n')"
   ]
  },
  {
   "cell_type": "markdown",
   "metadata": {},
   "source": [
    "## 代码2-34　数组的四则运算"
   ]
  },
  {
   "cell_type": "code",
   "execution_count": 16,
   "metadata": {},
   "outputs": [
    {
     "name": "stdout",
     "output_type": "stream",
     "text": [
      "数组相加结果为： [5 7 9]\n"
     ]
    }
   ],
   "source": [
    "x = numpy.array([1, 2, 3])\n",
    "y = numpy.array([4, 5, 6])\n",
    "print('数组相加结果为：', x + y)"
   ]
  },
  {
   "cell_type": "code",
   "execution_count": 17,
   "metadata": {},
   "outputs": [
    {
     "name": "stdout",
     "output_type": "stream",
     "text": [
      "数组相减结果为： [-3 -3 -3]\n"
     ]
    }
   ],
   "source": [
    "print('数组相减结果为：', x - y)"
   ]
  },
  {
   "cell_type": "code",
   "execution_count": 18,
   "metadata": {},
   "outputs": [
    {
     "name": "stdout",
     "output_type": "stream",
     "text": [
      "数组相乘结果为： [ 4 10 18]\n"
     ]
    }
   ],
   "source": [
    "print('数组相乘结果为：', x * y)"
   ]
  },
  {
   "cell_type": "code",
   "execution_count": 19,
   "metadata": {},
   "outputs": [
    {
     "name": "stdout",
     "output_type": "stream",
     "text": [
      "数组相处结果为： [0.25 0.4  0.5 ]\n"
     ]
    }
   ],
   "source": [
    "print('数组相处结果为：', x / y)"
   ]
  },
  {
   "cell_type": "code",
   "execution_count": 20,
   "metadata": {},
   "outputs": [
    {
     "name": "stdout",
     "output_type": "stream",
     "text": [
      "数组幂运算结果为： [  1  32 729]\n"
     ]
    }
   ],
   "source": [
    "print('数组幂运算结果为：', x ** y)"
   ]
  },
  {
   "cell_type": "markdown",
   "metadata": {},
   "source": [
    "## 代码2-35　数组的比较运算"
   ]
  },
  {
   "cell_type": "code",
   "execution_count": 21,
   "metadata": {},
   "outputs": [
    {
     "name": "stdout",
     "output_type": "stream",
     "text": [
      "数组比较结果为： [ True False False]\n"
     ]
    }
   ],
   "source": [
    "x = numpy.array([1, 3, 5])\n",
    "y = numpy.array([2, 3, 4])\n",
    "print('数组比较结果为：', x < y)"
   ]
  },
  {
   "cell_type": "code",
   "execution_count": 22,
   "metadata": {},
   "outputs": [
    {
     "name": "stdout",
     "output_type": "stream",
     "text": [
      "数组比较结果为： [False False  True]\n"
     ]
    }
   ],
   "source": [
    "print('数组比较结果为：', x > y)"
   ]
  },
  {
   "cell_type": "code",
   "execution_count": 23,
   "metadata": {},
   "outputs": [
    {
     "name": "stdout",
     "output_type": "stream",
     "text": [
      "数组比较结果为： [False  True False]\n"
     ]
    }
   ],
   "source": [
    "print('数组比较结果为：', x == y)"
   ]
  },
  {
   "cell_type": "code",
   "execution_count": 24,
   "metadata": {},
   "outputs": [
    {
     "name": "stdout",
     "output_type": "stream",
     "text": [
      "数组比较结果为： [False  True  True]\n"
     ]
    }
   ],
   "source": [
    "print('数组比较结果为：', x >= y)"
   ]
  },
  {
   "cell_type": "code",
   "execution_count": 25,
   "metadata": {},
   "outputs": [
    {
     "name": "stdout",
     "output_type": "stream",
     "text": [
      "数组比较结果为： [ True  True False]\n"
     ]
    }
   ],
   "source": [
    "print('数组比较结果为：', x <= y)"
   ]
  },
  {
   "cell_type": "code",
   "execution_count": 26,
   "metadata": {},
   "outputs": [
    {
     "name": "stdout",
     "output_type": "stream",
     "text": [
      "数组比较结果为： [ True False  True]\n"
     ]
    }
   ],
   "source": [
    "print('数组比较结果为：', x != y)"
   ]
  },
  {
   "cell_type": "markdown",
   "metadata": {},
   "source": [
    "## 代码2-36　数组的逻辑运算"
   ]
  },
  {
   "cell_type": "code",
   "execution_count": 27,
   "metadata": {},
   "outputs": [
    {
     "name": "stdout",
     "output_type": "stream",
     "text": [
      "数组的逻辑运算结果为： False\n"
     ]
    }
   ],
   "source": [
    "print('数组的逻辑运算结果为：', numpy.all(x == y))"
   ]
  },
  {
   "cell_type": "code",
   "execution_count": 28,
   "metadata": {},
   "outputs": [
    {
     "name": "stdout",
     "output_type": "stream",
     "text": [
      "数组逻辑运算结果为： True\n"
     ]
    }
   ],
   "source": [
    "print('数组逻辑运算结果为：', numpy.any(x == y))"
   ]
  }
 ],
 "metadata": {
  "kernelspec": {
   "display_name": "Python 3",
   "language": "python",
   "name": "python3"
  },
  "language_info": {
   "codemirror_mode": {
    "name": "ipython",
    "version": 3
   },
   "file_extension": ".py",
   "mimetype": "text/x-python",
   "name": "python",
   "nbconvert_exporter": "python",
   "pygments_lexer": "ipython3",
   "version": "3.7.4"
  }
 },
 "nbformat": 4,
 "nbformat_minor": 4
}
