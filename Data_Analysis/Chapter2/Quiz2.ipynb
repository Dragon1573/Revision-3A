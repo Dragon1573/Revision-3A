{
 "cells": [
  {
   "cell_type": "markdown",
   "metadata": {},
   "source": [
    "# 课后习题：操作题"
   ]
  },
  {
   "cell_type": "code",
   "execution_count": 1,
   "metadata": {},
   "outputs": [],
   "source": [
    "# 先导入所需的 Python 包\n",
    "from numpy import random"
   ]
  },
  {
   "cell_type": "markdown",
   "metadata": {},
   "source": [
    "## 生成范围在$0\\sim1$、服从均匀分布的$10$行$5$列的数组。"
   ]
  },
  {
   "cell_type": "code",
   "execution_count": 2,
   "metadata": {},
   "outputs": [
    {
     "name": "stdout",
     "output_type": "stream",
     "text": [
      "生成的矩阵为：\n",
      "[[0.80630001 0.89578373 0.91762215 0.11706318 0.46388866]\n",
      " [0.44641259 0.1747959  0.66616054 0.59997246 0.19257503]\n",
      " [0.77932605 0.10613143 0.87764483 0.80249758 0.86611898]\n",
      " [0.76455131 0.11243156 0.89718701 0.24992106 0.4761087 ]\n",
      " [0.47619492 0.19890471 0.90787332 0.67565302 0.10909478]\n",
      " [0.852015   0.67671303 0.84569693 0.60819771 0.54384758]\n",
      " [0.86878959 0.51955352 0.78358819 0.80949235 0.68632158]\n",
      " [0.18990433 0.20394403 0.88078465 0.47178729 0.11485251]\n",
      " [0.64765365 0.21972045 0.51840132 0.43167153 0.94999095]\n",
      " [0.16947457 0.68911261 0.72927542 0.40945171 0.70595593]]\n"
     ]
    }
   ],
   "source": [
    "random.seed(60123)\n",
    "matrix = random.rand(10, 5)\n",
    "print('生成的矩阵为：', matrix, sep='\\n')"
   ]
  },
  {
   "cell_type": "markdown",
   "metadata": {},
   "source": [
    "## 生成两个$2\\times2$矩阵，并计算矩阵乘积。"
   ]
  },
  {
   "cell_type": "code",
   "execution_count": 3,
   "metadata": {},
   "outputs": [
    {
     "name": "stdout",
     "output_type": "stream",
     "text": [
      "生成的矩阵A为：\n",
      "[[1.66684571 3.23165052]\n",
      " [2.71845208 2.60339108]]\n"
     ]
    }
   ],
   "source": [
    "# 服从正态分布 N(3, 1)\n",
    "matrix_A = random.randn(2, 2) + 3\n",
    "print('生成的矩阵A为：', matrix_A, sep='\\n')"
   ]
  },
  {
   "cell_type": "code",
   "execution_count": 4,
   "metadata": {},
   "outputs": [
    {
     "name": "stdout",
     "output_type": "stream",
     "text": [
      "生成的矩阵B为：\n",
      "[[0.57456517 0.86251091]\n",
      " [1.57006842 0.98741726]]\n"
     ]
    }
   ],
   "source": [
    "# 服从均匀分布 U(2, 0.5)\n",
    "matrix_B = 1.5 * random.rand(2, 2) + 0.5\n",
    "print('生成的矩阵B为：', matrix_B, sep='\\n')"
   ]
  },
  {
   "cell_type": "code",
   "execution_count": 5,
   "metadata": {},
   "outputs": [
    {
     "name": "stdout",
     "output_type": "stream",
     "text": [
      "矩阵乘积为：\n",
      "[[0.9577115  2.78733383]\n",
      " [4.26815575 2.57063328]]\n"
     ]
    }
   ],
   "source": [
    "# 计算矩阵乘法\n",
    "print('矩阵乘积为：', matrix_A * matrix_B, sep='\\n')"
   ]
  }
 ],
 "metadata": {
  "kernelspec": {
   "display_name": "Python 3",
   "language": "python",
   "name": "python3"
  },
  "language_info": {
   "codemirror_mode": {
    "name": "ipython",
    "version": 3
   },
   "file_extension": ".py",
   "mimetype": "text/x-python",
   "name": "python",
   "nbconvert_exporter": "python",
   "pygments_lexer": "ipython3",
   "version": "3.7.4"
  }
 },
 "nbformat": 4,
 "nbformat_minor": 4
}
