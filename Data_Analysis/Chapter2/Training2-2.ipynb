{
 "cells": [
  {
   "cell_type": "markdown",
   "metadata": {},
   "source": [
    "# 实训2　创建一个国际象棋的棋盘\n",
    "\n",
    "1. 训练要点\n",
    "    1. 掌握矩阵创建方法\n",
    "    2. 掌握数组索引的方法\n",
    "\n",
    "2. 需求说明\n",
    "    \n",
    "    　　创建国际象棋棋盘，填充$8\\times8$矩阵。国际象棋棋盘是个正方形，由横纵向个$8$格、颜色一深一浅交错排列的64个小方格组成，深色格为黑格，浅色格为白格，棋子就在这些格子中移动，如下图所示。\n",
    "\n",
    "    ![国际象棋棋盘](img/Training2-2-1.jpg)\n",
    "\n",
    "3. 实现思路及步骤\n",
    "    1. 创建一个$8\\times8$矩阵\n",
    "    2. 将第1、3、5、7行和2、4、6列的元素设置为`True`。"
   ]
  },
  {
   "cell_type": "code",
   "execution_count": 1,
   "metadata": {},
   "outputs": [],
   "source": [
    "# 导入NumPy程序包\n",
    "import numpy"
   ]
  },
  {
   "cell_type": "code",
   "execution_count": 2,
   "metadata": {},
   "outputs": [
    {
     "name": "stdout",
     "output_type": "stream",
     "text": [
      "生成的棋盘为：\n",
      "[[1 0 1 0 1 0 1 0]\n",
      " [0 1 0 1 0 1 0 1]\n",
      " [1 0 1 0 1 0 1 0]\n",
      " [0 1 0 1 0 1 0 1]\n",
      " [1 0 1 0 1 0 1 0]\n",
      " [0 1 0 1 0 1 0 1]\n",
      " [1 0 1 0 1 0 1 0]\n",
      " [0 1 0 1 0 1 0 1]]\n"
     ]
    }
   ],
   "source": [
    "grid = numpy.zeros((8, 8), dtype=numpy.int)\n",
    "for r in range(8):\n",
    "    for c in range(8):\n",
    "        if (r + c) % 2 == 0:\n",
    "            grid[r, c] = 1\n",
    "print('生成的棋盘为：', grid, sep='\\n')"
   ]
  }
 ],
 "metadata": {
  "kernelspec": {
   "display_name": "Python 3",
   "language": "python",
   "name": "python3"
  },
  "language_info": {
   "codemirror_mode": {
    "name": "ipython",
    "version": 3
   },
   "file_extension": ".py",
   "mimetype": "text/x-python",
   "name": "python",
   "nbconvert_exporter": "python",
   "pygments_lexer": "ipython3",
   "version": "3.7.4"
  }
 },
 "nbformat": 4,
 "nbformat_minor": 4
}
