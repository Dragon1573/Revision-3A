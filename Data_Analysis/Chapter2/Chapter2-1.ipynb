{
 "cells": [
  {
   "cell_type": "markdown",
   "metadata": {},
   "source": [
    "# 任务2.1　掌握NumPy数组对象 numpy.ndarray"
   ]
  },
  {
   "cell_type": "markdown",
   "metadata": {},
   "source": [
    "## 代码2-1　创建数组病查看数组属性"
   ]
  },
  {
   "cell_type": "code",
   "execution_count": 1,
   "metadata": {},
   "outputs": [
    {
     "name": "stdout",
     "output_type": "stream",
     "text": [
      "创建的数组为： [1 2 3 4]\n"
     ]
    }
   ],
   "source": [
    "import numpy\n",
    "array1 = numpy.array([1, 2, 3, 4])\n",
    "print('创建的数组为：', array1)"
   ]
  },
  {
   "cell_type": "code",
   "execution_count": 2,
   "metadata": {},
   "outputs": [
    {
     "name": "stdout",
     "output_type": "stream",
     "text": [
      "创建的数组为：\n",
      " [[ 1  2  3  4]\n",
      " [ 4  5  6  7]\n",
      " [ 7  8  9 10]]\n"
     ]
    }
   ],
   "source": [
    "array2 = numpy.array([[1, 2, 3, 4], [4, 5, 6, 7], [7, 8, 9, 10]])\n",
    "print('创建的数组为：\\n', array2)"
   ]
  },
  {
   "cell_type": "code",
   "execution_count": 3,
   "metadata": {},
   "outputs": [
    {
     "name": "stdout",
     "output_type": "stream",
     "text": [
      "数组维度为： (3, 4)\n"
     ]
    }
   ],
   "source": [
    "print('数组维度为：', array2.shape)"
   ]
  },
  {
   "cell_type": "code",
   "execution_count": 4,
   "metadata": {},
   "outputs": [
    {
     "name": "stdout",
     "output_type": "stream",
     "text": [
      "数组类型为： int32\n"
     ]
    }
   ],
   "source": [
    "print('数组类型为：', array2.dtype)"
   ]
  },
  {
   "cell_type": "code",
   "execution_count": 5,
   "metadata": {},
   "outputs": [
    {
     "name": "stdout",
     "output_type": "stream",
     "text": [
      "数组元素个数为： 12\n"
     ]
    }
   ],
   "source": [
    "print('数组元素个数为：', array2.size)"
   ]
  },
  {
   "cell_type": "code",
   "execution_count": 6,
   "metadata": {},
   "outputs": [
    {
     "name": "stdout",
     "output_type": "stream",
     "text": [
      "数组每个元素大小为： 4\n"
     ]
    }
   ],
   "source": [
    "print('数组每个元素大小为：', array2.itemsize)"
   ]
  },
  {
   "cell_type": "markdown",
   "metadata": {},
   "source": [
    "## 代码2-2　从新设置数组的Shape属性"
   ]
  },
  {
   "cell_type": "code",
   "execution_count": 7,
   "metadata": {},
   "outputs": [
    {
     "name": "stdout",
     "output_type": "stream",
     "text": [
      "重新设置Shape后的array2为：\n",
      " [[ 1  2  3]\n",
      " [ 4  4  5]\n",
      " [ 6  7  7]\n",
      " [ 8  9 10]]\n"
     ]
    }
   ],
   "source": [
    "array2.shape = (4, 3)\n",
    "print('重新设置Shape后的array2为：\\n', array2)"
   ]
  },
  {
   "cell_type": "markdown",
   "metadata": {},
   "source": [
    "## 代码2-3　使用arange函数创建数组"
   ]
  },
  {
   "cell_type": "code",
   "execution_count": 8,
   "metadata": {},
   "outputs": [
    {
     "name": "stdout",
     "output_type": "stream",
     "text": [
      "使用arange函数创建的数组为：\n",
      " [0.  0.1 0.2 0.3 0.4 0.5 0.6 0.7 0.8 0.9]\n"
     ]
    }
   ],
   "source": [
    "print('使用arange函数创建的数组为：\\n', numpy.arange(0, 1, 0.1))"
   ]
  },
  {
   "cell_type": "markdown",
   "metadata": {},
   "source": [
    "## 代码2-4　使用linspace函数创建数组"
   ]
  },
  {
   "cell_type": "code",
   "execution_count": 9,
   "metadata": {},
   "outputs": [
    {
     "name": "stdout",
     "output_type": "stream",
     "text": [
      "使用linspace函数创建的数组为：\n",
      " [0.         0.09090909 0.18181818 0.27272727 0.36363636 0.45454545\n",
      " 0.54545455 0.63636364 0.72727273 0.81818182 0.90909091 1.        ]\n"
     ]
    }
   ],
   "source": [
    "print('使用linspace函数创建的数组为：\\n', numpy.linspace(0, 1, 12))"
   ]
  },
  {
   "cell_type": "markdown",
   "metadata": {},
   "source": [
    "## 代码2-5　使用logspace函数创建等比数列"
   ]
  },
  {
   "cell_type": "code",
   "execution_count": 10,
   "metadata": {},
   "outputs": [
    {
     "name": "stdout",
     "output_type": "stream",
     "text": [
      "使用logspace函数创建的数列为：\n",
      " [  1.           1.27427499   1.62377674   2.06913808   2.6366509\n",
      "   3.35981829   4.2813324    5.45559478   6.95192796   8.8586679\n",
      "  11.28837892  14.38449888  18.32980711  23.35721469  29.76351442\n",
      "  37.92690191  48.32930239  61.58482111  78.47599704 100.        ]\n"
     ]
    }
   ],
   "source": [
    "print('使用logspace函数创建的数列为：\\n', numpy.logspace(0, 2, 20))"
   ]
  },
  {
   "cell_type": "markdown",
   "metadata": {},
   "source": [
    "## 代码2-6　使用zeros函数创建数组"
   ]
  },
  {
   "cell_type": "code",
   "execution_count": 11,
   "metadata": {},
   "outputs": [
    {
     "name": "stdout",
     "output_type": "stream",
     "text": [
      "使用zeros函数创建的数组为：\n",
      " [[0. 0. 0.]\n",
      " [0. 0. 0.]]\n"
     ]
    }
   ],
   "source": [
    "print('使用zeros函数创建的数组为：\\n', numpy.zeros((2, 3)))"
   ]
  },
  {
   "cell_type": "markdown",
   "metadata": {},
   "source": [
    "## 代码2-7　使用eye函数创建数组"
   ]
  },
  {
   "cell_type": "code",
   "execution_count": 12,
   "metadata": {},
   "outputs": [
    {
     "name": "stdout",
     "output_type": "stream",
     "text": [
      "使用eye函数创建的数组为：\n",
      " [[1. 0. 0.]\n",
      " [0. 1. 0.]\n",
      " [0. 0. 1.]]\n"
     ]
    }
   ],
   "source": [
    "print('使用eye函数创建的数组为：\\n', numpy.eye(3))"
   ]
  },
  {
   "cell_type": "markdown",
   "metadata": {},
   "source": [
    "## 代码2-8　使用diag函数创建数组"
   ]
  },
  {
   "cell_type": "code",
   "execution_count": 13,
   "metadata": {},
   "outputs": [
    {
     "name": "stdout",
     "output_type": "stream",
     "text": [
      "使用diag函数创建的数组为：\n",
      " [[1 0 0 0]\n",
      " [0 2 0 0]\n",
      " [0 0 3 0]\n",
      " [0 0 0 4]]\n"
     ]
    }
   ],
   "source": [
    "print('使用diag函数创建的数组为：\\n', numpy.diag([1, 2, 3, 4]))"
   ]
  },
  {
   "cell_type": "markdown",
   "metadata": {},
   "source": [
    "## 代码2-9　使用ones函数创建数组"
   ]
  },
  {
   "cell_type": "code",
   "execution_count": 14,
   "metadata": {},
   "outputs": [
    {
     "name": "stdout",
     "output_type": "stream",
     "text": [
      "使用ones函数创建的数组为：\n",
      " [[1. 1. 1.]\n",
      " [1. 1. 1.]\n",
      " [1. 1. 1.]\n",
      " [1. 1. 1.]\n",
      " [1. 1. 1.]]\n"
     ]
    }
   ],
   "source": [
    "print('使用ones函数创建的数组为：\\n', numpy.ones((5, 3)))"
   ]
  },
  {
   "cell_type": "markdown",
   "metadata": {},
   "source": [
    "## 代码2-10　数组数据类型转换"
   ]
  },
  {
   "cell_type": "code",
   "execution_count": 15,
   "metadata": {},
   "outputs": [
    {
     "name": "stdout",
     "output_type": "stream",
     "text": [
      "转换结果为： 42.0\n"
     ]
    }
   ],
   "source": [
    "print('转换结果为：', numpy.float64(42))"
   ]
  },
  {
   "cell_type": "code",
   "execution_count": 16,
   "metadata": {},
   "outputs": [
    {
     "name": "stdout",
     "output_type": "stream",
     "text": [
      "转换结果为： 42\n"
     ]
    }
   ],
   "source": [
    "print('转换结果为：', numpy.int8(42.0))"
   ]
  },
  {
   "cell_type": "code",
   "execution_count": 17,
   "metadata": {},
   "outputs": [
    {
     "name": "stdout",
     "output_type": "stream",
     "text": [
      "转换结果为： True\n"
     ]
    }
   ],
   "source": [
    "print('转换结果为：', numpy.bool(42))"
   ]
  },
  {
   "cell_type": "code",
   "execution_count": 18,
   "metadata": {},
   "outputs": [
    {
     "name": "stdout",
     "output_type": "stream",
     "text": [
      "转换结果为： False\n"
     ]
    }
   ],
   "source": [
    "print('转换结果为：', numpy.bool(0))"
   ]
  },
  {
   "cell_type": "code",
   "execution_count": 19,
   "metadata": {},
   "outputs": [
    {
     "name": "stdout",
     "output_type": "stream",
     "text": [
      "转换结果为： 1.0\n"
     ]
    }
   ],
   "source": [
    "print('转换结果为：', numpy.float(True))"
   ]
  },
  {
   "cell_type": "code",
   "execution_count": 20,
   "metadata": {},
   "outputs": [
    {
     "name": "stdout",
     "output_type": "stream",
     "text": [
      "转换结果为： 0.0\n"
     ]
    }
   ],
   "source": [
    "print('转换结果为：', numpy.float(False))"
   ]
  },
  {
   "cell_type": "markdown",
   "metadata": {},
   "source": [
    "## 代码2-11　创建数据类型"
   ]
  },
  {
   "cell_type": "code",
   "execution_count": 21,
   "metadata": {},
   "outputs": [
    {
     "name": "stdout",
     "output_type": "stream",
     "text": [
      "数据类型为： [('name', '<U40'), ('numitems', '<i8'), ('price', '<f8')]\n"
     ]
    }
   ],
   "source": [
    "df = numpy.dtype([\n",
    "    (\"name\", numpy.str_, 40),\n",
    "    (\"numitems\", numpy.int64),\n",
    "    (\"price\", numpy.float64)\n",
    "])\n",
    "print('数据类型为：', df)"
   ]
  },
  {
   "cell_type": "markdown",
   "metadata": {},
   "source": [
    "## 代码2-12　查看数据类型"
   ]
  },
  {
   "cell_type": "code",
   "execution_count": 22,
   "metadata": {},
   "outputs": [
    {
     "name": "stdout",
     "output_type": "stream",
     "text": [
      "数据类型为： <U40\n"
     ]
    }
   ],
   "source": [
    "print('数据类型为：', df[\"name\"])"
   ]
  },
  {
   "cell_type": "code",
   "execution_count": 23,
   "metadata": {},
   "outputs": [
    {
     "name": "stdout",
     "output_type": "stream",
     "text": [
      "数据类型为： <U40\n"
     ]
    }
   ],
   "source": [
    "print('数据类型为：', numpy.dtype(df[\"name\"]))"
   ]
  },
  {
   "cell_type": "markdown",
   "metadata": {},
   "source": [
    "## 代码2-13　自定义数组数据"
   ]
  },
  {
   "cell_type": "code",
   "execution_count": 24,
   "metadata": {},
   "outputs": [
    {
     "name": "stdout",
     "output_type": "stream",
     "text": [
      "自定义数据为： [('tomatoes', 42, 4.14) ('cabbages', 13, 1.72)]\n"
     ]
    }
   ],
   "source": [
    "itemz = numpy.array([\n",
    "    (\"tomatoes\", 42, 4.14),\n",
    "    (\"cabbages\", 13, 1.72),\n",
    "], dtype=df)\n",
    "print('自定义数据为：', itemz)"
   ]
  },
  {
   "cell_type": "markdown",
   "metadata": {},
   "source": [
    "## 代码2-14　生成随机数"
   ]
  },
  {
   "cell_type": "code",
   "execution_count": 25,
   "metadata": {
    "scrolled": true
   },
   "outputs": [
    {
     "name": "stdout",
     "output_type": "stream",
     "text": [
      "生成的随机数组为： [0.95642216 0.27249946 0.47386676 0.94397679 0.92758884 0.47031253\n",
      " 0.82978906 0.86545631 0.86843791 0.81589371 0.78080396 0.86738076\n",
      " 0.8709674  0.51446862 0.64253262 0.06162242 0.98979793 0.0468244\n",
      " 0.88784566 0.72975352 0.76361134 0.40979105 0.34683342 0.48446704\n",
      " 0.07198766 0.70786663 0.53827594 0.94094904 0.24094933 0.50019367\n",
      " 0.71408496 0.50312625 0.46557143 0.84087868 0.07816208 0.23762834\n",
      " 0.13122185 0.26371797 0.59236709 0.62805735 0.11206815 0.77623396\n",
      " 0.85654695 0.52499528 0.67919488 0.99468648 0.23444357 0.62545112\n",
      " 0.70814096 0.8219375  0.8227696  0.27208143 0.27890422 0.08073265\n",
      " 0.43374345 0.6799833  0.45872154 0.45067521 0.60540636 0.19052948\n",
      " 0.40075447 0.36000004 0.20998222 0.3356151  0.58929442 0.37700349\n",
      " 0.64997992 0.75143723 0.0768443  0.96239367 0.01100089 0.82827385\n",
      " 0.36495308 0.26955805 0.01244946 0.40745775 0.01703644 0.75224936\n",
      " 0.39558323 0.95708653 0.42080751 0.13098668 0.85779171 0.82602889\n",
      " 0.50928371 0.60111901 0.20799963 0.64333099 0.80272453 0.08785593\n",
      " 0.9926086  0.4176275  0.63508688 0.3376121  0.54873116 0.69030028\n",
      " 0.52059723 0.35394213 0.7715884  0.80686411]\n"
     ]
    }
   ],
   "source": [
    "print('生成的随机数组为：', numpy.random.random(100))"
   ]
  },
  {
   "cell_type": "markdown",
   "metadata": {},
   "source": [
    "## 代码2-15　生成服从均匀分布的随机数"
   ]
  },
  {
   "cell_type": "code",
   "execution_count": 26,
   "metadata": {
    "scrolled": true
   },
   "outputs": [
    {
     "name": "stdout",
     "output_type": "stream",
     "text": [
      "生成的随机数组为：\n",
      " [[0.50660152 0.22590054 0.41043448 0.97539074 0.66224422]\n",
      " [0.14272136 0.61047824 0.485813   0.57933811 0.92296952]\n",
      " [0.37198123 0.09764557 0.7248607  0.01351968 0.013393  ]\n",
      " [0.46226153 0.45259349 0.15564934 0.70483649 0.61752918]\n",
      " [0.15162172 0.04551374 0.53987551 0.01597092 0.69904107]\n",
      " [0.40893786 0.5271802  0.09483907 0.5984393  0.67914094]\n",
      " [0.58222867 0.12739528 0.75346237 0.60849785 0.72335132]\n",
      " [0.01015511 0.75957892 0.14498155 0.08213744 0.06640445]\n",
      " [0.86552905 0.72707601 0.4723849  0.89947088 0.34296376]\n",
      " [0.28166261 0.70725835 0.11818472 0.5519773  0.55168236]]\n"
     ]
    }
   ],
   "source": [
    "print('生成的随机数组为：\\n', numpy.random.rand(10, 5))"
   ]
  },
  {
   "cell_type": "markdown",
   "metadata": {},
   "source": [
    "## 代码2-16　生成服从正态分布的随机数"
   ]
  },
  {
   "cell_type": "code",
   "execution_count": 27,
   "metadata": {
    "scrolled": true
   },
   "outputs": [
    {
     "name": "stdout",
     "output_type": "stream",
     "text": [
      "生成的随机数组为：\n",
      " [[-0.71979643  1.62603585 -1.34733432 -0.42601175  0.78154355]\n",
      " [ 0.5225324   1.73896532  0.57069774  0.56563409 -0.27357747]\n",
      " [ 1.49998045  0.04430587 -0.3017525  -0.75284088 -0.51501035]\n",
      " [ 0.26193164 -0.6667679  -1.15918062 -0.91024346 -0.35423479]\n",
      " [-0.12278483  1.60688712 -0.62369299  1.00089162 -0.21132073]\n",
      " [ 0.74287527  0.85706811  0.13106821 -1.46726887  0.59052208]\n",
      " [-1.47887061  2.66539314  0.52366545  1.54718417  0.79840286]\n",
      " [ 0.90555528 -2.15049428  0.8022503   0.92263243  2.10434552]\n",
      " [ 0.97639337  0.35387605 -0.64110364  1.10368383 -0.79647347]\n",
      " [-0.66907002 -0.64207302  0.01690849 -0.98042695  0.02648571]]\n"
     ]
    }
   ],
   "source": [
    "print('生成的随机数组为：\\n', numpy.random.randn(10, 5))"
   ]
  },
  {
   "cell_type": "markdown",
   "metadata": {},
   "source": [
    "## 代码2-17　生成给定上下限范围的随机数"
   ]
  },
  {
   "cell_type": "code",
   "execution_count": 28,
   "metadata": {},
   "outputs": [
    {
     "name": "stdout",
     "output_type": "stream",
     "text": [
      "生成的随机数组为： [[6 6 4 5 3]\n",
      " [6 9 2 5 3]]\n"
     ]
    }
   ],
   "source": [
    "print('生成的随机数组为：', numpy.random.randint(2, 10, size=(2, 5)))"
   ]
  },
  {
   "cell_type": "markdown",
   "metadata": {},
   "source": [
    "## 代码2-18　使用索引访问一维数组"
   ]
  },
  {
   "cell_type": "code",
   "execution_count": 29,
   "metadata": {},
   "outputs": [
    {
     "name": "stdout",
     "output_type": "stream",
     "text": [
      "索引结果为： 5\n"
     ]
    }
   ],
   "source": [
    "array = numpy.arange(10)\n",
    "print('索引结果为：', array[5])"
   ]
  },
  {
   "cell_type": "code",
   "execution_count": 30,
   "metadata": {},
   "outputs": [
    {
     "name": "stdout",
     "output_type": "stream",
     "text": [
      "索引结果为： [3 4]\n"
     ]
    }
   ],
   "source": [
    "print('索引结果为：', array[3:5])"
   ]
  },
  {
   "cell_type": "code",
   "execution_count": 31,
   "metadata": {},
   "outputs": [
    {
     "name": "stdout",
     "output_type": "stream",
     "text": [
      "索引结果为： [0 1 2 3 4]\n"
     ]
    }
   ],
   "source": [
    "print('索引结果为：', array[:5])"
   ]
  },
  {
   "cell_type": "code",
   "execution_count": 32,
   "metadata": {},
   "outputs": [
    {
     "name": "stdout",
     "output_type": "stream",
     "text": [
      "索引结果为： 9\n"
     ]
    }
   ],
   "source": [
    "print('索引结果为：', array[-1])"
   ]
  },
  {
   "cell_type": "code",
   "execution_count": 33,
   "metadata": {},
   "outputs": [
    {
     "name": "stdout",
     "output_type": "stream",
     "text": [
      "索引结果为： [  0   1 100 101   4   5   6   7   8   9]\n"
     ]
    }
   ],
   "source": [
    "array[2:4] = (100, 101)\n",
    "print('索引结果为：', array)"
   ]
  },
  {
   "cell_type": "code",
   "execution_count": 34,
   "metadata": {},
   "outputs": [
    {
     "name": "stdout",
     "output_type": "stream",
     "text": [
      "索引结果为： [  1 101   5   7]\n"
     ]
    }
   ],
   "source": [
    "print('索引结果为：', array[1:-1:2])"
   ]
  },
  {
   "cell_type": "code",
   "execution_count": 35,
   "metadata": {},
   "outputs": [
    {
     "name": "stdout",
     "output_type": "stream",
     "text": [
      "索引结果为： [  5 101]\n"
     ]
    }
   ],
   "source": [
    "print('索引结果为：', array[5:1:-2])"
   ]
  },
  {
   "cell_type": "markdown",
   "metadata": {},
   "source": [
    "## 代码2-19　使用索引访问多维数组"
   ]
  },
  {
   "cell_type": "code",
   "execution_count": 36,
   "metadata": {},
   "outputs": [
    {
     "name": "stdout",
     "output_type": "stream",
     "text": [
      "创建的二位数组为：\n",
      " [[ 1  2  3  4  5]\n",
      " [ 4  5  6  7  8]\n",
      " [ 7  8  9 10 11]]\n"
     ]
    }
   ],
   "source": [
    "array = numpy.array([\n",
    "    [1, 2, 3, 4, 5],\n",
    "    [4, 5, 6, 7, 8],\n",
    "    [7, 8, 9, 10, 11]\n",
    "])\n",
    "print('创建的二位数组为：\\n', array)"
   ]
  },
  {
   "cell_type": "code",
   "execution_count": 37,
   "metadata": {},
   "outputs": [
    {
     "name": "stdout",
     "output_type": "stream",
     "text": [
      "索引结果为： [4 5]\n"
     ]
    }
   ],
   "source": [
    "print('索引结果为：', array[0, 3:5])"
   ]
  },
  {
   "cell_type": "code",
   "execution_count": 38,
   "metadata": {},
   "outputs": [
    {
     "name": "stdout",
     "output_type": "stream",
     "text": [
      "索引结果为：\n",
      " [[ 6  7  8]\n",
      " [ 9 10 11]]\n"
     ]
    }
   ],
   "source": [
    "print('索引结果为：\\n', array[1:, 2:])"
   ]
  },
  {
   "cell_type": "code",
   "execution_count": 39,
   "metadata": {},
   "outputs": [
    {
     "name": "stdout",
     "output_type": "stream",
     "text": [
      "索引结果为： [3 6 9]\n"
     ]
    }
   ],
   "source": [
    "print('索引结果为：', array[:, 2])"
   ]
  },
  {
   "cell_type": "markdown",
   "metadata": {},
   "source": [
    "## 代码2-20　使用整数函数和布尔值索引访问多维数组"
   ]
  },
  {
   "cell_type": "code",
   "execution_count": 40,
   "metadata": {},
   "outputs": [
    {
     "name": "stdout",
     "output_type": "stream",
     "text": [
      "索引结果为： [ 2  6 10]\n"
     ]
    }
   ],
   "source": [
    "print('索引结果为：', array[((0, 1, 2), (1, 2, 3))])"
   ]
  },
  {
   "cell_type": "code",
   "execution_count": 41,
   "metadata": {},
   "outputs": [
    {
     "name": "stdout",
     "output_type": "stream",
     "text": [
      "索引结果为：\n",
      " [[ 4  6  7]\n",
      " [ 7  9 10]]\n"
     ]
    }
   ],
   "source": [
    "print('索引结果为：\\n', array[1:, (0, 2, 3)])"
   ]
  },
  {
   "cell_type": "code",
   "execution_count": 42,
   "metadata": {},
   "outputs": [
    {
     "name": "stdout",
     "output_type": "stream",
     "text": [
      "索引结果为： [3 9]\n"
     ]
    }
   ],
   "source": [
    "mask = numpy.array([True, False, True], dtype=numpy.bool)\n",
    "print('索引结果为：', array[mask, 2])"
   ]
  },
  {
   "cell_type": "markdown",
   "metadata": {},
   "source": [
    "## 代码2-21　改变数组形状"
   ]
  },
  {
   "cell_type": "code",
   "execution_count": 43,
   "metadata": {},
   "outputs": [
    {
     "name": "stdout",
     "output_type": "stream",
     "text": [
      "创建的一维数组为： [ 0  1  2  3  4  5  6  7  8  9 10 11]\n"
     ]
    }
   ],
   "source": [
    "array = numpy.arange(12)\n",
    "print('创建的一维数组为：', array)"
   ]
  },
  {
   "cell_type": "code",
   "execution_count": 44,
   "metadata": {},
   "outputs": [
    {
     "name": "stdout",
     "output_type": "stream",
     "text": [
      "新的一维数组为：\n",
      " [[ 0  1  2  3]\n",
      " [ 4  5  6  7]\n",
      " [ 8  9 10 11]]\n"
     ]
    }
   ],
   "source": [
    "print('新的一维数组为：\\n', array.reshape(3, 4))"
   ]
  },
  {
   "cell_type": "code",
   "execution_count": 45,
   "metadata": {},
   "outputs": [
    {
     "name": "stdout",
     "output_type": "stream",
     "text": [
      "数组维度为： 2\n"
     ]
    }
   ],
   "source": [
    "print('数组维度为：', array.reshape(3, 4).ndim)"
   ]
  },
  {
   "cell_type": "markdown",
   "metadata": {},
   "source": [
    "## 代码2-22　使用ravel函数展平数组"
   ]
  },
  {
   "cell_type": "code",
   "execution_count": 46,
   "metadata": {},
   "outputs": [
    {
     "name": "stdout",
     "output_type": "stream",
     "text": [
      "创建的二维数组为：\n",
      " [[ 0  1  2  3]\n",
      " [ 4  5  6  7]\n",
      " [ 8  9 10 11]]\n"
     ]
    }
   ],
   "source": [
    "array = numpy.arange(12).reshape(3, 4)\n",
    "print('创建的二维数组为：\\n', array)"
   ]
  },
  {
   "cell_type": "code",
   "execution_count": 47,
   "metadata": {},
   "outputs": [
    {
     "name": "stdout",
     "output_type": "stream",
     "text": [
      "数组展平后为： [ 0  1  2  3  4  5  6  7  8  9 10 11]\n"
     ]
    }
   ],
   "source": [
    "print('数组展平后为：', array.ravel())"
   ]
  },
  {
   "cell_type": "markdown",
   "metadata": {},
   "source": [
    "## 代码2-23　使用flatten函数展平数组"
   ]
  },
  {
   "cell_type": "code",
   "execution_count": 48,
   "metadata": {},
   "outputs": [
    {
     "name": "stdout",
     "output_type": "stream",
     "text": [
      "数组展平为： [ 0  1  2  3  4  5  6  7  8  9 10 11]\n"
     ]
    }
   ],
   "source": [
    "print('数组展平为：', array.flatten())"
   ]
  },
  {
   "cell_type": "code",
   "execution_count": 49,
   "metadata": {},
   "outputs": [
    {
     "name": "stdout",
     "output_type": "stream",
     "text": [
      "数组展平为： [ 0  4  8  1  5  9  2  6 10  3  7 11]\n"
     ]
    }
   ],
   "source": [
    "print('数组展平为：', array.flatten('F'))"
   ]
  },
  {
   "cell_type": "markdown",
   "metadata": {},
   "source": [
    "## 代码2-24　使用hstack函数实现数组横向组合"
   ]
  },
  {
   "cell_type": "code",
   "execution_count": 50,
   "metadata": {},
   "outputs": [
    {
     "name": "stdout",
     "output_type": "stream",
     "text": [
      "创建的数组1为：\n",
      " [[ 0  1  2  3]\n",
      " [ 4  5  6  7]\n",
      " [ 8  9 10 11]]\n"
     ]
    }
   ],
   "source": [
    "array1 = numpy.arange(12).reshape(3, 4)\n",
    "print('创建的数组1为：\\n', array1)"
   ]
  },
  {
   "cell_type": "code",
   "execution_count": 51,
   "metadata": {},
   "outputs": [
    {
     "name": "stdout",
     "output_type": "stream",
     "text": [
      "创建的数组2为：\n",
      " [[ 0  3  6  9]\n",
      " [12 15 18 21]\n",
      " [24 27 30 33]]\n"
     ]
    }
   ],
   "source": [
    "array2 = array1 * 3\n",
    "print('创建的数组2为：\\n', array2)"
   ]
  },
  {
   "cell_type": "code",
   "execution_count": 52,
   "metadata": {},
   "outputs": [
    {
     "name": "stdout",
     "output_type": "stream",
     "text": [
      "横向组合为：\n",
      " [[ 0  1  2  3  0  3  6  9]\n",
      " [ 4  5  6  7 12 15 18 21]\n",
      " [ 8  9 10 11 24 27 30 33]]\n"
     ]
    }
   ],
   "source": [
    "print('横向组合为：\\n', numpy.hstack((array1, array2)))"
   ]
  },
  {
   "cell_type": "markdown",
   "metadata": {},
   "source": [
    "## 代码2-25　使用vstack函数实现数组纵向组合"
   ]
  },
  {
   "cell_type": "code",
   "execution_count": 53,
   "metadata": {},
   "outputs": [
    {
     "name": "stdout",
     "output_type": "stream",
     "text": [
      "纵向组合为：\n",
      " [[ 0  1  2  3]\n",
      " [ 4  5  6  7]\n",
      " [ 8  9 10 11]\n",
      " [ 0  3  6  9]\n",
      " [12 15 18 21]\n",
      " [24 27 30 33]]\n"
     ]
    }
   ],
   "source": [
    "print('纵向组合为：\\n', numpy.vstack((array1, array2)))"
   ]
  },
  {
   "cell_type": "markdown",
   "metadata": {},
   "source": [
    "## 代码2-26　使用concatenate函数组合数组"
   ]
  },
  {
   "cell_type": "code",
   "execution_count": 54,
   "metadata": {},
   "outputs": [
    {
     "name": "stdout",
     "output_type": "stream",
     "text": [
      "横向组合为：\n",
      " [[ 0  1  2  3  0  3  6  9]\n",
      " [ 4  5  6  7 12 15 18 21]\n",
      " [ 8  9 10 11 24 27 30 33]]\n"
     ]
    }
   ],
   "source": [
    "print('横向组合为：\\n', numpy.concatenate((array1, array2), axis=1))"
   ]
  },
  {
   "cell_type": "code",
   "execution_count": 55,
   "metadata": {},
   "outputs": [
    {
     "name": "stdout",
     "output_type": "stream",
     "text": [
      "纵向组合为：\n",
      " [[ 0  1  2  3]\n",
      " [ 4  5  6  7]\n",
      " [ 8  9 10 11]\n",
      " [ 0  3  6  9]\n",
      " [12 15 18 21]\n",
      " [24 27 30 33]]\n"
     ]
    }
   ],
   "source": [
    "print('纵向组合为：\\n', numpy.concatenate((array1, array2), axis=0))"
   ]
  },
  {
   "cell_type": "markdown",
   "metadata": {},
   "source": [
    "## 代码2-27　使用hsplit函数实现数组横向分割"
   ]
  },
  {
   "cell_type": "code",
   "execution_count": 56,
   "metadata": {},
   "outputs": [
    {
     "name": "stdout",
     "output_type": "stream",
     "text": [
      "创建的二维数组为：\n",
      " [[ 0  1  2  3]\n",
      " [ 4  5  6  7]\n",
      " [ 8  9 10 11]\n",
      " [12 13 14 15]]\n"
     ]
    }
   ],
   "source": [
    "array = numpy.arange(16).reshape(4, 4)\n",
    "print('创建的二维数组为：\\n', array)"
   ]
  },
  {
   "cell_type": "code",
   "execution_count": 57,
   "metadata": {},
   "outputs": [
    {
     "name": "stdout",
     "output_type": "stream",
     "text": [
      "横向分割为：\n",
      " [array([[ 0,  1],\n",
      "       [ 4,  5],\n",
      "       [ 8,  9],\n",
      "       [12, 13]]), array([[ 2,  3],\n",
      "       [ 6,  7],\n",
      "       [10, 11],\n",
      "       [14, 15]])]\n"
     ]
    }
   ],
   "source": [
    "print('横向分割为：\\n', numpy.hsplit(array, 2))"
   ]
  },
  {
   "cell_type": "markdown",
   "metadata": {},
   "source": [
    "## 代码2-28　使用vsplit函数实现数组纵向分割"
   ]
  },
  {
   "cell_type": "code",
   "execution_count": 58,
   "metadata": {},
   "outputs": [
    {
     "name": "stdout",
     "output_type": "stream",
     "text": [
      "纵向分割为：\n",
      " [array([[0, 1, 2, 3],\n",
      "       [4, 5, 6, 7]]), array([[ 8,  9, 10, 11],\n",
      "       [12, 13, 14, 15]])]\n"
     ]
    }
   ],
   "source": [
    "print('纵向分割为：\\n', numpy.vsplit(array, 2))"
   ]
  },
  {
   "cell_type": "markdown",
   "metadata": {},
   "source": [
    "## 代码2-29　使用split函数分割数组"
   ]
  },
  {
   "cell_type": "code",
   "execution_count": 59,
   "metadata": {},
   "outputs": [
    {
     "name": "stdout",
     "output_type": "stream",
     "text": [
      "横向分割为：\n",
      " [array([[ 0,  1],\n",
      "       [ 4,  5],\n",
      "       [ 8,  9],\n",
      "       [12, 13]]), array([[ 2,  3],\n",
      "       [ 6,  7],\n",
      "       [10, 11],\n",
      "       [14, 15]])]\n"
     ]
    }
   ],
   "source": [
    "print('横向分割为：\\n', numpy.split(array, 2, axis=1))"
   ]
  },
  {
   "cell_type": "code",
   "execution_count": 60,
   "metadata": {},
   "outputs": [
    {
     "name": "stdout",
     "output_type": "stream",
     "text": [
      "纵向分割为：\n",
      " [array([[0, 1, 2, 3],\n",
      "       [4, 5, 6, 7]]), array([[ 8,  9, 10, 11],\n",
      "       [12, 13, 14, 15]])]\n"
     ]
    }
   ],
   "source": [
    "print('纵向分割为：\\n', numpy.split(array, 2, axis=0))"
   ]
  }
 ],
 "metadata": {
  "kernelspec": {
   "display_name": "Python 3",
   "language": "python",
   "name": "python3"
  },
  "language_info": {
   "codemirror_mode": {
    "name": "ipython",
    "version": 3
   },
   "file_extension": ".py",
   "mimetype": "text/x-python",
   "name": "python",
   "nbconvert_exporter": "python",
   "pygments_lexer": "ipython3",
   "version": "3.7.4"
  }
 },
 "nbformat": 4,
 "nbformat_minor": 4
}
