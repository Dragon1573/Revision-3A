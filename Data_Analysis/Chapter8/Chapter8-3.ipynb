{
 "cells": [
  {
   "cell_type": "markdown",
   "metadata": {},
   "source": [
    "## 任务8.3　使用`Lasso`回归选取财政收入预测的关键特征"
   ]
  },
  {
   "cell_type": "markdown",
   "metadata": {},
   "source": [
    "<center>\n",
    "    <br>\n",
    "    代码8-2　使用<code>Lasso</code>回归方法进行关键特征选取\n",
    "</center>"
   ]
  },
  {
   "cell_type": "code",
   "execution_count": 1,
   "metadata": {},
   "outputs": [
    {
     "name": "stdout",
     "output_type": "stream",
     "text": [
      "Lasso回归模型的相关系数为：\n",
      "[-1.8000e-04 -0.0000e+00  1.2414e-01 -1.0310e-02  6.5400e-02  1.2000e-04\n",
      "  3.1741e-01  3.4900e-02 -0.0000e+00  0.0000e+00  0.0000e+00  0.0000e+00\n",
      " -4.0300e-02]\n"
     ]
    },
    {
     "name": "stderr",
     "output_type": "stream",
     "text": [
      "C:\\Users\\legen\\Anaconda3\\lib\\site-packages\\sklearn\\linear_model\\coordinate_descent.py:475: ConvergenceWarning: Objective did not converge. You might want to increase the number of iterations. Duality gap: 34165.31873662009, tolerance: 705.2629842279999\n",
      "  positive)\n"
     ]
    }
   ],
   "source": [
    "# 读取数据\n",
    "import numpy\n",
    "import pandas\n",
    "from sklearn.linear_model import Lasso\n",
    "data = pandas.read_csv('data/data_task.csv')\n",
    "# 调用 Lasso 函数\n",
    "lasso = Lasso(1000, random_state=0x6B1A)\n",
    "lasso.fit(data.iloc[:, 0:13], data['y'])\n",
    "# 输出结果，保留5位小数\n",
    "print('Lasso回归模型的相关系数为：', numpy.round(lasso.coef_, 5), sep='\\n')"
   ]
  },
  {
   "cell_type": "code",
   "execution_count": 2,
   "metadata": {},
   "outputs": [
    {
     "name": "stdout",
     "output_type": "stream",
     "text": [
      "相关系数非零个数为： 8\n"
     ]
    }
   ],
   "source": [
    "# 计算相关系数非零的个数\n",
    "print('相关系数非零个数为：', numpy.sum(lasso.coef_ != 0))"
   ]
  },
  {
   "cell_type": "code",
   "execution_count": 3,
   "metadata": {},
   "outputs": [
    {
     "name": "stdout",
     "output_type": "stream",
     "text": [
      "相关系数是否为零：\n",
      "[ True False  True  True  True  True  True  True False False False False\n",
      "  True]\n"
     ]
    }
   ],
   "source": [
    "# 返回一个相关系数是否为零的布尔数组\n",
    "mask = (lasso.coef_ != 0)\n",
    "print('相关系数是否为零：', mask, sep='\\n')"
   ]
  },
  {
   "cell_type": "code",
   "execution_count": 4,
   "metadata": {},
   "outputs": [
    {
     "name": "stdout",
     "output_type": "stream",
     "text": [
      "输出数据的维度为： (20, 8)\n"
     ]
    }
   ],
   "source": [
    "new_reg_data = data.iloc[:, numpy.append(mask, False)]\n",
    "new_reg_data.to_csv('stash/new_reg_data.csv')\n",
    "print('输出数据的维度为：', new_reg_data.shape)"
   ]
  }
 ],
 "metadata": {
  "kernelspec": {
   "display_name": "Python 3",
   "language": "python",
   "name": "python3"
  },
  "language_info": {
   "codemirror_mode": {
    "name": "ipython",
    "version": 3
   },
   "file_extension": ".py",
   "mimetype": "text/x-python",
   "name": "python",
   "nbconvert_exporter": "python",
   "pygments_lexer": "ipython3",
   "version": "3.7.4"
  }
 },
 "nbformat": 4,
 "nbformat_minor": 4
}
