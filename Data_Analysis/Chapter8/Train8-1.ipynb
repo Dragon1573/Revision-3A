{
 "cells": [
  {
   "cell_type": "markdown",
   "metadata": {},
   "source": [
    "## 实训1　求取企业所得税各特征间的相关系数\n",
    "\n",
    "1. 训练要点\n",
    "\n",
    "    1. 掌握`Python`中的相关性分析方法，对每种分析方法进行比较。\n",
    "    2. 理解并会用`Python`实现企业所得税预测相关特征的相关性分析。\n",
    "    3. 对相关性分析结果进行解读。\n",
    "\n",
    "2. 需求说明\n",
    "\n",
    "    &emsp;&emsp;对影响企业所得税的原始特征进行相关性分析，对原始特征间的相关性和原始特征与目标特征之间的相关性进行解读。\n",
    "\n",
    "3. 实现思路及步骤\n",
    "\n",
    "    1. 求取原始数据特征之间的`Pearson`相关系数。\n",
    "    2. 判断各特征之间的相关性。"
   ]
  },
  {
   "cell_type": "code",
   "execution_count": 1,
   "metadata": {},
   "outputs": [
    {
     "name": "stdout",
     "output_type": "stream",
     "text": [
      "相关系数矩阵为：\n",
      "      year    x1    x2    x3    x4    x5    x6    x7    x8    x9   x10     y\n",
      "year  1.00  1.00  0.98  0.97  0.97  0.95 -0.89  0.95  0.98  0.93  0.97  0.99\n",
      "x1    1.00  1.00  0.99  0.98  0.98  0.95 -0.89  0.97  0.99  0.93  0.98  0.99\n",
      "x2    0.98  0.99  1.00  0.99  0.98  0.92 -0.89  0.99  0.98  0.90  0.99  0.98\n",
      "x3    0.97  0.98  0.99  1.00  0.96  0.92 -0.91  0.99  0.98  0.91  0.99  0.97\n",
      "x4    0.97  0.98  0.98  0.96  1.00  0.90 -0.82  0.95  0.97  0.92  0.96  0.99\n",
      "x5    0.95  0.95  0.92  0.92  0.90  1.00 -0.91  0.88  0.96  0.92  0.94  0.95\n",
      "x6   -0.89 -0.89 -0.89 -0.91 -0.82 -0.91  1.00 -0.87 -0.91 -0.84 -0.92 -0.88\n",
      "x7    0.95  0.97  0.99  0.99  0.95  0.88 -0.87  1.00  0.97  0.86  0.98  0.95\n",
      "x8    0.98  0.99  0.98  0.98  0.97  0.96 -0.91  0.97  1.00  0.95  0.99  0.99\n",
      "x9    0.93  0.93  0.90  0.91  0.92  0.92 -0.84  0.86  0.95  1.00  0.91  0.95\n",
      "x10   0.97  0.98  0.99  0.99  0.96  0.94 -0.92  0.98  0.99  0.91  1.00  0.98\n",
      "y     0.99  0.99  0.98  0.97  0.99  0.95 -0.88  0.95  0.99  0.95  0.98  1.00\n"
     ]
    }
   ],
   "source": [
    "import numpy\n",
    "import pandas\n",
    "data = pandas.read_csv('data/income_tax.csv')\n",
    "print('相关系数矩阵为：', numpy.round(data.corr(method='pearson'), 2), sep='\\n')"
   ]
  }
 ],
 "metadata": {
  "kernelspec": {
   "display_name": "Python 3",
   "language": "python",
   "name": "python3"
  },
  "language_info": {
   "codemirror_mode": {
    "name": "ipython",
    "version": 3
   },
   "file_extension": ".py",
   "mimetype": "text/x-python",
   "name": "python",
   "nbconvert_exporter": "python",
   "pygments_lexer": "ipython3",
   "version": "3.7.4"
  }
 },
 "nbformat": 4,
 "nbformat_minor": 4
}
