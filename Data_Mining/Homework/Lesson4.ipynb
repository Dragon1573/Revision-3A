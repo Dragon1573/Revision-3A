{
 "cells": [
  {
   "cell_type": "markdown",
   "metadata": {},
   "source": [
    "# Lesson 4"
   ]
  },
  {
   "cell_type": "markdown",
   "metadata": {},
   "source": [
    "## Training Goals\n",
    "\n",
    "1. Learn the definition of *close frequent pattern* and *max frequent pattern*.\n",
    "2. Lean how to find all *close frequent pattern* and *max requent pattern* in a given dataset."
   ]
  },
  {
   "cell_type": "markdown",
   "metadata": {},
   "source": [
    "## Problems to be solved\n",
    "\n",
    "1. Find out the entire *close frequent pattern* and *max frequent pattern* in the dataset below. In this question, suppose that the *minimum support count required* is 3.\n",
    "\n",
    "    |  Tid  |           Items bought           |\n",
    "    | :---: | :------------------------------: |\n",
    "    |  10   |        Beer, Nuts, Diaper        |\n",
    "    |  20   |       Beer, Coffee, Diaper       |\n",
    "    |  30   |        Beer, Diaper, Eggs        |\n",
    "    |  40   |         Nuts, Eggs, Milk         |\n",
    "    |  50   | Nuts, Coffee, Diaper, Eggs, Milk |\n",
    "    \n",
    "2. Why *close frequent pattern* is lossless, but the other is lossy?"
   ]
  },
  {
   "cell_type": "markdown",
   "metadata": {},
   "source": [
    "## Training Steps and Methodologies"
   ]
  },
  {
   "cell_type": "markdown",
   "metadata": {
    "jupyter": {
     "source_hidden": true
    }
   },
   "source": [
    "1. Find all 1-subsets of the dataset.\n",
    "\n",
    "    | Elements | Support Count |\n",
    "    | :------: | :-----------: |\n",
    "    |   Beer   |       3       |\n",
    "    |   Nuts   |       3       |\n",
    "    |  Diaper  |       4       |\n",
    "    |  Coffee  |       2       |\n",
    "    |   Eggs   |       3       |\n",
    "    |   Milk   |       2       |"
   ]
  },
  {
   "cell_type": "markdown",
   "metadata": {
    "jupyter": {
     "source_hidden": true
    }
   },
   "source": [
    "2. Romove those support count less than 3.\n",
    "\n",
    "    | Elements | Support Count |\n",
    "    | :------: | :-----------: |\n",
    "    |   Beer   |       3       |\n",
    "    |   Nuts   |       3       |\n",
    "    |  Diaper  |       4       |\n",
    "    |   Eggs   |       3       |"
   ]
  },
  {
   "cell_type": "markdown",
   "metadata": {
    "jupyter": {
     "source_hidden": true
    }
   },
   "source": [
    "3. Intersects elements with each other into a 2-subsets.\n",
    "\n",
    "    |    Elements    | Support Count |\n",
    "    | :------------: | :-----------: |\n",
    "    |  {Beer, Nuts}  |       1       |\n",
    "    | {Beer, Diaper} |       3       |\n",
    "    |  {Beer, Eggs}  |       1       |\n",
    "    | {Nuts, Diaper} |       2       |\n",
    "    |  {Nuts, Eggs}  |       2       |\n",
    "    | {Diaper, Eggs} |       2       |"
   ]
  },
  {
   "cell_type": "markdown",
   "metadata": {
    "jupyter": {
     "source_hidden": true
    }
   },
   "source": [
    "4. Remove all elements which its support count is less than 3.\n",
    "\n",
    "    |    Elements    | Support Count |\n",
    "    | :------------: | :-----------: |\n",
    "    | {Beer, Diaper} |       3       |"
   ]
  },
  {
   "cell_type": "markdown",
   "metadata": {},
   "source": [
    "5. Now, we have found all of the frequent itemsets. Since the support count of the element `Beer` is the same as that of `{Beer, Diaper}`, `Beer` isn't a *close frequent pattern*. Also, because both `Beer` and `Diaper` are in the `{Beer, Diaper}`, so they aren't *maximum frequent pattern*.\n",
    "\n",
    "    | Frequent Item Sets | Support Count | Closed? | Maximum? |\n",
    "    |:------------------:|:-------------:|:-------:|:--------:|\n",
    "    |        Beer        |       3       |  False  |  False   |\n",
    "    |        Nuts        |       3       |  True   |   True   |\n",
    "    |       Diaper       |       4       |  True   |  False   |\n",
    "    |        Eggs        |       3       |  True   |   True   |\n",
    "    |    Beer, Diaper    |       3       |  True   |   True   |"
   ]
  },
  {
   "cell_type": "markdown",
   "metadata": {},
   "source": [
    "## Result and Analysis\n",
    "\n",
    "1. After calculation, *closed frequent itemsets* and *maximum frequent itemsets* are as follows:\n",
    "    ```python\n",
    "    CFI = {'Nuts', 'Diaper', 'Eggs', {'Beer', 'Diaper'}}\n",
    "    MFI = {'Nuts', 'Eggs', {'Beer', 'Diaper'}}\n",
    "    ```\n",
    "\n",
    "\n",
    "2. The *MFI* has lost some *FI* while calculation. They can't be expanded back to all *FI*. But the *CFI* saved all data in *FI*. It can be expanded into all *FI* dataset."
   ]
  }
 ],
 "metadata": {
  "kernelspec": {
   "display_name": "Python 3",
   "language": "python",
   "name": "python3"
  },
  "language_info": {
   "codemirror_mode": {
    "name": "ipython",
    "version": 3
   },
   "file_extension": ".py",
   "mimetype": "text/x-python",
   "name": "python",
   "nbconvert_exporter": "python",
   "pygments_lexer": "ipython3",
   "version": "3.7.4"
  }
 },
 "nbformat": 4,
 "nbformat_minor": 4
}
