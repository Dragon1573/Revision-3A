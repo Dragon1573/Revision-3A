{
 "cells": [
  {
   "cell_type": "markdown",
   "metadata": {},
   "source": [
    "# Lesson 3"
   ]
  },
  {
   "cell_type": "markdown",
   "metadata": {},
   "source": [
    "1. In real-world data, tuples with *missing values* for some attributes are a common occurrence. Describe various methods for handling this problem.\n",
    "\n",
    "    > There are 6 ways to handle it. They are:\n",
    "    > 1. Just ignore these incomplete tuples.\n",
    "    > 2. Fill in the missing value manually.\n",
    "    > 3. Use a global constant to fill in the missing value.\n",
    "    > 4. Use a measure of central tendency for the attribute (e.g., the *mean* or *median*) to fill in the missing value.\n",
    "    > 5. Use the attribute *mean* or *median* for all samples belonging to the same class as the given tuple.\n",
    "    > 6. Use the most probable value to fill in the missing value."
   ]
  },
  {
   "cell_type": "markdown",
   "metadata": {},
   "source": [
    "2. *Exercise 2.2* gave the folowing data (in increasing order) for the attribute *age*: `13, 15, 16, 16, 19, 20, 20, 21, 22, 22, 25, 25, 25, 25, 30, 33, 33, 35, 35, 35, 35, 36, 40, 45, 46, 52, 70`.\n",
    "    1. Use *smoothing by bin means* to smooth these data, using a bin depth of 3. Illustrate your steps. Comment on the effect of this technique of the given data.\n",
    "        > 1. Divide the given dataset into 9 buckets with 3 elements per bucket.\n",
    "        > 2. Calculate the *mean* of each bucket.\n",
    "        > 3. Replace every element by the *mean* value in each bucket.\n",
    "        >\n",
    "        > | Bucket | Data_1 | Data_2 | Data_3 | Mean |\n",
    "        > | :----- | -----: | -----: | -----: | ---: |\n",
    "        > | 1      |     13 |     15 |     16 | 14.7 |\n",
    "        > | 2      |     16 |     19 |     20 | 18.3 |\n",
    "        > | 3      |     20 |     21 |     22 | 21.0 |\n",
    "        > | 4      |     22 |     25 |     25 | 24.0 |\n",
    "        > | 5      |     25 |     25 |     30 | 26.7 |\n",
    "        > | 6      |     33 |     33 |     35 | 33.7 |\n",
    "        > | 7      |     35 |     35 |     35 | 35.0 |\n",
    "        > | 8      |     36 |     40 |     45 | 40.3 |\n",
    "        > | 9      |     46 |     52 |     70 | 56.0 |\n",
    "    \n",
    "    2. How might you determine *outliers* in the data?\n",
    "        > 1. Using *clustering*. Intuitively, values that fall outside of the set of clusters may be considered outliers.\n",
    "        > 2. Using *maximum and minimum observations*. In the previous chapters, we find out the *5 Number Summary* of the dataset. If a value is smaller than *minimum observation* or larger than *maximum observation*, it may be considered outliers.\n",
    "    \n",
    "    3. What other methods are there for data smoothing?\n",
    "        > There are bining, regression and clustering."
   ]
  },
  {
   "cell_type": "markdown",
   "metadata": {},
   "source": [
    "3. Discussing issues to consider during *data integration*.\n",
    "    > There are issues to consider such as *Entity Identification Problem*, *Redundancy*, *Tuple Dulplication* and *Data Value Conflict*."
   ]
  },
  {
   "cell_type": "markdown",
   "metadata": {},
   "source": [
    "4. What are the value ranges of the following *normalization methods*?\n",
    "\n",
    "    1. min-max normalization\n",
    "    2. z-score normalization\n",
    "    3. z-scroe normalization using the mean absolute deviation instead of standard deviation.\n",
    "    4. normalization by decimal scaling.\n",
    "\n",
    "> *Min-max normalization* will squash all values into a range from 0 to 1.\n",
    ">\n",
    "> The value range of *z-score normalization* is based on the *mean* and *standard deviation* of raw data. Although it has squashed by normalization, the value range is still unknown.\n",
    ">\n",
    "> The same as above, the value range of *z-score normalization using the mean absolute deviation instead of standard deviation* is unknown too.\n",
    ">\n",
    "> *Normalization by decimal scaling* will squash all values into a range from -1 to 1."
   ]
  },
  {
   "cell_type": "markdown",
   "metadata": {},
   "source": [
    "5. Use these methods to *normalize* the following group of data:\n",
    "\n",
    "$$\n",
    "200,300,400,600,1000\n",
    "$$\n",
    "\n",
    "    1. min-max normalization by setting *min* = 0 and *max* = 1\n",
    "    2. z-score normalization\n",
    "    3. z-scroe normalization using the mean absolute deviation instead of standard deviation.\n",
    "    4. normalization by decimal scaling."
   ]
  },
  {
   "cell_type": "code",
   "execution_count": 1,
   "metadata": {
    "jupyter": {
     "source_hidden": true
    }
   },
   "outputs": [
    {
     "data": {
      "text/html": [
       "<div>\n",
       "<style scoped>\n",
       "    .dataframe tbody tr th:only-of-type {\n",
       "        vertical-align: middle;\n",
       "    }\n",
       "\n",
       "    .dataframe tbody tr th {\n",
       "        vertical-align: top;\n",
       "    }\n",
       "\n",
       "    .dataframe thead th {\n",
       "        text-align: right;\n",
       "    }\n",
       "</style>\n",
       "<table border=\"1\" class=\"dataframe\">\n",
       "  <thead>\n",
       "    <tr style=\"text-align: right;\">\n",
       "      <th></th>\n",
       "      <th>Raw Data</th>\n",
       "      <th>Min-max</th>\n",
       "      <th>Z-score.std</th>\n",
       "      <th>Z-score.abs</th>\n",
       "      <th>Dec-Scale</th>\n",
       "    </tr>\n",
       "  </thead>\n",
       "  <tbody>\n",
       "    <tr>\n",
       "      <td>0</td>\n",
       "      <td>200</td>\n",
       "      <td>0.000</td>\n",
       "      <td>-1.060660</td>\n",
       "      <td>-1.250000</td>\n",
       "      <td>0.02</td>\n",
       "    </tr>\n",
       "    <tr>\n",
       "      <td>1</td>\n",
       "      <td>300</td>\n",
       "      <td>0.125</td>\n",
       "      <td>-0.707107</td>\n",
       "      <td>-0.833333</td>\n",
       "      <td>0.03</td>\n",
       "    </tr>\n",
       "    <tr>\n",
       "      <td>2</td>\n",
       "      <td>400</td>\n",
       "      <td>0.250</td>\n",
       "      <td>-0.353553</td>\n",
       "      <td>-0.416667</td>\n",
       "      <td>0.04</td>\n",
       "    </tr>\n",
       "    <tr>\n",
       "      <td>3</td>\n",
       "      <td>600</td>\n",
       "      <td>0.500</td>\n",
       "      <td>0.353553</td>\n",
       "      <td>0.416667</td>\n",
       "      <td>0.06</td>\n",
       "    </tr>\n",
       "    <tr>\n",
       "      <td>4</td>\n",
       "      <td>1000</td>\n",
       "      <td>1.000</td>\n",
       "      <td>1.767767</td>\n",
       "      <td>2.083333</td>\n",
       "      <td>0.10</td>\n",
       "    </tr>\n",
       "  </tbody>\n",
       "</table>\n",
       "</div>"
      ],
      "text/plain": [
       "   Raw Data  Min-max  Z-score.std  Z-score.abs  Dec-Scale\n",
       "0       200    0.000    -1.060660    -1.250000       0.02\n",
       "1       300    0.125    -0.707107    -0.833333       0.03\n",
       "2       400    0.250    -0.353553    -0.416667       0.04\n",
       "3       600    0.500     0.353553     0.416667       0.06\n",
       "4      1000    1.000     1.767767     2.083333       0.10"
      ]
     },
     "execution_count": 1,
     "metadata": {},
     "output_type": "execute_result"
    }
   ],
   "source": [
    "import pandas\n",
    "import numpy\n",
    "\n",
    "\n",
    "array = numpy.array([200, 300, 400, 600, 1000])\n",
    "frame = pandas.DataFrame({'Raw Data': array})\n",
    "\n",
    "minimum = array.min()\n",
    "maximum = array.max()\n",
    "frame['Min-max'] = [\n",
    "    (elem - minimum) / (maximum - minimum) for elem in array\n",
    "]\n",
    "\n",
    "average = array.mean()\n",
    "standard_deviation = array.std()\n",
    "frame['Z-score.std'] = [\n",
    "    (elem - average) / standard_deviation for elem in array\n",
    "]\n",
    "\n",
    "absolutes = numpy.array([abs(elem - average) for elem in array])\n",
    "absolute_deviation = absolutes.mean()\n",
    "frame['Z-score.abs'] = [\n",
    "    (elem - average) / absolute_deviation\n",
    "    for elem in array\n",
    "]\n",
    "\n",
    "frame['Dec-Scale'] = [elem / (10 ** 4) for elem in array]\n",
    "frame"
   ]
  }
 ],
 "metadata": {
  "kernelspec": {
   "display_name": "Python 3",
   "language": "python",
   "name": "python3"
  },
  "language_info": {
   "codemirror_mode": {
    "name": "ipython",
    "version": 3
   },
   "file_extension": ".py",
   "mimetype": "text/x-python",
   "name": "python",
   "nbconvert_exporter": "python",
   "pygments_lexer": "ipython3",
   "version": "3.7.4"
  }
 },
 "nbformat": 4,
 "nbformat_minor": 4
}
